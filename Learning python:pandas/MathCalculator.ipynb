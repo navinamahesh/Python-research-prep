{
 "cells": [
  {
   "cell_type": "code",
   "execution_count": 2,
   "metadata": {},
   "outputs": [
    {
     "name": "stdout",
     "output_type": "stream",
     "text": [
      "1\n",
      "0\n",
      "1024\n"
     ]
    }
   ],
   "source": [
    "#calculates the tenth power of any number\n",
    "def tenth_power(number):\n",
    "    return (number**10)\n",
    "print(tenth_power(1))\n",
    "print(tenth_power(0))\n",
    "print(tenth_power(2))"
   ]
  },
  {
   "cell_type": "code",
   "execution_count": 4,
   "metadata": {},
   "outputs": [
    {
     "name": "stdout",
     "output_type": "stream",
     "text": [
      "4.0\n",
      "10.0\n"
     ]
    }
   ],
   "source": [
    "#calculates the square root of any number\n",
    "def square_root(number):\n",
    "    return (number**(1/2))\n",
    "print(square_root(16))\n",
    "print(square_root(100))"
   ]
  },
  {
   "cell_type": "code",
   "execution_count": 10,
   "metadata": {},
   "outputs": [
    {
     "name": "stdout",
     "output_type": "stream",
     "text": [
      "50.0\n",
      "100.0\n"
     ]
    }
   ],
   "source": [
    "#calculates the total percentage of wins and losses based on arguments provided in function\n",
    "def win_percentage(wins,losses):\n",
    "    total = wins + losses\n",
    "    win_percentage = (wins/total)*100\n",
    "    loss_percentage = (losses/total)*100\n",
    "    return (win_percentage)\n",
    "print(win_percentage(5,5))\n",
    "print(win_percentage(10,0))"
   ]
  },
  {
   "cell_type": "code",
   "execution_count": 12,
   "metadata": {},
   "outputs": [
    {
     "name": "stdout",
     "output_type": "stream",
     "text": [
      "50.5\n",
      "0.0\n"
     ]
    }
   ],
   "source": [
    "#calculates the average\n",
    "def average(num1,num2):\n",
    "    return ((num1+num2)/2)\n",
    "print(average(1,100))\n",
    "print(average(1,-1))"
   ]
  },
  {
   "cell_type": "code",
   "execution_count": 17,
   "metadata": {},
   "outputs": [
    {
     "name": "stdout",
     "output_type": "stream",
     "text": [
      "2.0\n",
      "0.0\n"
     ]
    }
   ],
   "source": [
    "#calculates the remainder of twice num1 divided by half of num2\n",
    "def remainder(num1, num2):\n",
    "    double_num1 = num1*2\n",
    "    half_num2 = num2/2\n",
    "    remainder = double_num1%half_num2\n",
    "    return remainder\n",
    "print(remainder(15,14))\n",
    "print(remainder(9,6))"
   ]
  },
  {
   "cell_type": "code",
   "execution_count": null,
   "metadata": {},
   "outputs": [],
   "source": []
  },
  {
   "cell_type": "code",
   "execution_count": null,
   "metadata": {},
   "outputs": [],
   "source": []
  }
 ],
 "metadata": {
  "kernelspec": {
   "display_name": "Python 3",
   "language": "python",
   "name": "python3"
  },
  "language_info": {
   "codemirror_mode": {
    "name": "ipython",
    "version": 3
   },
   "file_extension": ".py",
   "mimetype": "text/x-python",
   "name": "python",
   "nbconvert_exporter": "python",
   "pygments_lexer": "ipython3",
   "version": "3.7.4"
  }
 },
 "nbformat": 4,
 "nbformat_minor": 4
}
