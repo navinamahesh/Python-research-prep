{
 "cells": [
  {
   "cell_type": "code",
   "execution_count": 6,
   "metadata": {},
   "outputs": [
    {
     "name": "stdout",
     "output_type": "stream",
     "text": [
      "37.77777777777778\n",
      "62.77777777777778\n"
     ]
    }
   ],
   "source": [
    "def f_to_c(f_temp):  \n",
    "    c_temp = (f_temp - 32) * (5/9)\n",
    "    return c_temp\n",
    "f100_in_celsius = f_to_c(100)\n",
    "print(f100_in_celsius)\n",
    "print(f_to_c(145))"
   ]
  },
  {
   "cell_type": "code",
   "execution_count": 13,
   "metadata": {},
   "outputs": [
    {
     "name": "stdout",
     "output_type": "stream",
     "text": [
      "32.0\n"
     ]
    }
   ],
   "source": [
    "def c_to_f(c_temp):\n",
    "    f_temp = (c_temp) * (9/5) + 32\n",
    "    return f_temp\n",
    "print(c_to_f(0))"
   ]
  },
  {
   "cell_type": "code",
   "execution_count": 10,
   "metadata": {},
   "outputs": [],
   "source": [
    "train_mass = 22680"
   ]
  },
  {
   "cell_type": "code",
   "execution_count": 11,
   "metadata": {},
   "outputs": [],
   "source": [
    "train_acceleration = 10"
   ]
  },
  {
   "cell_type": "code",
   "execution_count": 20,
   "metadata": {},
   "outputs": [],
   "source": [
    "train_distance = 100"
   ]
  },
  {
   "cell_type": "code",
   "execution_count": 12,
   "metadata": {},
   "outputs": [
    {
     "name": "stdout",
     "output_type": "stream",
     "text": [
      "226800\n"
     ]
    }
   ],
   "source": [
    "def get_force(mass,acceleration):\n",
    "    return (mass*acceleration)\n",
    "train_force = get_force(train_mass,train_acceleration)\n",
    "print(train_force)"
   ]
  },
  {
   "cell_type": "code",
   "execution_count": 16,
   "metadata": {},
   "outputs": [
    {
     "name": "stdout",
     "output_type": "stream",
     "text": [
      "90000000000000000\n"
     ]
    }
   ],
   "source": [
    "def get_energy(mass,c=3*10**8):\n",
    "    return (mass * (c**2))\n",
    "print(get_energy(1))"
   ]
  },
  {
   "cell_type": "code",
   "execution_count": 21,
   "metadata": {},
   "outputs": [
    {
     "name": "stdout",
     "output_type": "stream",
     "text": [
      "22680000\n"
     ]
    }
   ],
   "source": [
    "def get_work(mass,acceleration,distance):\n",
    "    force = get_force(mass,acceleration)\n",
    "    work = force * distance\n",
    "    return work\n",
    "print(get_work(train_mass,train_acceleration,train_distance))"
   ]
  },
  {
   "cell_type": "code",
   "execution_count": null,
   "metadata": {},
   "outputs": [],
   "source": []
  }
 ],
 "metadata": {
  "kernelspec": {
   "display_name": "Python 3",
   "language": "python",
   "name": "python3"
  },
  "language_info": {
   "codemirror_mode": {
    "name": "ipython",
    "version": 3
   },
   "file_extension": ".py",
   "mimetype": "text/x-python",
   "name": "python",
   "nbconvert_exporter": "python",
   "pygments_lexer": "ipython3",
   "version": "3.7.4"
  }
 },
 "nbformat": 4,
 "nbformat_minor": 4
}
