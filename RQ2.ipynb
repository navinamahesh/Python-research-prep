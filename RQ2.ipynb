{
 "cells": [
  {
   "cell_type": "code",
   "execution_count": 46,
   "metadata": {},
   "outputs": [],
   "source": [
    "import pandas as pd\n",
    "from pandas import Series, DataFrame\n",
    "import matplotlib.pyplot as plt\n",
    "import numpy as np\n",
    "import plotly.graph_objects as go\n",
    "from scipy import stats\n",
    "\n",
    "presurvey1 = \"Data/Fall 2019/CSE 8A Fall 2019 DeID/presurvey.csv\"\n",
    "gradebook1 = \"Data/Fall 2019/CSE 8A Fall 2019 DeID/gradebook.csv\"\n",
    "presurvey2 = \"Data/Fall 2019/CSE 11 Fall 2019 DeID/presurvey.csv\"\n",
    "gradebook2 = \"Data/Fall 2019/CSE 11 Fall 2019 DeID/gradebook.csv\"\n",
    "presurvey3 = \"Data/Fall 2019/CSE 12 Fall 2019 DeID/presurvey.csv\"\n",
    "gradebook3 = \"Data/Fall 2019/CSE 12 Fall 2019 DeID/gradebook.csv\""
   ]
  },
  {
   "cell_type": "code",
   "execution_count": 47,
   "metadata": {},
   "outputs": [],
   "source": [
    "reflections2 = []\n",
    "for i in range (1,9):\n",
    "    reflections2.append(pd.read_csv(\"Data/Fall 2019/CSE 11 Fall 2019 DeID/R\" +str(i)+\".csv\"))"
   ]
  },
  {
   "cell_type": "code",
   "execution_count": 48,
   "metadata": {},
   "outputs": [],
   "source": [
    "reflections3 = []\n",
    "for i in range (1,11):\n",
    "    reflections3.append(pd.read_csv(\"Data/Fall 2019/CSE 12 Fall 2019 DeID/R\" +str(i)+\".csv\"))"
   ]
  },
  {
   "cell_type": "code",
   "execution_count": 49,
   "metadata": {},
   "outputs": [],
   "source": [
    "reflections1 = []\n",
    "for i in range (1,9):\n",
    "    reflections1.append(pd.read_csv(\"Data/Fall 2019/CSE 8A Fall 2019 DeID/R\" +str(i)+\".csv\"))"
   ]
  },
  {
   "cell_type": "code",
   "execution_count": 50,
   "metadata": {},
   "outputs": [],
   "source": [
    "def scaled_categories(reflections, presurvey, category, label, x, scale1, scale5):\n",
    "    categoryIssue = 0\n",
    "    for i in range(x):\n",
    "        reflections[i][category] = reflections[i][category].replace(to_replace = scale1, value = 1)\n",
    "        reflections[i][category] = reflections[i][category].replace(to_replace = \"2\", value = 2)\n",
    "        reflections[i][category] = reflections[i][category].replace(to_replace = \"3\", value = 3)\n",
    "        reflections[i][category] = reflections[i][category].replace(to_replace = \"4\", value = 4)    \n",
    "        reflections[i][category] = reflections[i][category].replace(to_replace = scale5, value = 5)\n",
    "        category_issue = reflections[i][category]\n",
    "        DeID = reflections[i][\"DeID\"]\n",
    "        s = label + str(i) \n",
    "        cat = DataFrame({\"DeID\": DeID, s: category_issue})\n",
    "        if i == 0:\n",
    "            categoryIssue = cat\n",
    "        else:\n",
    "            categoryIssue = pd.merge(categoryIssue, cat, on=\"DeID\")\n",
    "            \n",
    "    df = pd.read_csv(presurvey)\n",
    "    status = df[\"Did.you.enter.UCSD.as.a.transfer.student.from.another..2.year.or.4.year..college.or.university.\"] == \"Yes\"\n",
    "    DeID = df[\"DeID\"]\n",
    "    transferStatus = DataFrame({\"DeID\": DeID, \"Transfer Status\": status})\n",
    "\n",
    "    mergedData = pd.merge(transferStatus, categoryIssue, on=\"DeID\")\n",
    "    transfer = mergedData[mergedData[\"Transfer Status\"] == True]\n",
    "    native = mergedData[mergedData[\"Transfer Status\"] == False]\n",
    "    \n",
    "    return {'transfer' : transfer, 'native' : native}\n",
    "    "
   ]
  },
  {
   "cell_type": "code",
   "execution_count": null,
   "metadata": {},
   "outputs": [],
   "source": []
  },
  {
   "cell_type": "code",
   "execution_count": 72,
   "metadata": {},
   "outputs": [],
   "source": [
    "category = \"At.this.time..approximately.how.many.other.students.in.this.course.would.you.be.comfortable.reaching.out.to.study.with.\"\n",
    "label = \"# of People \"\n",
    "graphTitle = \"# of People you Feel Comfortable Reaching Out To\"\n",
    "X_title = \"Week\"\n",
    "Y_title = \"Number of Students\"\n",
    "x = 8\n",
    "scale1 = \"1\"\n",
    "scale5 = \"5\"\n",
    "\n",
    "data = scaled_categories(reflections1, presurvey1, category, label, x, scale1, scale5)\n",
    "transfer1 = data['transfer']\n",
    "native1 = data['native'] \n",
    "data = scaled_categories(reflections2, presurvey2, category, label, x, scale1, scale5)\n",
    "transfer2 = data['transfer']\n",
    "native2 = data['native'] \n",
    "\n",
    "x = 10\n",
    "data = scaled_categories(reflections3, presurvey3, category, label, x, scale1, scale5)\n",
    "transfer3 = data['transfer']\n",
    "native3 = data['native'] "
   ]
  },
  {
   "cell_type": "code",
   "execution_count": 85,
   "metadata": {},
   "outputs": [],
   "source": [
    "x_label1 = [\"Week 2\", \"Week 3\", \"Week 4\", \"Week 5\", \"Week 6\", \"Week 7\", \"Week 8\", \"Week 9\"]\n",
    "x_label2 = [\"Week 1\", \"Week 2\", \"Week 3\", \"Week 4\", \"Week 5\", \"Week 6\", \"Week 7\", \"Week 8\", \"Week 9\", \"Week 10\"]\n",
    "\n",
    "x=8\n",
    "transfer = transfer1\n",
    "native = native1\n",
    "\n",
    "transferIssues = []\n",
    "nativeIssues = []\n",
    "difference = []\n",
    "utestStatistics = []\n",
    "pValuesU = []\n",
    "\n",
    "for i in range(x):\n",
    "    df = pd.DataFrame({label+str(i):transfer[label+str(i)]})\n",
    "    df = df[df[label+str(i)] >= 0]\n",
    "    df['z_score']=stats.zscore(df[label+str(i)])\n",
    "    transferRefined = df[df['z_score'].abs()<2.5]\n",
    "\n",
    "    df = pd.DataFrame({label+str(i):native[label+str(i)]})\n",
    "    df = df[df[label+str(i)] >= 0]\n",
    "    df['z_score']=stats.zscore(df[label+str(i)])\n",
    "    nativeRefined = df[df['z_score'].abs()<2.5]\n",
    "\n",
    "    transferIssues.append(transferRefined[label+str(i)].mean())\n",
    "    nativeIssues.append(nativeRefined[label+str(i)].mean())\n",
    "    difference.append(transferIssues[i] - nativeIssues[i])\n",
    "    ttest_results = stats.ttest_ind(transferRefined[label+str(i)], nativeRefined[label+str(i)])\n",
    "    utest_results = stats.mannwhitneyu(transferRefined[label+str(i)], nativeRefined[label+str(i)])\n",
    "    utestStatistics.append(utest_results[0])\n",
    "    pValuesU.append(utest_results[1])\n",
    "\n",
    "df1 = DataFrame({\"Week\" : Series(x_label1), \n",
    "                \"Transfer Mean\" : Series(transferIssues), \n",
    "                \"Native Mean\" : Series(nativeIssues), \n",
    "                \"Difference\" : difference,\n",
    "                \"p-value (u-test)\" : pValuesU,\n",
    "                \"Test Statistic (u-test)\" : utestStatistics})\n",
    "\n",
    "transfer = transfer2\n",
    "native = native2\n",
    "\n",
    "transferIssues = []\n",
    "nativeIssues = []\n",
    "difference = []\n",
    "utestStatistics = []\n",
    "pValuesU = []\n",
    "\n",
    "for i in range(x):\n",
    "    df = pd.DataFrame({label+str(i):transfer[label+str(i)]})\n",
    "    df = df[df[label+str(i)] >= 0]\n",
    "    df['z_score']=stats.zscore(df[label+str(i)])\n",
    "    transferRefined = df[df['z_score'].abs()<2.5]\n",
    "\n",
    "    df = pd.DataFrame({label+str(i):native[label+str(i)]})\n",
    "    df = df[df[label+str(i)] >= 0]\n",
    "    df['z_score']=stats.zscore(df[label+str(i)])\n",
    "    nativeRefined = df[df['z_score'].abs()<2.5]\n",
    "\n",
    "    transferIssues.append(transferRefined[label+str(i)].mean())\n",
    "    nativeIssues.append(nativeRefined[label+str(i)].mean())\n",
    "    difference.append(transferIssues[i] - nativeIssues[i])\n",
    "    ttest_results = stats.ttest_ind(transferRefined[label+str(i)], nativeRefined[label+str(i)])\n",
    "    utest_results = stats.mannwhitneyu(transferRefined[label+str(i)], nativeRefined[label+str(i)])\n",
    "    utestStatistics.append(utest_results[0])\n",
    "    pValuesU.append(utest_results[1])\n",
    "\n",
    "df2 = DataFrame({\"Week\" : Series(x_label1), \n",
    "                \"Transfer Mean\" : Series(transferIssues), \n",
    "                \"Native Mean\" : Series(nativeIssues), \n",
    "                \"Difference\" : difference,\n",
    "                \"p-value (u-test)\" : pValuesU,\n",
    "                \"Test Statistic (u-test)\" : utestStatistics})\n",
    "\n",
    "\n",
    "x=10\n",
    "transfer = transfer3\n",
    "native = native3\n",
    "\n",
    "transferIssues = []\n",
    "nativeIssues = []\n",
    "difference = []\n",
    "utestStatistics = []\n",
    "pValuesU = []\n",
    "\n",
    "for i in range(x):\n",
    "    df = pd.DataFrame({label+str(i):transfer[label+str(i)]})\n",
    "    df = df[df[label+str(i)] >= 0]\n",
    "    df['z_score']=stats.zscore(df[label+str(i)])\n",
    "    transferRefined = df[df['z_score'].abs()<2.5]\n",
    "\n",
    "    df = pd.DataFrame({label+str(i):native[label+str(i)]})\n",
    "    df = df[df[label+str(i)] >= 0]\n",
    "    df['z_score']=stats.zscore(df[label+str(i)])\n",
    "    nativeRefined = df[df['z_score'].abs()<2.5]\n",
    "\n",
    "    transferIssues.append(transferRefined[label+str(i)].mean())\n",
    "    nativeIssues.append(nativeRefined[label+str(i)].mean())\n",
    "    difference.append(transferIssues[i] - nativeIssues[i])\n",
    "    ttest_results = stats.ttest_ind(transferRefined[label+str(i)], nativeRefined[label+str(i)])\n",
    "    utest_results = stats.mannwhitneyu(transferRefined[label+str(i)], nativeRefined[label+str(i)])\n",
    "    utestStatistics.append(utest_results[0])\n",
    "    pValuesU.append(utest_results[1])\n",
    "\n",
    "df3 = DataFrame({\"Week\" : Series(x_label2), \n",
    "                \"Transfer Mean\" : Series(transferIssues), \n",
    "                \"Native Mean\" : Series(nativeIssues), \n",
    "                \"Difference\" : difference,\n",
    "                \"p-value (u-test)\" : pValuesU,\n",
    "                \"Test Statistic (u-test)\" : utestStatistics})\n"
   ]
  },
  {
   "cell_type": "code",
   "execution_count": 169,
   "metadata": {},
   "outputs": [
    {
     "data": {
      "text/plain": [
       "'CS 1:'"
      ]
     },
     "metadata": {},
     "output_type": "display_data"
    },
    {
     "data": {
      "text/html": [
       "<div>\n",
       "<style scoped>\n",
       "    .dataframe tbody tr th:only-of-type {\n",
       "        vertical-align: middle;\n",
       "    }\n",
       "\n",
       "    .dataframe tbody tr th {\n",
       "        vertical-align: top;\n",
       "    }\n",
       "\n",
       "    .dataframe thead th {\n",
       "        text-align: right;\n",
       "    }\n",
       "</style>\n",
       "<table border=\"1\" class=\"dataframe\">\n",
       "  <thead>\n",
       "    <tr style=\"text-align: right;\">\n",
       "      <th></th>\n",
       "      <th>Week</th>\n",
       "      <th>Transfer Mean</th>\n",
       "      <th>Native Mean</th>\n",
       "      <th>Difference</th>\n",
       "      <th>p-value (u-test)</th>\n",
       "      <th>Test Statistic (u-test)</th>\n",
       "    </tr>\n",
       "  </thead>\n",
       "  <tbody>\n",
       "    <tr>\n",
       "      <th>0</th>\n",
       "      <td>Week 2</td>\n",
       "      <td>2.000000</td>\n",
       "      <td>3.423077</td>\n",
       "      <td>-1.423077</td>\n",
       "      <td>0.020260</td>\n",
       "      <td>1072.5</td>\n",
       "    </tr>\n",
       "    <tr>\n",
       "      <th>1</th>\n",
       "      <td>Week 3</td>\n",
       "      <td>2.357143</td>\n",
       "      <td>4.009569</td>\n",
       "      <td>-1.652427</td>\n",
       "      <td>0.011973</td>\n",
       "      <td>941.0</td>\n",
       "    </tr>\n",
       "    <tr>\n",
       "      <th>2</th>\n",
       "      <td>Week 4</td>\n",
       "      <td>3.357143</td>\n",
       "      <td>4.168269</td>\n",
       "      <td>-0.811126</td>\n",
       "      <td>0.076674</td>\n",
       "      <td>1126.5</td>\n",
       "    </tr>\n",
       "    <tr>\n",
       "      <th>3</th>\n",
       "      <td>Week 5</td>\n",
       "      <td>1.500000</td>\n",
       "      <td>5.038278</td>\n",
       "      <td>-3.538278</td>\n",
       "      <td>0.000026</td>\n",
       "      <td>524.5</td>\n",
       "    </tr>\n",
       "    <tr>\n",
       "      <th>4</th>\n",
       "      <td>Week 6</td>\n",
       "      <td>1.714286</td>\n",
       "      <td>4.543269</td>\n",
       "      <td>-2.828984</td>\n",
       "      <td>0.000109</td>\n",
       "      <td>603.5</td>\n",
       "    </tr>\n",
       "    <tr>\n",
       "      <th>5</th>\n",
       "      <td>Week 7</td>\n",
       "      <td>2.642857</td>\n",
       "      <td>4.777778</td>\n",
       "      <td>-2.134921</td>\n",
       "      <td>0.005355</td>\n",
       "      <td>863.0</td>\n",
       "    </tr>\n",
       "    <tr>\n",
       "      <th>6</th>\n",
       "      <td>Week 8</td>\n",
       "      <td>2.000000</td>\n",
       "      <td>4.779904</td>\n",
       "      <td>-2.779904</td>\n",
       "      <td>0.000453</td>\n",
       "      <td>693.5</td>\n",
       "    </tr>\n",
       "    <tr>\n",
       "      <th>7</th>\n",
       "      <td>Week 9</td>\n",
       "      <td>2.571429</td>\n",
       "      <td>5.019139</td>\n",
       "      <td>-2.447710</td>\n",
       "      <td>0.001674</td>\n",
       "      <td>782.0</td>\n",
       "    </tr>\n",
       "  </tbody>\n",
       "</table>\n",
       "</div>"
      ],
      "text/plain": [
       "     Week  Transfer Mean  Native Mean  Difference  p-value (u-test)  \\\n",
       "0  Week 2       2.000000     3.423077   -1.423077          0.020260   \n",
       "1  Week 3       2.357143     4.009569   -1.652427          0.011973   \n",
       "2  Week 4       3.357143     4.168269   -0.811126          0.076674   \n",
       "3  Week 5       1.500000     5.038278   -3.538278          0.000026   \n",
       "4  Week 6       1.714286     4.543269   -2.828984          0.000109   \n",
       "5  Week 7       2.642857     4.777778   -2.134921          0.005355   \n",
       "6  Week 8       2.000000     4.779904   -2.779904          0.000453   \n",
       "7  Week 9       2.571429     5.019139   -2.447710          0.001674   \n",
       "\n",
       "   Test Statistic (u-test)  \n",
       "0                   1072.5  \n",
       "1                    941.0  \n",
       "2                   1126.5  \n",
       "3                    524.5  \n",
       "4                    603.5  \n",
       "5                    863.0  \n",
       "6                    693.5  \n",
       "7                    782.0  "
      ]
     },
     "metadata": {},
     "output_type": "display_data"
    },
    {
     "data": {
      "text/plain": [
       "'CS 1A:'"
      ]
     },
     "metadata": {},
     "output_type": "display_data"
    },
    {
     "data": {
      "text/html": [
       "<div>\n",
       "<style scoped>\n",
       "    .dataframe tbody tr th:only-of-type {\n",
       "        vertical-align: middle;\n",
       "    }\n",
       "\n",
       "    .dataframe tbody tr th {\n",
       "        vertical-align: top;\n",
       "    }\n",
       "\n",
       "    .dataframe thead th {\n",
       "        text-align: right;\n",
       "    }\n",
       "</style>\n",
       "<table border=\"1\" class=\"dataframe\">\n",
       "  <thead>\n",
       "    <tr style=\"text-align: right;\">\n",
       "      <th></th>\n",
       "      <th>Week</th>\n",
       "      <th>Transfer Mean</th>\n",
       "      <th>Native Mean</th>\n",
       "      <th>Difference</th>\n",
       "      <th>p-value (u-test)</th>\n",
       "      <th>Test Statistic (u-test)</th>\n",
       "    </tr>\n",
       "  </thead>\n",
       "  <tbody>\n",
       "    <tr>\n",
       "      <th>0</th>\n",
       "      <td>Week 2</td>\n",
       "      <td>1.812500</td>\n",
       "      <td>5.664975</td>\n",
       "      <td>-3.852475</td>\n",
       "      <td>0.000172</td>\n",
       "      <td>734.5</td>\n",
       "    </tr>\n",
       "    <tr>\n",
       "      <th>1</th>\n",
       "      <td>Week 3</td>\n",
       "      <td>2.125000</td>\n",
       "      <td>5.863636</td>\n",
       "      <td>-3.738636</td>\n",
       "      <td>0.000300</td>\n",
       "      <td>774.0</td>\n",
       "    </tr>\n",
       "    <tr>\n",
       "      <th>2</th>\n",
       "      <td>Week 4</td>\n",
       "      <td>2.062500</td>\n",
       "      <td>6.291457</td>\n",
       "      <td>-4.228957</td>\n",
       "      <td>0.000145</td>\n",
       "      <td>731.0</td>\n",
       "    </tr>\n",
       "    <tr>\n",
       "      <th>3</th>\n",
       "      <td>Week 5</td>\n",
       "      <td>2.187500</td>\n",
       "      <td>6.335025</td>\n",
       "      <td>-4.147525</td>\n",
       "      <td>0.000075</td>\n",
       "      <td>683.5</td>\n",
       "    </tr>\n",
       "    <tr>\n",
       "      <th>4</th>\n",
       "      <td>Week 6</td>\n",
       "      <td>2.200000</td>\n",
       "      <td>5.887179</td>\n",
       "      <td>-3.687179</td>\n",
       "      <td>0.000123</td>\n",
       "      <td>636.0</td>\n",
       "    </tr>\n",
       "    <tr>\n",
       "      <th>5</th>\n",
       "      <td>Week 7</td>\n",
       "      <td>2.333333</td>\n",
       "      <td>6.204082</td>\n",
       "      <td>-3.870748</td>\n",
       "      <td>0.000150</td>\n",
       "      <td>651.5</td>\n",
       "    </tr>\n",
       "    <tr>\n",
       "      <th>6</th>\n",
       "      <td>Week 8</td>\n",
       "      <td>2.533333</td>\n",
       "      <td>6.385787</td>\n",
       "      <td>-3.852453</td>\n",
       "      <td>0.000309</td>\n",
       "      <td>697.5</td>\n",
       "    </tr>\n",
       "    <tr>\n",
       "      <th>7</th>\n",
       "      <td>Week 9</td>\n",
       "      <td>3.375000</td>\n",
       "      <td>6.301020</td>\n",
       "      <td>-2.926020</td>\n",
       "      <td>0.003460</td>\n",
       "      <td>934.0</td>\n",
       "    </tr>\n",
       "  </tbody>\n",
       "</table>\n",
       "</div>"
      ],
      "text/plain": [
       "     Week  Transfer Mean  Native Mean  Difference  p-value (u-test)  \\\n",
       "0  Week 2       1.812500     5.664975   -3.852475          0.000172   \n",
       "1  Week 3       2.125000     5.863636   -3.738636          0.000300   \n",
       "2  Week 4       2.062500     6.291457   -4.228957          0.000145   \n",
       "3  Week 5       2.187500     6.335025   -4.147525          0.000075   \n",
       "4  Week 6       2.200000     5.887179   -3.687179          0.000123   \n",
       "5  Week 7       2.333333     6.204082   -3.870748          0.000150   \n",
       "6  Week 8       2.533333     6.385787   -3.852453          0.000309   \n",
       "7  Week 9       3.375000     6.301020   -2.926020          0.003460   \n",
       "\n",
       "   Test Statistic (u-test)  \n",
       "0                    734.5  \n",
       "1                    774.0  \n",
       "2                    731.0  \n",
       "3                    683.5  \n",
       "4                    636.0  \n",
       "5                    651.5  \n",
       "6                    697.5  \n",
       "7                    934.0  "
      ]
     },
     "metadata": {},
     "output_type": "display_data"
    },
    {
     "data": {
      "text/plain": [
       "'CS 2:'"
      ]
     },
     "metadata": {},
     "output_type": "display_data"
    },
    {
     "data": {
      "text/html": [
       "<div>\n",
       "<style scoped>\n",
       "    .dataframe tbody tr th:only-of-type {\n",
       "        vertical-align: middle;\n",
       "    }\n",
       "\n",
       "    .dataframe tbody tr th {\n",
       "        vertical-align: top;\n",
       "    }\n",
       "\n",
       "    .dataframe thead th {\n",
       "        text-align: right;\n",
       "    }\n",
       "</style>\n",
       "<table border=\"1\" class=\"dataframe\">\n",
       "  <thead>\n",
       "    <tr style=\"text-align: right;\">\n",
       "      <th></th>\n",
       "      <th>Week</th>\n",
       "      <th>Transfer Mean</th>\n",
       "      <th>Native Mean</th>\n",
       "      <th>Difference</th>\n",
       "      <th>p-value (u-test)</th>\n",
       "      <th>Test Statistic (u-test)</th>\n",
       "    </tr>\n",
       "  </thead>\n",
       "  <tbody>\n",
       "    <tr>\n",
       "      <th>0</th>\n",
       "      <td>Week 1</td>\n",
       "      <td>2.454545</td>\n",
       "      <td>2.031250</td>\n",
       "      <td>0.423295</td>\n",
       "      <td>0.250862</td>\n",
       "      <td>152.0</td>\n",
       "    </tr>\n",
       "    <tr>\n",
       "      <th>1</th>\n",
       "      <td>Week 2</td>\n",
       "      <td>2.727273</td>\n",
       "      <td>1.967742</td>\n",
       "      <td>0.759531</td>\n",
       "      <td>0.081896</td>\n",
       "      <td>122.5</td>\n",
       "    </tr>\n",
       "    <tr>\n",
       "      <th>2</th>\n",
       "      <td>Week 3</td>\n",
       "      <td>3.363636</td>\n",
       "      <td>2.000000</td>\n",
       "      <td>1.363636</td>\n",
       "      <td>0.019905</td>\n",
       "      <td>97.5</td>\n",
       "    </tr>\n",
       "    <tr>\n",
       "      <th>3</th>\n",
       "      <td>Week 4</td>\n",
       "      <td>4.727273</td>\n",
       "      <td>2.166667</td>\n",
       "      <td>2.560606</td>\n",
       "      <td>0.034965</td>\n",
       "      <td>104.0</td>\n",
       "    </tr>\n",
       "    <tr>\n",
       "      <th>4</th>\n",
       "      <td>Week 5</td>\n",
       "      <td>5.000000</td>\n",
       "      <td>1.966667</td>\n",
       "      <td>3.033333</td>\n",
       "      <td>0.007066</td>\n",
       "      <td>82.5</td>\n",
       "    </tr>\n",
       "    <tr>\n",
       "      <th>5</th>\n",
       "      <td>Week 6</td>\n",
       "      <td>6.000000</td>\n",
       "      <td>2.466667</td>\n",
       "      <td>3.533333</td>\n",
       "      <td>0.027272</td>\n",
       "      <td>100.0</td>\n",
       "    </tr>\n",
       "    <tr>\n",
       "      <th>6</th>\n",
       "      <td>Week 7</td>\n",
       "      <td>6.454545</td>\n",
       "      <td>2.366667</td>\n",
       "      <td>4.087879</td>\n",
       "      <td>0.011572</td>\n",
       "      <td>88.5</td>\n",
       "    </tr>\n",
       "    <tr>\n",
       "      <th>7</th>\n",
       "      <td>Week 8</td>\n",
       "      <td>5.909091</td>\n",
       "      <td>3.242424</td>\n",
       "      <td>2.666667</td>\n",
       "      <td>0.143599</td>\n",
       "      <td>142.5</td>\n",
       "    </tr>\n",
       "    <tr>\n",
       "      <th>8</th>\n",
       "      <td>Week 9</td>\n",
       "      <td>4.272727</td>\n",
       "      <td>3.242424</td>\n",
       "      <td>1.030303</td>\n",
       "      <td>0.096857</td>\n",
       "      <td>133.5</td>\n",
       "    </tr>\n",
       "    <tr>\n",
       "      <th>9</th>\n",
       "      <td>Week 10</td>\n",
       "      <td>5.000000</td>\n",
       "      <td>2.937500</td>\n",
       "      <td>2.062500</td>\n",
       "      <td>0.034488</td>\n",
       "      <td>111.0</td>\n",
       "    </tr>\n",
       "  </tbody>\n",
       "</table>\n",
       "</div>"
      ],
      "text/plain": [
       "      Week  Transfer Mean  Native Mean  Difference  p-value (u-test)  \\\n",
       "0   Week 1       2.454545     2.031250    0.423295          0.250862   \n",
       "1   Week 2       2.727273     1.967742    0.759531          0.081896   \n",
       "2   Week 3       3.363636     2.000000    1.363636          0.019905   \n",
       "3   Week 4       4.727273     2.166667    2.560606          0.034965   \n",
       "4   Week 5       5.000000     1.966667    3.033333          0.007066   \n",
       "5   Week 6       6.000000     2.466667    3.533333          0.027272   \n",
       "6   Week 7       6.454545     2.366667    4.087879          0.011572   \n",
       "7   Week 8       5.909091     3.242424    2.666667          0.143599   \n",
       "8   Week 9       4.272727     3.242424    1.030303          0.096857   \n",
       "9  Week 10       5.000000     2.937500    2.062500          0.034488   \n",
       "\n",
       "   Test Statistic (u-test)  \n",
       "0                    152.0  \n",
       "1                    122.5  \n",
       "2                     97.5  \n",
       "3                    104.0  \n",
       "4                     82.5  \n",
       "5                    100.0  \n",
       "6                     88.5  \n",
       "7                    142.5  \n",
       "8                    133.5  \n",
       "9                    111.0  "
      ]
     },
     "metadata": {},
     "output_type": "display_data"
    }
   ],
   "source": [
    "display(\"CS 1:\")\n",
    "display(df1)\n",
    "display(\"CS 1A:\")\n",
    "display(df2)\n",
    "display(\"CS 2:\")\n",
    "display(df3)"
   ]
  },
  {
   "cell_type": "code",
   "execution_count": 179,
   "metadata": {},
   "outputs": [
    {
     "data": {
      "text/plain": [
       "Text(0, 0.5, 'Number of Students')"
      ]
     },
     "execution_count": 179,
     "metadata": {},
     "output_type": "execute_result"
    },
    {
     "data": {
      "image/png": "[encoded data removed]",
      "text/plain": [
       "<Figure size 864x576 with 1 Axes>"
      ]
     },
     "metadata": {
      "needs_background": "light"
     },
     "output_type": "display_data"
    }
   ],
   "source": [
    "X_label = \"\"\n",
    "Y_label = \"# of Students\"\n",
    "graphTitle = \"Number of Other Students in the Class \\nTransfers and Native Students Feel Comfortable Reaching Out to Study With\"\n",
    "\n",
    "plt.figure(figsize=(12,8))\n",
    "plt.plot(x_label2, df3[\"Transfer Mean\"], \"-p\", color='blue' , linewidth=0.5, markersize=8)\n",
    "plt.plot(x_label2, df3[\"Native Mean\"], \"-p\", color='green', linewidth=0.5, markersize=8)\n",
    "plt.plot(x_label1, df2[\"Transfer Mean\"], \"-*\", color='blue', linewidth=0.5, markersize=8)\n",
    "plt.plot(x_label1, df2[\"Native Mean\"], \"-*\", color='green', linewidth=0.5, markersize=8)\n",
    "plt.plot(x_label1, df1[\"Transfer Mean\"], \"-X\", color='blue', linewidth=0.5, markersize=8)\n",
    "plt.plot(x_label1, df1[\"Native Mean\"], \"-X\", color='green', linewidth=0.5, markersize=8)\n",
    "plt.legend(['Tansfer CS 2', 'Native CS 2', 'Transfer CS 1A','Native CS 1A', 'Tansfer CS 1', 'Native CS 1'])\n",
    "plt.ylim(0, 10)\n",
    "plt.suptitle(graphTitle, fontsize=14)\n",
    "plt.xlabel(X_title, fontsize=10)\n",
    "plt.ylabel(Y_title, fontsize=10)"
   ]
  },
  {
   "cell_type": "code",
   "execution_count": 197,
   "metadata": {},
   "outputs": [
    {
     "data": {
      "application/vnd.plotly.v1+json": {
       "config": {
        "plotlyServerURL": "https://plot.ly"
       },
       "data": [
        {
         "marker": {
          "color": "#955ed2",
          "line": {
           "color": "#e44bb1",
           "width": 5
          },
          "size": 5,
          "symbol": "circle-dot"
         },
         "mode": "lines+markers",
         "name": "Transfer CS 2",
         "type": "scatter",
         "x": [
          "Week 1",
          "Week 2",
          "Week 3",
          "Week 4",
          "Week 5",
          "Week 6",
          "Week 7",
          "Week 8",
          "Week 9",
          "Week 10"
         ],
         "y": [
          2.4545454545454546,
          2.727272727272727,
          3.3636363636363638,
          4.7272727272727275,
          5,
          6,
          6.454545454545454,
          5.909090909090909,
          4.2727272727272725,
          5
         ]
        },
        {
         "marker": {
          "color": "#ffa600",
          "line": {
           "color": "#ff6361",
           "width": 5
          },
          "size": 5,
          "symbol": "circle-dot"
         },
         "mode": "lines+markers",
         "name": "Native CS 2",
         "type": "scatter",
         "x": [
          "Week 1",
          "Week 2",
          "Week 3",
          "Week 4",
          "Week 5",
          "Week 6",
          "Week 7",
          "Week 8",
          "Week 9",
          "Week 10"
         ],
         "y": [
          2.03125,
          1.967741935483871,
          2,
          2.1666666666666665,
          1.9666666666666666,
          2.466666666666667,
          2.3666666666666667,
          3.242424242424242,
          3.242424242424242,
          2.9375
         ]
        },
        {
         "marker": {
          "color": "#955ed2",
          "line": {
           "color": "#e44bb1",
           "width": 5
          },
          "size": 5,
          "symbol": "square"
         },
         "mode": "lines+markers",
         "name": "Transfer CS 1A",
         "type": "scatter",
         "x": [
          "Week 2",
          "Week 3",
          "Week 4",
          "Week 5",
          "Week 6",
          "Week 7",
          "Week 8",
          "Week 9"
         ],
         "y": [
          1.8125,
          2.125,
          2.0625,
          2.1875,
          2.2,
          2.3333333333333335,
          2.533333333333333,
          3.375
         ]
        },
        {
         "marker": {
          "color": "#ffa600",
          "line": {
           "color": "#ff6361",
           "width": 5
          },
          "size": 5,
          "symbol": "square"
         },
         "mode": "lines+markers",
         "name": "Native CS 1A",
         "type": "scatter",
         "x": [
          "Week 2",
          "Week 3",
          "Week 4",
          "Week 5",
          "Week 6",
          "Week 7",
          "Week 8",
          "Week 9"
         ],
         "y": [
          5.66497461928934,
          5.863636363636363,
          6.291457286432161,
          6.33502538071066,
          5.887179487179488,
          6.204081632653061,
          6.385786802030457,
          6.301020408163265
         ]
        },
        {
         "marker": {
          "color": "#955ed2",
          "line": {
           "color": "#e44bb1",
           "width": 5
          },
          "size": 5,
          "symbol": "triangle-up"
         },
         "mode": "lines+markers",
         "name": "Transfer CS 1",
         "type": "scatter",
         "x": [
          "Week 2",
          "Week 3",
          "Week 4",
          "Week 5",
          "Week 6",
          "Week 7",
          "Week 8",
          "Week 9"
         ],
         "y": [
          2,
          2.357142857142857,
          3.357142857142857,
          1.5,
          1.7142857142857142,
          2.642857142857143,
          2,
          2.5714285714285716
         ]
        },
        {
         "marker": {
          "color": "#ffa600",
          "line": {
           "color": "#ff6361",
           "width": 5
          },
          "size": 5,
          "symbol": "triangle-up"
         },
         "mode": "lines+markers",
         "name": "Native CS 1",
         "type": "scatter",
         "x": [
          "Week 2",
          "Week 3",
          "Week 4",
          "Week 5",
          "Week 6",
          "Week 7",
          "Week 8",
          "Week 9"
         ],
         "y": [
          3.423076923076923,
          4.009569377990431,
          4.168269230769231,
          5.038277511961723,
          4.543269230769231,
          4.777777777777778,
          4.779904306220096,
          5.019138755980861
         ]
        }
       ],
       "layout": {
        "legend": {
         "title": {
          "text": "<b>Legend</b>"
         }
        },
        "template": {
         "data": {
          "bar": [
           {
            "error_x": {
             "color": "#2a3f5f"
            },
            "error_y": {
             "color": "#2a3f5f"
            },
            "marker": {
             "line": {
              "color": "#E5ECF6",
              "width": 0.5
             }
            },
            "type": "bar"
           }
          ],
          "barpolar": [
           {
            "marker": {
             "line": {
              "color": "#E5ECF6",
              "width": 0.5
             }
            },
            "type": "barpolar"
           }
          ],
          "carpet": [
           {
            "aaxis": {
             "endlinecolor": "#2a3f5f",
             "gridcolor": "white",
             "linecolor": "white",
             "minorgridcolor": "white",
             "startlinecolor": "#2a3f5f"
            },
            "baxis": {
             "endlinecolor": "#2a3f5f",
             "gridcolor": "white",
             "linecolor": "white",
             "minorgridcolor": "white",
             "startlinecolor": "#2a3f5f"
            },
            "type": "carpet"
           }
          ],
          "choropleth": [
           {
            "colorbar": {
             "outlinewidth": 0,
             "ticks": ""
            },
            "type": "choropleth"
           }
          ],
          "contour": [
           {
            "colorbar": {
             "outlinewidth": 0,
             "ticks": ""
            },
            "colorscale": [
             [
              0,
              "#0d0887"
             ],
             [
              0.1111111111111111,
              "#46039f"
             ],
             [
              0.2222222222222222,
              "#7201a8"
             ],
             [
              0.3333333333333333,
              "#9c179e"
             ],
             [
              0.4444444444444444,
              "#bd3786"
             ],
             [
              0.5555555555555556,
              "#d8576b"
             ],
             [
              0.6666666666666666,
              "#ed7953"
             ],
             [
              0.7777777777777778,
              "#fb9f3a"
             ],
             [
              0.8888888888888888,
              "#fdca26"
             ],
             [
              1,
              "#f0f921"
             ]
            ],
            "type": "contour"
           }
          ],
          "contourcarpet": [
           {
            "colorbar": {
             "outlinewidth": 0,
             "ticks": ""
            },
            "type": "contourcarpet"
           }
          ],
          "heatmap": [
           {
            "colorbar": {
             "outlinewidth": 0,
             "ticks": ""
            },
            "colorscale": [
             [
              0,
              "#0d0887"
             ],
             [
              0.1111111111111111,
              "#46039f"
             ],
             [
              0.2222222222222222,
              "#7201a8"
             ],
             [
              0.3333333333333333,
              "#9c179e"
             ],
             [
              0.4444444444444444,
              "#bd3786"
             ],
             [
              0.5555555555555556,
              "#d8576b"
             ],
             [
              0.6666666666666666,
              "#ed7953"
             ],
             [
              0.7777777777777778,
              "#fb9f3a"
             ],
             [
              0.8888888888888888,
              "#fdca26"
             ],
             [
              1,
              "#f0f921"
             ]
            ],
            "type": "heatmap"
           }
          ],
          "heatmapgl": [
           {
            "colorbar": {
             "outlinewidth": 0,
             "ticks": ""
            },
            "colorscale": [
             [
              0,
              "#0d0887"
             ],
             [
              0.1111111111111111,
              "#46039f"
             ],
             [
              0.2222222222222222,
              "#7201a8"
             ],
             [
              0.3333333333333333,
              "#9c179e"
             ],
             [
              0.4444444444444444,
              "#bd3786"
             ],
             [
              0.5555555555555556,
              "#d8576b"
             ],
             [
              0.6666666666666666,
              "#ed7953"
             ],
             [
              0.7777777777777778,
              "#fb9f3a"
             ],
             [
              0.8888888888888888,
              "#fdca26"
             ],
             [
              1,
              "#f0f921"
             ]
            ],
            "type": "heatmapgl"
           }
          ],
          "histogram": [
           {
            "marker": {
             "colorbar": {
              "outlinewidth": 0,
              "ticks": ""
             }
            },
            "type": "histogram"
           }
          ],
          "histogram2d": [
           {
            "colorbar": {
             "outlinewidth": 0,
             "ticks": ""
            },
            "colorscale": [
             [
              0,
              "#0d0887"
             ],
             [
              0.1111111111111111,
              "#46039f"
             ],
             [
              0.2222222222222222,
              "#7201a8"
             ],
             [
              0.3333333333333333,
              "#9c179e"
             ],
             [
              0.4444444444444444,
              "#bd3786"
             ],
             [
              0.5555555555555556,
              "#d8576b"
             ],
             [
              0.6666666666666666,
              "#ed7953"
             ],
             [
              0.7777777777777778,
              "#fb9f3a"
             ],
             [
              0.8888888888888888,
              "#fdca26"
             ],
             [
              1,
              "#f0f921"
             ]
            ],
            "type": "histogram2d"
           }
          ],
          "histogram2dcontour": [
           {
            "colorbar": {
             "outlinewidth": 0,
             "ticks": ""
            },
            "colorscale": [
             [
              0,
              "#0d0887"
             ],
             [
              0.1111111111111111,
              "#46039f"
             ],
             [
              0.2222222222222222,
              "#7201a8"
             ],
             [
              0.3333333333333333,
              "#9c179e"
             ],
             [
              0.4444444444444444,
              "#bd3786"
             ],
             [
              0.5555555555555556,
              "#d8576b"
             ],
             [
              0.6666666666666666,
              "#ed7953"
             ],
             [
              0.7777777777777778,
              "#fb9f3a"
             ],
             [
              0.8888888888888888,
              "#fdca26"
             ],
             [
              1,
              "#f0f921"
             ]
            ],
            "type": "histogram2dcontour"
           }
          ],
          "mesh3d": [
           {
            "colorbar": {
             "outlinewidth": 0,
             "ticks": ""
            },
            "type": "mesh3d"
           }
          ],
          "parcoords": [
           {
            "line": {
             "colorbar": {
              "outlinewidth": 0,
              "ticks": ""
             }
            },
            "type": "parcoords"
           }
          ],
          "pie": [
           {
            "automargin": true,
            "type": "pie"
           }
          ],
          "scatter": [
           {
            "marker": {
             "colorbar": {
              "outlinewidth": 0,
              "ticks": ""
             }
            },
            "type": "scatter"
           }
          ],
          "scatter3d": [
           {
            "line": {
             "colorbar": {
              "outlinewidth": 0,
              "ticks": ""
             }
            },
            "marker": {
             "colorbar": {
              "outlinewidth": 0,
              "ticks": ""
             }
            },
            "type": "scatter3d"
           }
          ],
          "scattercarpet": [
           {
            "marker": {
             "colorbar": {
              "outlinewidth": 0,
              "ticks": ""
             }
            },
            "type": "scattercarpet"
           }
          ],
          "scattergeo": [
           {
            "marker": {
             "colorbar": {
              "outlinewidth": 0,
              "ticks": ""
             }
            },
            "type": "scattergeo"
           }
          ],
          "scattergl": [
           {
            "marker": {
             "colorbar": {
              "outlinewidth": 0,
              "ticks": ""
             }
            },
            "type": "scattergl"
           }
          ],
          "scattermapbox": [
           {
            "marker": {
             "colorbar": {
              "outlinewidth": 0,
              "ticks": ""
             }
            },
            "type": "scattermapbox"
           }
          ],
          "scatterpolar": [
           {
            "marker": {
             "colorbar": {
              "outlinewidth": 0,
              "ticks": ""
             }
            },
            "type": "scatterpolar"
           }
          ],
          "scatterpolargl": [
           {
            "marker": {
             "colorbar": {
              "outlinewidth": 0,
              "ticks": ""
             }
            },
            "type": "scatterpolargl"
           }
          ],
          "scatterternary": [
           {
            "marker": {
             "colorbar": {
              "outlinewidth": 0,
              "ticks": ""
             }
            },
            "type": "scatterternary"
           }
          ],
          "surface": [
           {
            "colorbar": {
             "outlinewidth": 0,
             "ticks": ""
            },
            "colorscale": [
             [
              0,
              "#0d0887"
             ],
             [
              0.1111111111111111,
              "#46039f"
             ],
             [
              0.2222222222222222,
              "#7201a8"
             ],
             [
              0.3333333333333333,
              "#9c179e"
             ],
             [
              0.4444444444444444,
              "#bd3786"
             ],
             [
              0.5555555555555556,
              "#d8576b"
             ],
             [
              0.6666666666666666,
              "#ed7953"
             ],
             [
              0.7777777777777778,
              "#fb9f3a"
             ],
             [
              0.8888888888888888,
              "#fdca26"
             ],
             [
              1,
              "#f0f921"
             ]
            ],
            "type": "surface"
           }
          ],
          "table": [
           {
            "cells": {
             "fill": {
              "color": "#EBF0F8"
             },
             "line": {
              "color": "white"
             }
            },
            "header": {
             "fill": {
              "color": "#C8D4E3"
             },
             "line": {
              "color": "white"
             }
            },
            "type": "table"
           }
          ]
         },
         "layout": {
          "annotationdefaults": {
           "arrowcolor": "#2a3f5f",
           "arrowhead": 0,
           "arrowwidth": 1
          },
          "coloraxis": {
           "colorbar": {
            "outlinewidth": 0,
            "ticks": ""
           }
          },
          "colorscale": {
           "diverging": [
            [
             0,
             "#8e0152"
            ],
            [
             0.1,
             "#c51b7d"
            ],
            [
             0.2,
             "#de77ae"
            ],
            [
             0.3,
             "#f1b6da"
            ],
            [
             0.4,
             "#fde0ef"
            ],
            [
             0.5,
             "#f7f7f7"
            ],
            [
             0.6,
             "#e6f5d0"
            ],
            [
             0.7,
             "#b8e186"
            ],
            [
             0.8,
             "#7fbc41"
            ],
            [
             0.9,
             "#4d9221"
            ],
            [
             1,
             "#276419"
            ]
           ],
           "sequential": [
            [
             0,
             "#0d0887"
            ],
            [
             0.1111111111111111,
             "#46039f"
            ],
            [
             0.2222222222222222,
             "#7201a8"
            ],
            [
             0.3333333333333333,
             "#9c179e"
            ],
            [
             0.4444444444444444,
             "#bd3786"
            ],
            [
             0.5555555555555556,
             "#d8576b"
            ],
            [
             0.6666666666666666,
             "#ed7953"
            ],
            [
             0.7777777777777778,
             "#fb9f3a"
            ],
            [
             0.8888888888888888,
             "#fdca26"
            ],
            [
             1,
             "#f0f921"
            ]
           ],
           "sequentialminus": [
            [
             0,
             "#0d0887"
            ],
            [
             0.1111111111111111,
             "#46039f"
            ],
            [
             0.2222222222222222,
             "#7201a8"
            ],
            [
             0.3333333333333333,
             "#9c179e"
            ],
            [
             0.4444444444444444,
             "#bd3786"
            ],
            [
             0.5555555555555556,
             "#d8576b"
            ],
            [
             0.6666666666666666,
             "#ed7953"
            ],
            [
             0.7777777777777778,
             "#fb9f3a"
            ],
            [
             0.8888888888888888,
             "#fdca26"
            ],
            [
             1,
             "#f0f921"
            ]
           ]
          },
          "colorway": [
           "#636efa",
           "#EF553B",
           "#00cc96",
           "#ab63fa",
           "#FFA15A",
           "#19d3f3",
           "#FF6692",
           "#B6E880",
           "#FF97FF",
           "#FECB52"
          ],
          "font": {
           "color": "#2a3f5f"
          },
          "geo": {
           "bgcolor": "white",
           "lakecolor": "white",
           "landcolor": "#E5ECF6",
           "showlakes": true,
           "showland": true,
           "subunitcolor": "white"
          },
          "hoverlabel": {
           "align": "left"
          },
          "hovermode": "closest",
          "mapbox": {
           "style": "light"
          },
          "paper_bgcolor": "white",
          "plot_bgcolor": "#E5ECF6",
          "polar": {
           "angularaxis": {
            "gridcolor": "white",
            "linecolor": "white",
            "ticks": ""
           },
           "bgcolor": "#E5ECF6",
           "radialaxis": {
            "gridcolor": "white",
            "linecolor": "white",
            "ticks": ""
           }
          },
          "scene": {
           "xaxis": {
            "backgroundcolor": "#E5ECF6",
            "gridcolor": "white",
            "gridwidth": 2,
            "linecolor": "white",
            "showbackground": true,
            "ticks": "",
            "zerolinecolor": "white"
           },
           "yaxis": {
            "backgroundcolor": "#E5ECF6",
            "gridcolor": "white",
            "gridwidth": 2,
            "linecolor": "white",
            "showbackground": true,
            "ticks": "",
            "zerolinecolor": "white"
           },
           "zaxis": {
            "backgroundcolor": "#E5ECF6",
            "gridcolor": "white",
            "gridwidth": 2,
            "linecolor": "white",
            "showbackground": true,
            "ticks": "",
            "zerolinecolor": "white"
           }
          },
          "shapedefaults": {
           "line": {
            "color": "#2a3f5f"
           }
          },
          "ternary": {
           "aaxis": {
            "gridcolor": "white",
            "linecolor": "white",
            "ticks": ""
           },
           "baxis": {
            "gridcolor": "white",
            "linecolor": "white",
            "ticks": ""
           },
           "bgcolor": "#E5ECF6",
           "caxis": {
            "gridcolor": "white",
            "linecolor": "white",
            "ticks": ""
           }
          },
          "title": {
           "x": 0.05
          },
          "xaxis": {
           "automargin": true,
           "gridcolor": "white",
           "linecolor": "white",
           "ticks": "",
           "title": {
            "standoff": 15
           },
           "zerolinecolor": "white",
           "zerolinewidth": 2
          },
          "yaxis": {
           "automargin": true,
           "gridcolor": "white",
           "linecolor": "white",
           "ticks": "",
           "title": {
            "standoff": 15
           },
           "zerolinecolor": "white",
           "zerolinewidth": 2
          }
         }
        },
        "title": {
         "text": "<b>Number of Other Students in the Class <br>Transfers and Native Students Feel Comfortable Reaching Out to Study With</b>",
         "x": 0.5
        },
        "xaxis": {
         "title": {
          "text": "<b>Week</b>"
         }
        },
        "yaxis": {
         "title": {
          "text": "<b>Number of Students</b>"
         }
        }
       }
      },
      "text/html": [
       "<div>\n",
       "        \n",
       "        \n",
       "            <div id=\"7886658c-c823-4e6b-850c-3433f4692a82\" class=\"plotly-graph-div\" style=\"height:525px; width:100%;\"></div>\n",
       "            <script type=\"text/javascript\">\n",
       "                require([\"plotly\"], function(Plotly) {\n",
       "                    window.PLOTLYENV=window.PLOTLYENV || {};\n",
       "                    \n",
       "                if (document.getElementById(\"7886658c-c823-4e6b-850c-3433f4692a82\")) {\n",
       "                    Plotly.newPlot(\n",
       "                        '7886658c-c823-4e6b-850c-3433f4692a82',\n",
       "                        [{\"marker\": {\"color\": \"#955ed2\", \"line\": {\"color\": \"#e44bb1\", \"width\": 5}, \"size\": 5, \"symbol\": \"circle-dot\"}, \"mode\": \"lines+markers\", \"name\": \"Transfer CS 2\", \"type\": \"scatter\", \"x\": [\"Week 1\", \"Week 2\", \"Week 3\", \"Week 4\", \"Week 5\", \"Week 6\", \"Week 7\", \"Week 8\", \"Week 9\", \"Week 10\"], \"y\": [2.4545454545454546, 2.727272727272727, 3.3636363636363638, 4.7272727272727275, 5.0, 6.0, 6.454545454545454, 5.909090909090909, 4.2727272727272725, 5.0]}, {\"marker\": {\"color\": \"#ffa600\", \"line\": {\"color\": \"#ff6361\", \"width\": 5}, \"size\": 5, \"symbol\": \"circle-dot\"}, \"mode\": \"lines+markers\", \"name\": \"Native CS 2\", \"type\": \"scatter\", \"x\": [\"Week 1\", \"Week 2\", \"Week 3\", \"Week 4\", \"Week 5\", \"Week 6\", \"Week 7\", \"Week 8\", \"Week 9\", \"Week 10\"], \"y\": [2.03125, 1.967741935483871, 2.0, 2.1666666666666665, 1.9666666666666666, 2.466666666666667, 2.3666666666666667, 3.242424242424242, 3.242424242424242, 2.9375]}, {\"marker\": {\"color\": \"#955ed2\", \"line\": {\"color\": \"#e44bb1\", \"width\": 5}, \"size\": 5, \"symbol\": \"square\"}, \"mode\": \"lines+markers\", \"name\": \"Transfer CS 1A\", \"type\": \"scatter\", \"x\": [\"Week 2\", \"Week 3\", \"Week 4\", \"Week 5\", \"Week 6\", \"Week 7\", \"Week 8\", \"Week 9\"], \"y\": [1.8125, 2.125, 2.0625, 2.1875, 2.2, 2.3333333333333335, 2.533333333333333, 3.375]}, {\"marker\": {\"color\": \"#ffa600\", \"line\": {\"color\": \"#ff6361\", \"width\": 5}, \"size\": 5, \"symbol\": \"square\"}, \"mode\": \"lines+markers\", \"name\": \"Native CS 1A\", \"type\": \"scatter\", \"x\": [\"Week 2\", \"Week 3\", \"Week 4\", \"Week 5\", \"Week 6\", \"Week 7\", \"Week 8\", \"Week 9\"], \"y\": [5.66497461928934, 5.863636363636363, 6.291457286432161, 6.33502538071066, 5.887179487179488, 6.204081632653061, 6.385786802030457, 6.301020408163265]}, {\"marker\": {\"color\": \"#955ed2\", \"line\": {\"color\": \"#e44bb1\", \"width\": 5}, \"size\": 5, \"symbol\": \"triangle-up\"}, \"mode\": \"lines+markers\", \"name\": \"Transfer CS 1\", \"type\": \"scatter\", \"x\": [\"Week 2\", \"Week 3\", \"Week 4\", \"Week 5\", \"Week 6\", \"Week 7\", \"Week 8\", \"Week 9\"], \"y\": [2.0, 2.357142857142857, 3.357142857142857, 1.5, 1.7142857142857142, 2.642857142857143, 2.0, 2.5714285714285716]}, {\"marker\": {\"color\": \"#ffa600\", \"line\": {\"color\": \"#ff6361\", \"width\": 5}, \"size\": 5, \"symbol\": \"triangle-up\"}, \"mode\": \"lines+markers\", \"name\": \"Native CS 1\", \"type\": \"scatter\", \"x\": [\"Week 2\", \"Week 3\", \"Week 4\", \"Week 5\", \"Week 6\", \"Week 7\", \"Week 8\", \"Week 9\"], \"y\": [3.423076923076923, 4.009569377990431, 4.168269230769231, 5.038277511961723, 4.543269230769231, 4.777777777777778, 4.779904306220096, 5.019138755980861]}],\n",
       "                        {\"legend\": {\"title\": {\"text\": \"<b>Legend</b>\"}}, \"template\": {\"data\": {\"bar\": [{\"error_x\": {\"color\": \"#2a3f5f\"}, \"error_y\": {\"color\": \"#2a3f5f\"}, \"marker\": {\"line\": {\"color\": \"#E5ECF6\", \"width\": 0.5}}, \"type\": \"bar\"}], \"barpolar\": [{\"marker\": {\"line\": {\"color\": \"#E5ECF6\", \"width\": 0.5}}, \"type\": \"barpolar\"}], \"carpet\": [{\"aaxis\": {\"endlinecolor\": \"#2a3f5f\", \"gridcolor\": \"white\", \"linecolor\": \"white\", \"minorgridcolor\": \"white\", \"startlinecolor\": \"#2a3f5f\"}, \"baxis\": {\"endlinecolor\": \"#2a3f5f\", \"gridcolor\": \"white\", \"linecolor\": \"white\", \"minorgridcolor\": \"white\", \"startlinecolor\": \"#2a3f5f\"}, \"type\": \"carpet\"}], \"choropleth\": [{\"colorbar\": {\"outlinewidth\": 0, \"ticks\": \"\"}, \"type\": \"choropleth\"}], \"contour\": [{\"colorbar\": {\"outlinewidth\": 0, \"ticks\": \"\"}, \"colorscale\": [[0.0, \"#0d0887\"], [0.1111111111111111, \"#46039f\"], [0.2222222222222222, \"#7201a8\"], [0.3333333333333333, \"#9c179e\"], [0.4444444444444444, \"#bd3786\"], [0.5555555555555556, \"#d8576b\"], [0.6666666666666666, \"#ed7953\"], [0.7777777777777778, \"#fb9f3a\"], [0.8888888888888888, \"#fdca26\"], [1.0, \"#f0f921\"]], \"type\": \"contour\"}], \"contourcarpet\": [{\"colorbar\": {\"outlinewidth\": 0, \"ticks\": \"\"}, \"type\": \"contourcarpet\"}], \"heatmap\": [{\"colorbar\": {\"outlinewidth\": 0, \"ticks\": \"\"}, \"colorscale\": [[0.0, \"#0d0887\"], [0.1111111111111111, \"#46039f\"], [0.2222222222222222, \"#7201a8\"], [0.3333333333333333, \"#9c179e\"], [0.4444444444444444, \"#bd3786\"], [0.5555555555555556, \"#d8576b\"], [0.6666666666666666, \"#ed7953\"], [0.7777777777777778, \"#fb9f3a\"], [0.8888888888888888, \"#fdca26\"], [1.0, \"#f0f921\"]], \"type\": \"heatmap\"}], \"heatmapgl\": [{\"colorbar\": {\"outlinewidth\": 0, \"ticks\": \"\"}, \"colorscale\": [[0.0, \"#0d0887\"], [0.1111111111111111, \"#46039f\"], [0.2222222222222222, \"#7201a8\"], [0.3333333333333333, \"#9c179e\"], [0.4444444444444444, \"#bd3786\"], [0.5555555555555556, \"#d8576b\"], [0.6666666666666666, \"#ed7953\"], [0.7777777777777778, \"#fb9f3a\"], [0.8888888888888888, \"#fdca26\"], [1.0, \"#f0f921\"]], \"type\": \"heatmapgl\"}], \"histogram\": [{\"marker\": {\"colorbar\": {\"outlinewidth\": 0, \"ticks\": \"\"}}, \"type\": \"histogram\"}], \"histogram2d\": [{\"colorbar\": {\"outlinewidth\": 0, \"ticks\": \"\"}, \"colorscale\": [[0.0, \"#0d0887\"], [0.1111111111111111, \"#46039f\"], [0.2222222222222222, \"#7201a8\"], [0.3333333333333333, \"#9c179e\"], [0.4444444444444444, \"#bd3786\"], [0.5555555555555556, \"#d8576b\"], [0.6666666666666666, \"#ed7953\"], [0.7777777777777778, \"#fb9f3a\"], [0.8888888888888888, \"#fdca26\"], [1.0, \"#f0f921\"]], \"type\": \"histogram2d\"}], \"histogram2dcontour\": [{\"colorbar\": {\"outlinewidth\": 0, \"ticks\": \"\"}, \"colorscale\": [[0.0, \"#0d0887\"], [0.1111111111111111, \"#46039f\"], [0.2222222222222222, \"#7201a8\"], [0.3333333333333333, \"#9c179e\"], [0.4444444444444444, \"#bd3786\"], [0.5555555555555556, \"#d8576b\"], [0.6666666666666666, \"#ed7953\"], [0.7777777777777778, \"#fb9f3a\"], [0.8888888888888888, \"#fdca26\"], [1.0, \"#f0f921\"]], \"type\": \"histogram2dcontour\"}], \"mesh3d\": [{\"colorbar\": {\"outlinewidth\": 0, \"ticks\": \"\"}, \"type\": \"mesh3d\"}], \"parcoords\": [{\"line\": {\"colorbar\": {\"outlinewidth\": 0, \"ticks\": \"\"}}, \"type\": \"parcoords\"}], \"pie\": [{\"automargin\": true, \"type\": \"pie\"}], \"scatter\": [{\"marker\": {\"colorbar\": {\"outlinewidth\": 0, \"ticks\": \"\"}}, \"type\": \"scatter\"}], \"scatter3d\": [{\"line\": {\"colorbar\": {\"outlinewidth\": 0, \"ticks\": \"\"}}, \"marker\": {\"colorbar\": {\"outlinewidth\": 0, \"ticks\": \"\"}}, \"type\": \"scatter3d\"}], \"scattercarpet\": [{\"marker\": {\"colorbar\": {\"outlinewidth\": 0, \"ticks\": \"\"}}, \"type\": \"scattercarpet\"}], \"scattergeo\": [{\"marker\": {\"colorbar\": {\"outlinewidth\": 0, \"ticks\": \"\"}}, \"type\": \"scattergeo\"}], \"scattergl\": [{\"marker\": {\"colorbar\": {\"outlinewidth\": 0, \"ticks\": \"\"}}, \"type\": \"scattergl\"}], \"scattermapbox\": [{\"marker\": {\"colorbar\": {\"outlinewidth\": 0, \"ticks\": \"\"}}, \"type\": \"scattermapbox\"}], \"scatterpolar\": [{\"marker\": {\"colorbar\": {\"outlinewidth\": 0, \"ticks\": \"\"}}, \"type\": \"scatterpolar\"}], \"scatterpolargl\": [{\"marker\": {\"colorbar\": {\"outlinewidth\": 0, \"ticks\": \"\"}}, \"type\": \"scatterpolargl\"}], \"scatterternary\": [{\"marker\": {\"colorbar\": {\"outlinewidth\": 0, \"ticks\": \"\"}}, \"type\": \"scatterternary\"}], \"surface\": [{\"colorbar\": {\"outlinewidth\": 0, \"ticks\": \"\"}, \"colorscale\": [[0.0, \"#0d0887\"], [0.1111111111111111, \"#46039f\"], [0.2222222222222222, \"#7201a8\"], [0.3333333333333333, \"#9c179e\"], [0.4444444444444444, \"#bd3786\"], [0.5555555555555556, \"#d8576b\"], [0.6666666666666666, \"#ed7953\"], [0.7777777777777778, \"#fb9f3a\"], [0.8888888888888888, \"#fdca26\"], [1.0, \"#f0f921\"]], \"type\": \"surface\"}], \"table\": [{\"cells\": {\"fill\": {\"color\": \"#EBF0F8\"}, \"line\": {\"color\": \"white\"}}, \"header\": {\"fill\": {\"color\": \"#C8D4E3\"}, \"line\": {\"color\": \"white\"}}, \"type\": \"table\"}]}, \"layout\": {\"annotationdefaults\": {\"arrowcolor\": \"#2a3f5f\", \"arrowhead\": 0, \"arrowwidth\": 1}, \"coloraxis\": {\"colorbar\": {\"outlinewidth\": 0, \"ticks\": \"\"}}, \"colorscale\": {\"diverging\": [[0, \"#8e0152\"], [0.1, \"#c51b7d\"], [0.2, \"#de77ae\"], [0.3, \"#f1b6da\"], [0.4, \"#fde0ef\"], [0.5, \"#f7f7f7\"], [0.6, \"#e6f5d0\"], [0.7, \"#b8e186\"], [0.8, \"#7fbc41\"], [0.9, \"#4d9221\"], [1, \"#276419\"]], \"sequential\": [[0.0, \"#0d0887\"], [0.1111111111111111, \"#46039f\"], [0.2222222222222222, \"#7201a8\"], [0.3333333333333333, \"#9c179e\"], [0.4444444444444444, \"#bd3786\"], [0.5555555555555556, \"#d8576b\"], [0.6666666666666666, \"#ed7953\"], [0.7777777777777778, \"#fb9f3a\"], [0.8888888888888888, \"#fdca26\"], [1.0, \"#f0f921\"]], \"sequentialminus\": [[0.0, \"#0d0887\"], [0.1111111111111111, \"#46039f\"], [0.2222222222222222, \"#7201a8\"], [0.3333333333333333, \"#9c179e\"], [0.4444444444444444, \"#bd3786\"], [0.5555555555555556, \"#d8576b\"], [0.6666666666666666, \"#ed7953\"], [0.7777777777777778, \"#fb9f3a\"], [0.8888888888888888, \"#fdca26\"], [1.0, \"#f0f921\"]]}, \"colorway\": [\"#636efa\", \"#EF553B\", \"#00cc96\", \"#ab63fa\", \"#FFA15A\", \"#19d3f3\", \"#FF6692\", \"#B6E880\", \"#FF97FF\", \"#FECB52\"], \"font\": {\"color\": \"#2a3f5f\"}, \"geo\": {\"bgcolor\": \"white\", \"lakecolor\": \"white\", \"landcolor\": \"#E5ECF6\", \"showlakes\": true, \"showland\": true, \"subunitcolor\": \"white\"}, \"hoverlabel\": {\"align\": \"left\"}, \"hovermode\": \"closest\", \"mapbox\": {\"style\": \"light\"}, \"paper_bgcolor\": \"white\", \"plot_bgcolor\": \"#E5ECF6\", \"polar\": {\"angularaxis\": {\"gridcolor\": \"white\", \"linecolor\": \"white\", \"ticks\": \"\"}, \"bgcolor\": \"#E5ECF6\", \"radialaxis\": {\"gridcolor\": \"white\", \"linecolor\": \"white\", \"ticks\": \"\"}}, \"scene\": {\"xaxis\": {\"backgroundcolor\": \"#E5ECF6\", \"gridcolor\": \"white\", \"gridwidth\": 2, \"linecolor\": \"white\", \"showbackground\": true, \"ticks\": \"\", \"zerolinecolor\": \"white\"}, \"yaxis\": {\"backgroundcolor\": \"#E5ECF6\", \"gridcolor\": \"white\", \"gridwidth\": 2, \"linecolor\": \"white\", \"showbackground\": true, \"ticks\": \"\", \"zerolinecolor\": \"white\"}, \"zaxis\": {\"backgroundcolor\": \"#E5ECF6\", \"gridcolor\": \"white\", \"gridwidth\": 2, \"linecolor\": \"white\", \"showbackground\": true, \"ticks\": \"\", \"zerolinecolor\": \"white\"}}, \"shapedefaults\": {\"line\": {\"color\": \"#2a3f5f\"}}, \"ternary\": {\"aaxis\": {\"gridcolor\": \"white\", \"linecolor\": \"white\", \"ticks\": \"\"}, \"baxis\": {\"gridcolor\": \"white\", \"linecolor\": \"white\", \"ticks\": \"\"}, \"bgcolor\": \"#E5ECF6\", \"caxis\": {\"gridcolor\": \"white\", \"linecolor\": \"white\", \"ticks\": \"\"}}, \"title\": {\"x\": 0.05}, \"xaxis\": {\"automargin\": true, \"gridcolor\": \"white\", \"linecolor\": \"white\", \"ticks\": \"\", \"title\": {\"standoff\": 15}, \"zerolinecolor\": \"white\", \"zerolinewidth\": 2}, \"yaxis\": {\"automargin\": true, \"gridcolor\": \"white\", \"linecolor\": \"white\", \"ticks\": \"\", \"title\": {\"standoff\": 15}, \"zerolinecolor\": \"white\", \"zerolinewidth\": 2}}}, \"title\": {\"text\": \"<b>Number of Other Students in the Class <br>Transfers and Native Students Feel Comfortable Reaching Out to Study With</b>\", \"x\": 0.5}, \"xaxis\": {\"title\": {\"text\": \"<b>Week</b>\"}}, \"yaxis\": {\"title\": {\"text\": \"<b>Number of Students</b>\"}}},\n",
       "                        {\"responsive\": true}\n",
       "                    ).then(function(){\n",
       "                            \n",
       "var gd = document.getElementById('7886658c-c823-4e6b-850c-3433f4692a82');\n",
       "var x = new MutationObserver(function (mutations, observer) {{\n",
       "        var display = window.getComputedStyle(gd).display;\n",
       "        if (!display || display === 'none') {{\n",
       "            console.log([gd, 'removed!']);\n",
       "            Plotly.purge(gd);\n",
       "            observer.disconnect();\n",
       "        }}\n",
       "}});\n",
       "\n",
       "// Listen for the removal of the full notebook cells\n",
       "var notebookContainer = gd.closest('#notebook-container');\n",
       "if (notebookContainer) {{\n",
       "    x.observe(notebookContainer, {childList: true});\n",
       "}}\n",
       "\n",
       "// Listen for the clearing of the current output cell\n",
       "var outputEl = gd.closest('.output');\n",
       "if (outputEl) {{\n",
       "    x.observe(outputEl, {childList: true});\n",
       "}}\n",
       "\n",
       "                        })\n",
       "                };\n",
       "                });\n",
       "            </script>\n",
       "        </div>"
      ]
     },
     "metadata": {},
     "output_type": "display_data"
    }
   ],
   "source": [
    "fig = go.Figure()\n",
    "graphTitle = \"<b>Number of Other Students in the Class <br>Transfers and Native Students Feel Comfortable Reaching Out to Study With</b>\"\n",
    "\n",
    "fig.add_trace(go.Scatter(x=x_label2, y=df3[\"Transfer Mean\"],\n",
    "                    mode='lines+markers',\n",
    "                    name='Transfer CS 2',\n",
    "                    marker_symbol=\"circle-dot\",\n",
    "                    marker=dict(\n",
    "                        color='#955ed2',\n",
    "                        size=5,\n",
    "                        line=dict(\n",
    "                                color='#e44bb1',\n",
    "                                width=5\n",
    "                            )\n",
    "                        )\n",
    "             ))\n",
    "fig.add_trace(go.Scatter(x=x_label2, y=df3[\"Native Mean\"],\n",
    "                    mode='lines+markers',\n",
    "                    name='Native CS 2',\n",
    "                    marker_symbol=\"circle-dot\",\n",
    "                    marker=dict(\n",
    "                        color='#ffa600',\n",
    "                        size=5,\n",
    "                        line=dict(\n",
    "                                color='#ff6361',\n",
    "                                width=5\n",
    "                            )\n",
    "                        )\n",
    "               ))\n",
    "\n",
    "fig.add_trace(go.Scatter(x=x_label1, y=df2[\"Transfer Mean\"],\n",
    "                    mode='lines+markers',\n",
    "                    name='Transfer CS 1A',\n",
    "                    marker_symbol=\"square\",\n",
    "                    marker=dict(\n",
    "                        color='#955ed2',\n",
    "                        size=5,\n",
    "                        line=dict(\n",
    "                                color='#e44bb1',\n",
    "                                width=5\n",
    "                            )\n",
    "                        )\n",
    "               ))\n",
    "fig.add_trace(go.Scatter(x=x_label1, y=df2[\"Native Mean\"],\n",
    "                    mode='lines+markers',\n",
    "                    name='Native CS 1A',\n",
    "                    marker_symbol=\"square\",\n",
    "                    marker=dict(\n",
    "                        color='#ffa600',\n",
    "                        size=5,\n",
    "                        line=dict(\n",
    "                                color='#ff6361',\n",
    "                                width=5\n",
    "                            )\n",
    "                        )\n",
    "               ))\n",
    "\n",
    "fig.add_trace(go.Scatter(x=x_label1, y=df1[\"Transfer Mean\"],\n",
    "                    mode='lines+markers',\n",
    "                    name='Transfer CS 1',\n",
    "                    marker_symbol=\"triangle-up\",\n",
    "                    marker=dict(\n",
    "                        color='#955ed2',\n",
    "                        size=5,\n",
    "                        line=dict(\n",
    "                                color='#e44bb1',\n",
    "                                width=5\n",
    "                            )\n",
    "                        )\n",
    "               ))\n",
    "fig.add_trace(go.Scatter(x=x_label1, y=df1[\"Native Mean\"],\n",
    "                    mode='lines+markers',\n",
    "                    name='Native CS 1',\n",
    "                    marker_symbol=\"triangle-up\",\n",
    "                    marker=dict(\n",
    "                        color='#ffa600',\n",
    "                        size=5,\n",
    "                        line=dict(\n",
    "                                color='#ff6361',\n",
    "                                width=5\n",
    "                            )\n",
    "                        )\n",
    "               ))\n",
    "fig.update_layout(title=graphTitle,\n",
    "                  title_x=0.5,\n",
    "                  xaxis_title=\"<b>Week</b>\",\n",
    "                  yaxis_title=\"<b>Number of Students</b>\",\n",
    "                  legend_title=\"<b>Legend</b>\",\n",
    "                 )\n",
    "\n",
    "\n",
    "fig.show()"
   ]
  },
  {
   "cell_type": "code",
   "execution_count": null,
   "metadata": {},
   "outputs": [],
   "source": [
    "mode='lines+markers+text',\n",
    "text=df3[\"Transfer Mean\"].round(2),\n",
    "textposition=\"bottom center\","
   ]
  },
  {
   "cell_type": "code",
   "execution_count": null,
   "metadata": {},
   "outputs": [],
   "source": []
  }
 ],
 "metadata": {
  "kernelspec": {
   "display_name": "Python 3",
   "language": "python",
   "name": "python3"
  },
  "language_info": {
   "codemirror_mode": {
    "name": "ipython",
    "version": 3
   },
   "file_extension": ".py",
   "mimetype": "text/x-python",
   "name": "python",
   "nbconvert_exporter": "python",
   "pygments_lexer": "ipython3",
   "version": "3.7.6"
  }
 },
 "nbformat": 4,
 "nbformat_minor": 4
}
