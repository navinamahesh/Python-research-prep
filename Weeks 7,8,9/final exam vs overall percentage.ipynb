{
 "cells": [
  {
   "cell_type": "code",
   "execution_count": 30,
   "metadata": {},
   "outputs": [],
   "source": [
    "import pandas as pd\n",
    "from pandas import Series, DataFrame\n",
    "from matplotlib import pyplot as plt\n",
    "import numpy as np"
   ]
  },
  {
   "cell_type": "code",
   "execution_count": 31,
   "metadata": {},
   "outputs": [],
   "source": [
    "#reading in the CSE 11 file which has the final exam percentage and the overall grade percentage:\n",
    "grade_reporting = pd.read_csv(\"../Data/CSE 11 Fall 2019 DeID/DeID GradeReporting_CSE11_F19.csv\")"
   ]
  },
  {
   "cell_type": "code",
   "execution_count": 32,
   "metadata": {},
   "outputs": [],
   "source": [
    "#reading in the CSE 11 file which has the pre_survey data:\n",
    "pre_survey = pd.read_csv(\"../Data/CSE 11 Fall 2019 DeID/DeID Pre-Survey CSE 11 Fall 2019.csv\")"
   ]
  },
  {
   "cell_type": "code",
   "execution_count": 33,
   "metadata": {},
   "outputs": [],
   "source": [
    "#renaming the \"Did you enter UCSD as a transfer student....\" column:\n",
    "pre_survey = pre_survey.rename(columns =({\"Did.you.enter.UCSD.as.a.transfer.student.from.another..2.year.or.4.year..college.or.university.\":\"transfer_student_status\"}))"
   ]
  },
  {
   "cell_type": "code",
   "execution_count": 34,
   "metadata": {},
   "outputs": [
    {
     "data": {
      "text/html": [
       "<div>\n",
       "<style scoped>\n",
       "    .dataframe tbody tr th:only-of-type {\n",
       "        vertical-align: middle;\n",
       "    }\n",
       "\n",
       "    .dataframe tbody tr th {\n",
       "        vertical-align: top;\n",
       "    }\n",
       "\n",
       "    .dataframe thead th {\n",
       "        text-align: right;\n",
       "    }\n",
       "</style>\n",
       "<table border=\"1\" class=\"dataframe\">\n",
       "  <thead>\n",
       "    <tr style=\"text-align: right;\">\n",
       "      <th></th>\n",
       "      <th>Timestamp</th>\n",
       "      <th>transfer_student_status</th>\n",
       "      <th>If.your.current.declared.major.is.different.from.your.desired.major..i.e..you.hope.to.switch.majors...what.major.do.you.hope.to.switch.to...Leave.blank.if.this.does.not.apply.to.you..</th>\n",
       "      <th>What.is.the.main.reason.you.are.taking.this.course.</th>\n",
       "      <th>On.a.scale.of.1.to.5..how.much.experience.did.you.have.with.programming.computer.science.before.you.took.your.FIRST.course.at.UC.San.Diego.</th>\n",
       "      <th>Please.select.all.of.the.CS.programming.experiences.you.had.before.taking.your.FIRST.CS.course.at.UCSD.</th>\n",
       "      <th>Please.rate.your.current.level.of.experience.with.technology.in.general</th>\n",
       "      <th>On.a.scale.of.1.to.5..how.confident.are.you.about.your.ability.to.do.well.in.this.course.</th>\n",
       "      <th>What.is.the.MINIMUM.grade.you.think.you.would.be.satisfied.with.in.this.course...If.you.re.taking.this.course.pass.no.pass..note.that.C..is.the.threshold.for.passing...</th>\n",
       "      <th>What.is.your.gender.</th>\n",
       "      <th>What.is.your.ethnicity.</th>\n",
       "      <th>What.is.your.race...Select.all.that.apply.</th>\n",
       "      <th>What.is.your.fluency.with.English.</th>\n",
       "      <th>DeID</th>\n",
       "    </tr>\n",
       "  </thead>\n",
       "  <tbody>\n",
       "    <tr>\n",
       "      <th>0</th>\n",
       "      <td>9/27/2019 16:28</td>\n",
       "      <td>No</td>\n",
       "      <td>NaN</td>\n",
       "      <td>To fulfill a major requirement (for your curre...</td>\n",
       "      <td>3.0</td>\n",
       "      <td>Took AP CS A, Took AP Calculus, Took AP Statis...</td>\n",
       "      <td>A lot of experience: e.g., worked with multipl...</td>\n",
       "      <td>5.0</td>\n",
       "      <td>A</td>\n",
       "      <td>Male</td>\n",
       "      <td>Not Hispanic or Latino/a</td>\n",
       "      <td>East or Southeast Asian</td>\n",
       "      <td>I learned English as a child in a bilingual or...</td>\n",
       "      <td>00T90APX</td>\n",
       "    </tr>\n",
       "  </tbody>\n",
       "</table>\n",
       "</div>"
      ],
      "text/plain": [
       "         Timestamp transfer_student_status  \\\n",
       "0  9/27/2019 16:28                      No   \n",
       "\n",
       "  If.your.current.declared.major.is.different.from.your.desired.major..i.e..you.hope.to.switch.majors...what.major.do.you.hope.to.switch.to...Leave.blank.if.this.does.not.apply.to.you..  \\\n",
       "0                                                NaN                                                                                                                                        \n",
       "\n",
       "  What.is.the.main.reason.you.are.taking.this.course.  \\\n",
       "0  To fulfill a major requirement (for your curre...    \n",
       "\n",
       "   On.a.scale.of.1.to.5..how.much.experience.did.you.have.with.programming.computer.science.before.you.took.your.FIRST.course.at.UC.San.Diego.  \\\n",
       "0                                                3.0                                                                                             \n",
       "\n",
       "  Please.select.all.of.the.CS.programming.experiences.you.had.before.taking.your.FIRST.CS.course.at.UCSD.  \\\n",
       "0  Took AP CS A, Took AP Calculus, Took AP Statis...                                                        \n",
       "\n",
       "  Please.rate.your.current.level.of.experience.with.technology.in.general  \\\n",
       "0  A lot of experience: e.g., worked with multipl...                        \n",
       "\n",
       "   On.a.scale.of.1.to.5..how.confident.are.you.about.your.ability.to.do.well.in.this.course.  \\\n",
       "0                                                5.0                                           \n",
       "\n",
       "  What.is.the.MINIMUM.grade.you.think.you.would.be.satisfied.with.in.this.course...If.you.re.taking.this.course.pass.no.pass..note.that.C..is.the.threshold.for.passing...  \\\n",
       "0                                                  A                                                                                                                         \n",
       "\n",
       "  What.is.your.gender.   What.is.your.ethnicity.  \\\n",
       "0                 Male  Not Hispanic or Latino/a   \n",
       "\n",
       "  What.is.your.race...Select.all.that.apply.  \\\n",
       "0                    East or Southeast Asian   \n",
       "\n",
       "                  What.is.your.fluency.with.English.      DeID  \n",
       "0  I learned English as a child in a bilingual or...  00T90APX  "
      ]
     },
     "execution_count": 34,
     "metadata": {},
     "output_type": "execute_result"
    }
   ],
   "source": [
    "#making sure the column got renamed:\n",
    "pre_survey.head(1)"
   ]
  },
  {
   "cell_type": "code",
   "execution_count": 35,
   "metadata": {},
   "outputs": [],
   "source": [
    "#filtering the pre_survey table only with transfer status and DeID:\n",
    "transferStatusWithDeID = pre_survey[[\"transfer_student_status\",\"DeID\"]]"
   ]
  },
  {
   "cell_type": "code",
   "execution_count": 36,
   "metadata": {},
   "outputs": [],
   "source": [
    "transferStatusWithDeID = transferStatusWithDeID.dropna()"
   ]
  },
  {
   "cell_type": "code",
   "execution_count": 37,
   "metadata": {},
   "outputs": [],
   "source": [
    "#filtering only the students that are TRANSFER students and printing that table:\n",
    "onlyTransferStudents = transferStatusWithDeID[transferStatusWithDeID.transfer_student_status == \"Yes\"]\n",
    "#print(onlyTransferStudents)"
   ]
  },
  {
   "cell_type": "code",
   "execution_count": 38,
   "metadata": {},
   "outputs": [
    {
     "name": "stdout",
     "output_type": "stream",
     "text": [
      "    transfer_student_status      DeID\n",
      "0                        No  00T90APX\n",
      "2                        No  025LQFB2\n",
      "3                        No  039HIM2X\n",
      "4                        No  04T56IGQ\n",
      "5                        No  06HH1YB1\n",
      "..                      ...       ...\n",
      "474                      No  ZQRWVMSS\n",
      "475                      No  ZT9CDKWM\n",
      "477                      No  ZWOIJJTE\n",
      "478                      No  ZZ5H6MQD\n",
      "479                      No  ZZCK945I\n",
      "\n",
      "[419 rows x 2 columns]\n"
     ]
    }
   ],
   "source": [
    "#filtering only students that are REGULAR students and printing that table:\n",
    "onlyRegularStudents = transferStatusWithDeID[transferStatusWithDeID.transfer_student_status == \"No\"]\n",
    "print(onlyRegularStudents)"
   ]
  },
  {
   "cell_type": "code",
   "execution_count": 39,
   "metadata": {},
   "outputs": [
    {
     "data": {
      "text/html": [
       "<div>\n",
       "<style scoped>\n",
       "    .dataframe tbody tr th:only-of-type {\n",
       "        vertical-align: middle;\n",
       "    }\n",
       "\n",
       "    .dataframe tbody tr th {\n",
       "        vertical-align: top;\n",
       "    }\n",
       "\n",
       "    .dataframe thead th {\n",
       "        text-align: right;\n",
       "    }\n",
       "</style>\n",
       "<table border=\"1\" class=\"dataframe\">\n",
       "  <thead>\n",
       "    <tr style=\"text-align: right;\">\n",
       "      <th></th>\n",
       "      <th>Overall.weighted.course.percentage</th>\n",
       "      <th>Final.exam.percentage</th>\n",
       "      <th>PA1</th>\n",
       "      <th>PA2</th>\n",
       "      <th>PA3</th>\n",
       "      <th>PA4</th>\n",
       "      <th>PA5</th>\n",
       "      <th>PA6</th>\n",
       "      <th>PA7</th>\n",
       "      <th>PA8</th>\n",
       "      <th>...</th>\n",
       "      <th>Lecture.21..1.</th>\n",
       "      <th>Lecture.22..1.</th>\n",
       "      <th>Lecture.23..1.</th>\n",
       "      <th>Lecture.24..1.</th>\n",
       "      <th>Lecture.25..1.</th>\n",
       "      <th>Lecture.26..1.</th>\n",
       "      <th>Lecture.27..1.</th>\n",
       "      <th>Lecture.28..1.</th>\n",
       "      <th>Lecture.29..1.</th>\n",
       "      <th>DeID</th>\n",
       "    </tr>\n",
       "  </thead>\n",
       "  <tbody>\n",
       "    <tr>\n",
       "      <th>0</th>\n",
       "      <td>0.959167</td>\n",
       "      <td>0.883333</td>\n",
       "      <td>1.0</td>\n",
       "      <td>1.0</td>\n",
       "      <td>1.0</td>\n",
       "      <td>1.000000</td>\n",
       "      <td>1.0</td>\n",
       "      <td>1.0</td>\n",
       "      <td>1.0</td>\n",
       "      <td>1.00</td>\n",
       "      <td>...</td>\n",
       "      <td>1</td>\n",
       "      <td>1</td>\n",
       "      <td>1</td>\n",
       "      <td>1</td>\n",
       "      <td>1</td>\n",
       "      <td>1</td>\n",
       "      <td>1</td>\n",
       "      <td>1</td>\n",
       "      <td>1</td>\n",
       "      <td>00T90APX</td>\n",
       "    </tr>\n",
       "    <tr>\n",
       "      <th>1</th>\n",
       "      <td>0.067128</td>\n",
       "      <td>0.000000</td>\n",
       "      <td>1.0</td>\n",
       "      <td>0.0</td>\n",
       "      <td>0.0</td>\n",
       "      <td>0.000000</td>\n",
       "      <td>0.0</td>\n",
       "      <td>0.0</td>\n",
       "      <td>0.0</td>\n",
       "      <td>0.00</td>\n",
       "      <td>...</td>\n",
       "      <td>0</td>\n",
       "      <td>0</td>\n",
       "      <td>1</td>\n",
       "      <td>0</td>\n",
       "      <td>0</td>\n",
       "      <td>0</td>\n",
       "      <td>0</td>\n",
       "      <td>0</td>\n",
       "      <td>0</td>\n",
       "      <td>01EAM9F6</td>\n",
       "    </tr>\n",
       "    <tr>\n",
       "      <th>2</th>\n",
       "      <td>0.943173</td>\n",
       "      <td>0.875000</td>\n",
       "      <td>1.0</td>\n",
       "      <td>1.0</td>\n",
       "      <td>1.0</td>\n",
       "      <td>0.866667</td>\n",
       "      <td>1.0</td>\n",
       "      <td>1.0</td>\n",
       "      <td>1.0</td>\n",
       "      <td>1.00</td>\n",
       "      <td>...</td>\n",
       "      <td>1</td>\n",
       "      <td>1</td>\n",
       "      <td>1</td>\n",
       "      <td>1</td>\n",
       "      <td>1</td>\n",
       "      <td>1</td>\n",
       "      <td>0</td>\n",
       "      <td>1</td>\n",
       "      <td>1</td>\n",
       "      <td>025LQFB2</td>\n",
       "    </tr>\n",
       "    <tr>\n",
       "      <th>3</th>\n",
       "      <td>0.975942</td>\n",
       "      <td>0.958333</td>\n",
       "      <td>1.0</td>\n",
       "      <td>1.0</td>\n",
       "      <td>1.0</td>\n",
       "      <td>1.000000</td>\n",
       "      <td>1.0</td>\n",
       "      <td>1.0</td>\n",
       "      <td>1.0</td>\n",
       "      <td>0.99</td>\n",
       "      <td>...</td>\n",
       "      <td>1</td>\n",
       "      <td>1</td>\n",
       "      <td>1</td>\n",
       "      <td>0</td>\n",
       "      <td>1</td>\n",
       "      <td>1</td>\n",
       "      <td>1</td>\n",
       "      <td>1</td>\n",
       "      <td>1</td>\n",
       "      <td>039HIM2X</td>\n",
       "    </tr>\n",
       "    <tr>\n",
       "      <th>4</th>\n",
       "      <td>0.991250</td>\n",
       "      <td>0.975000</td>\n",
       "      <td>1.0</td>\n",
       "      <td>1.0</td>\n",
       "      <td>1.0</td>\n",
       "      <td>1.000000</td>\n",
       "      <td>1.0</td>\n",
       "      <td>1.0</td>\n",
       "      <td>1.0</td>\n",
       "      <td>1.00</td>\n",
       "      <td>...</td>\n",
       "      <td>1</td>\n",
       "      <td>1</td>\n",
       "      <td>1</td>\n",
       "      <td>1</td>\n",
       "      <td>1</td>\n",
       "      <td>1</td>\n",
       "      <td>1</td>\n",
       "      <td>1</td>\n",
       "      <td>1</td>\n",
       "      <td>04T56IGQ</td>\n",
       "    </tr>\n",
       "  </tbody>\n",
       "</table>\n",
       "<p>5 rows × 40 columns</p>\n",
       "</div>"
      ],
      "text/plain": [
       "   Overall.weighted.course.percentage  Final.exam.percentage  PA1  PA2  PA3  \\\n",
       "0                            0.959167               0.883333  1.0  1.0  1.0   \n",
       "1                            0.067128               0.000000  1.0  0.0  0.0   \n",
       "2                            0.943173               0.875000  1.0  1.0  1.0   \n",
       "3                            0.975942               0.958333  1.0  1.0  1.0   \n",
       "4                            0.991250               0.975000  1.0  1.0  1.0   \n",
       "\n",
       "        PA4  PA5  PA6  PA7   PA8  ...  Lecture.21..1.  Lecture.22..1.  \\\n",
       "0  1.000000  1.0  1.0  1.0  1.00  ...               1               1   \n",
       "1  0.000000  0.0  0.0  0.0  0.00  ...               0               0   \n",
       "2  0.866667  1.0  1.0  1.0  1.00  ...               1               1   \n",
       "3  1.000000  1.0  1.0  1.0  0.99  ...               1               1   \n",
       "4  1.000000  1.0  1.0  1.0  1.00  ...               1               1   \n",
       "\n",
       "   Lecture.23..1.  Lecture.24..1.  Lecture.25..1.  Lecture.26..1.  \\\n",
       "0               1               1               1               1   \n",
       "1               1               0               0               0   \n",
       "2               1               1               1               1   \n",
       "3               1               0               1               1   \n",
       "4               1               1               1               1   \n",
       "\n",
       "   Lecture.27..1.  Lecture.28..1.  Lecture.29..1.      DeID  \n",
       "0               1               1               1  00T90APX  \n",
       "1               0               0               0  01EAM9F6  \n",
       "2               0               1               1  025LQFB2  \n",
       "3               1               1               1  039HIM2X  \n",
       "4               1               1               1  04T56IGQ  \n",
       "\n",
       "[5 rows x 40 columns]"
      ]
     },
     "execution_count": 39,
     "metadata": {},
     "output_type": "execute_result"
    }
   ],
   "source": [
    "grade_reporting.head()"
   ]
  },
  {
   "cell_type": "code",
   "execution_count": 40,
   "metadata": {},
   "outputs": [
    {
     "data": {
      "text/html": [
       "<div>\n",
       "<style scoped>\n",
       "    .dataframe tbody tr th:only-of-type {\n",
       "        vertical-align: middle;\n",
       "    }\n",
       "\n",
       "    .dataframe tbody tr th {\n",
       "        vertical-align: top;\n",
       "    }\n",
       "\n",
       "    .dataframe thead th {\n",
       "        text-align: right;\n",
       "    }\n",
       "</style>\n",
       "<table border=\"1\" class=\"dataframe\">\n",
       "  <thead>\n",
       "    <tr style=\"text-align: right;\">\n",
       "      <th></th>\n",
       "      <th>Overall.weighted.course.percentage</th>\n",
       "      <th>Final.exam.percentage</th>\n",
       "      <th>DeID</th>\n",
       "    </tr>\n",
       "  </thead>\n",
       "  <tbody>\n",
       "    <tr>\n",
       "      <th>0</th>\n",
       "      <td>0.959167</td>\n",
       "      <td>0.883333</td>\n",
       "      <td>00T90APX</td>\n",
       "    </tr>\n",
       "    <tr>\n",
       "      <th>1</th>\n",
       "      <td>0.067128</td>\n",
       "      <td>0.000000</td>\n",
       "      <td>01EAM9F6</td>\n",
       "    </tr>\n",
       "    <tr>\n",
       "      <th>2</th>\n",
       "      <td>0.943173</td>\n",
       "      <td>0.875000</td>\n",
       "      <td>025LQFB2</td>\n",
       "    </tr>\n",
       "    <tr>\n",
       "      <th>3</th>\n",
       "      <td>0.975942</td>\n",
       "      <td>0.958333</td>\n",
       "      <td>039HIM2X</td>\n",
       "    </tr>\n",
       "    <tr>\n",
       "      <th>4</th>\n",
       "      <td>0.991250</td>\n",
       "      <td>0.975000</td>\n",
       "      <td>04T56IGQ</td>\n",
       "    </tr>\n",
       "  </tbody>\n",
       "</table>\n",
       "</div>"
      ],
      "text/plain": [
       "   Overall.weighted.course.percentage  Final.exam.percentage      DeID\n",
       "0                            0.959167               0.883333  00T90APX\n",
       "1                            0.067128               0.000000  01EAM9F6\n",
       "2                            0.943173               0.875000  025LQFB2\n",
       "3                            0.975942               0.958333  039HIM2X\n",
       "4                            0.991250               0.975000  04T56IGQ"
      ]
     },
     "execution_count": 40,
     "metadata": {},
     "output_type": "execute_result"
    }
   ],
   "source": [
    "#extracting the table which contains only the final exam scores, overall course weightage and DeiD\n",
    "scores_and_DeID = grade_reporting[[\"Overall.weighted.course.percentage\",\"Final.exam.percentage\",\"DeID\"]]\n",
    "scores_and_DeID.head()"
   ]
  },
  {
   "cell_type": "code",
   "execution_count": 41,
   "metadata": {},
   "outputs": [
    {
     "name": "stdout",
     "output_type": "stream",
     "text": [
      "    transfer_student_status      DeID  Overall.weighted.course.percentage  \\\n",
      "0                        No  00T90APX                            0.959167   \n",
      "1                       Yes  01EAM9F6                            0.067128   \n",
      "2                        No  025LQFB2                            0.943173   \n",
      "3                        No  039HIM2X                            0.975942   \n",
      "4                        No  04T56IGQ                            0.991250   \n",
      "..                      ...       ...                                 ...   \n",
      "465                      No  ZT9CDKWM                            0.973750   \n",
      "466                     Yes  ZTFNAYUD                            0.011846   \n",
      "467                      No  ZWOIJJTE                            0.855321   \n",
      "468                      No  ZZ5H6MQD                            0.859263   \n",
      "469                      No  ZZCK945I                            0.976667   \n",
      "\n",
      "     Final.exam.percentage  \n",
      "0                 0.883333  \n",
      "1                 0.000000  \n",
      "2                 0.875000  \n",
      "3                 0.958333  \n",
      "4                 0.975000  \n",
      "..                     ...  \n",
      "465               0.925000  \n",
      "466               0.000000  \n",
      "467               0.558333  \n",
      "468               0.825000  \n",
      "469               0.933333  \n",
      "\n",
      "[470 rows x 4 columns]\n"
     ]
    }
   ],
   "source": [
    "#merging the transfer status, deID and two columns with score percentages:\n",
    "scores_and_status = pd.merge(transferStatusWithDeID,scores_and_DeID)\n",
    "print(scores_and_status)"
   ]
  },
  {
   "cell_type": "code",
   "execution_count": 42,
   "metadata": {},
   "outputs": [
    {
     "name": "stdout",
     "output_type": "stream",
     "text": [
      "<class 'pandas.core.frame.DataFrame'>\n",
      "Int64Index: 470 entries, 0 to 469\n",
      "Data columns (total 4 columns):\n",
      " #   Column                              Non-Null Count  Dtype  \n",
      "---  ------                              --------------  -----  \n",
      " 0   transfer_student_status             470 non-null    object \n",
      " 1   DeID                                470 non-null    object \n",
      " 2   Overall.weighted.course.percentage  470 non-null    float64\n",
      " 3   Final.exam.percentage               470 non-null    float64\n",
      "dtypes: float64(2), object(2)\n",
      "memory usage: 18.4+ KB\n"
     ]
    }
   ],
   "source": [
    "scores_and_status.info() #making sure all objects are non-null"
   ]
  },
  {
   "cell_type": "code",
   "execution_count": 43,
   "metadata": {},
   "outputs": [
    {
     "name": "stdout",
     "output_type": "stream",
     "text": [
      "    transfer_student_status      DeID  Overall.weighted.course.percentage  \\\n",
      "1                       Yes  01EAM9F6                            0.067128   \n",
      "21                      Yes  1DSTM3NG                            0.140051   \n",
      "24                      Yes  1ORHZ9JA                            0.923205   \n",
      "48                      Yes  3D3BRZB7                            0.943862   \n",
      "51                      Yes  3LYT1R1X                            0.935686   \n",
      "61                      Yes  51MR6YN1                            0.902859   \n",
      "75                      Yes  62IJ27VA                            0.988333   \n",
      "81                      Yes  6KO63VOW                            0.217385   \n",
      "93                      Yes  7GKTBBQY                            0.075846   \n",
      "101                     Yes  7S0FMBQB                            0.961154   \n",
      "110                     Yes  85YCIZ2K                            0.967891   \n",
      "113                     Yes  8FD8NOQY                            0.537065   \n",
      "114                     Yes  8G81OREG                            0.966635   \n",
      "117                     Yes  8JQRO9KW                            0.078974   \n",
      "121                     Yes  8YS6M6C0                            0.915750   \n",
      "128                     Yes  9LF9PU4W                            0.292681   \n",
      "136                     Yes  AO4WFFN0                            0.951955   \n",
      "139                     Yes  ATWZ3PZ6                            0.941667   \n",
      "150                     Yes  BCXJAPBJ                            0.308923   \n",
      "151                     Yes  BCZGCAJB                            0.950849   \n",
      "155                     Yes  BRYF73OQ                            0.965349   \n",
      "170                     Yes  CLU6PGGE                            0.979583   \n",
      "172                     Yes  CPS8CQC1                            0.796282   \n",
      "184                     Yes  DAQ4SSPK                            0.885333   \n",
      "197                     Yes  EE22KW3L                            0.918910   \n",
      "199                     Yes  EH7RSDTQ                            0.961506   \n",
      "201                     Yes  EJSUZNPO                            0.877692   \n",
      "212                     Yes  FRJSIMSV                            0.969917   \n",
      "214                     Yes  G5YXDDPR                            0.024886   \n",
      "218                     Yes  GWUK4UCJ                            0.807186   \n",
      "221                     Yes  H0SFXTFC                            0.912519   \n",
      "224                     Yes  H4HJIJP5                            0.419142   \n",
      "233                     Yes  HSP1S3XY                            0.964795   \n",
      "248                     Yes  J1PCI69A                            0.935609   \n",
      "256                     Yes  JLRFPHJ2                            0.885833   \n",
      "258                     Yes  JY894RFR                            0.093846   \n",
      "267                     Yes  KRBO4QLI                            0.940192   \n",
      "277                     Yes  M2SDZRSC                            0.755788   \n",
      "279                     Yes  M8DIDKOE                            0.934551   \n",
      "282                     Yes  MEIFG7HF                            0.964071   \n",
      "298                     Yes  NH0PIRTX                            0.920160   \n",
      "307                     Yes  OESLDMF1                            0.825903   \n",
      "310                     Yes  ONQSHFR6                            0.846577   \n",
      "318                     Yes  PCHW556G                            0.129385   \n",
      "330                     Yes  PVN05UGV                            0.887744   \n",
      "333                     Yes  Q1QFETHH                            0.020271   \n",
      "343                     Yes  QPUVTHZI                            0.769282   \n",
      "347                     Yes  QSP1VG5S                            0.922788   \n",
      "353                     Yes  R8MWFAI6                            0.979583   \n",
      "356                     Yes  RK3060PU                            0.962083   \n",
      "366                     Yes  SNQLQ9XA                            0.877404   \n",
      "393                     Yes  UKS0XE1Y                            0.972821   \n",
      "395                     Yes  UOFWRHK7                            0.945481   \n",
      "419                     Yes  WMYR9H6U                            0.880609   \n",
      "449                     Yes  YLTK6KTA                            0.092872   \n",
      "461                     Yes  ZNGQJMEC                            0.963474   \n",
      "466                     Yes  ZTFNAYUD                            0.011846   \n",
      "\n",
      "     Final.exam.percentage  \n",
      "1                 0.000000  \n",
      "21                0.000000  \n",
      "24                0.833333  \n",
      "48                0.841667  \n",
      "51                0.875000  \n",
      "61                0.816667  \n",
      "75                0.966667  \n",
      "81                0.000000  \n",
      "93                0.000000  \n",
      "101               0.900000  \n",
      "110               0.941667  \n",
      "113               0.000000  \n",
      "114               0.908333  \n",
      "117               0.000000  \n",
      "121               0.791667  \n",
      "128               0.000000  \n",
      "136               0.891667  \n",
      "139               0.833333  \n",
      "150               0.000000  \n",
      "151               0.858333  \n",
      "155               0.933333  \n",
      "170               0.941667  \n",
      "172               0.775000  \n",
      "184               0.766667  \n",
      "197               0.816667  \n",
      "199               0.908333  \n",
      "201               0.733333  \n",
      "212               0.925000  \n",
      "214               0.000000  \n",
      "218               0.725000  \n",
      "221               0.841667  \n",
      "224               0.625000  \n",
      "233               0.966667  \n",
      "248               0.841667  \n",
      "256               0.683333  \n",
      "258               0.000000  \n",
      "267               0.883333  \n",
      "277               0.758333  \n",
      "279               0.816667  \n",
      "282               0.908333  \n",
      "298               0.858333  \n",
      "307               0.750000  \n",
      "310               0.716667  \n",
      "318               0.000000  \n",
      "330               0.800000  \n",
      "333               0.000000  \n",
      "343               0.600000  \n",
      "347               0.908333  \n",
      "353               0.941667  \n",
      "356               0.891667  \n",
      "366               0.675000  \n",
      "393               0.933333  \n",
      "395               0.941667  \n",
      "419               0.741667  \n",
      "449               0.000000  \n",
      "461               0.933333  \n",
      "466               0.000000  \n"
     ]
    }
   ],
   "source": [
    "#getting the average final exam scores and overall weightage for just transfers:\n",
    "transfers_info = scores_and_status[scores_and_status.transfer_student_status == \"Yes\"]\n",
    "print(transfers_finalExamAvg)"
   ]
  },
  {
   "cell_type": "code",
   "execution_count": 44,
   "metadata": {},
   "outputs": [
    {
     "name": "stdout",
     "output_type": "stream",
     "text": [
      "    transfer_student_status      DeID  Overall.weighted.course.percentage  \\\n",
      "0                        No  00T90APX                            0.959167   \n",
      "2                        No  025LQFB2                            0.943173   \n",
      "3                        No  039HIM2X                            0.975942   \n",
      "4                        No  04T56IGQ                            0.991250   \n",
      "5                        No  06HH1YB1                            0.911442   \n",
      "..                      ...       ...                                 ...   \n",
      "464                      No  ZQRWVMSS                            0.924167   \n",
      "465                      No  ZT9CDKWM                            0.973750   \n",
      "467                      No  ZWOIJJTE                            0.855321   \n",
      "468                      No  ZZ5H6MQD                            0.859263   \n",
      "469                      No  ZZCK945I                            0.976667   \n",
      "\n",
      "     Final.exam.percentage  \n",
      "0                 0.883333  \n",
      "2                 0.875000  \n",
      "3                 0.958333  \n",
      "4                 0.975000  \n",
      "5                 0.791667  \n",
      "..                     ...  \n",
      "464               0.850000  \n",
      "465               0.925000  \n",
      "467               0.558333  \n",
      "468               0.825000  \n",
      "469               0.933333  \n",
      "\n",
      "[413 rows x 4 columns]\n"
     ]
    }
   ],
   "source": [
    "#getting all relevant scores for natives:\n",
    "natives_info = scores_and_status[scores_and_status.transfer_student_status == \"No\"]\n",
    "print(natives_info)"
   ]
  },
  {
   "cell_type": "code",
   "execution_count": 45,
   "metadata": {},
   "outputs": [
    {
     "name": "stdout",
     "output_type": "stream",
     "text": [
      "63.1578947385965\n"
     ]
    }
   ],
   "source": [
    "#calculating average final exam score for transfers:\n",
    "transfers_final_avg = (transfers_info[\"Final.exam.percentage\"].mean()) * 100\n",
    "print(transfers_final_avg)"
   ]
  },
  {
   "cell_type": "code",
   "execution_count": 46,
   "metadata": {},
   "outputs": [
    {
     "name": "stdout",
     "output_type": "stream",
     "text": [
      "78.21630347118642\n"
     ]
    }
   ],
   "source": [
    "#calculating average final exam score for natives:\n",
    "natives_final_avg = (natives_info[\"Final.exam.percentage\"].mean()) * 100\n",
    "print(natives_final_avg)"
   ]
  },
  {
   "cell_type": "code",
   "execution_count": 47,
   "metadata": {},
   "outputs": [
    {
     "name": "stdout",
     "output_type": "stream",
     "text": [
      "72.05118469999998\n"
     ]
    }
   ],
   "source": [
    "#calculating average overall weighted percentage for transfers:\n",
    "transfers_overall_avg = (transfers_info[\"Overall.weighted.course.percentage\"].mean()) * 100\n",
    "print(transfers_overall_avg)"
   ]
  },
  {
   "cell_type": "code",
   "execution_count": 48,
   "metadata": {},
   "outputs": [
    {
     "name": "stdout",
     "output_type": "stream",
     "text": [
      "85.73772595205811\n"
     ]
    }
   ],
   "source": [
    "#calculating average overall weighted percentage for natives:\n",
    "natives_overall_avg = (natives_info[\"Overall.weighted.course.percentage\"].mean()) * 100\n",
    "print(natives_overall_avg)"
   ]
  },
  {
   "cell_type": "code",
   "execution_count": 122,
   "metadata": {},
   "outputs": [],
   "source": [
    "import warnings\n",
    "import matplotlib.cbook\n",
    "warnings.filterwarnings(\"ignore\",category=matplotlib.cbook.mplDeprecation)"
   ]
  },
  {
   "cell_type": "code",
   "execution_count": 123,
   "metadata": {},
   "outputs": [],
   "source": [
    "#finals percentage data (blue bars):\n",
    "n = 1 #since this is our first dataset\n",
    "t = 2 #number of datasets\n",
    "d = 2 #number of sets of bars\n",
    "w = 0.8 #specifying the width\n",
    "x_values1 = [t*element + w*n for element in range(d)]"
   ]
  },
  {
   "cell_type": "code",
   "execution_count": 124,
   "metadata": {},
   "outputs": [],
   "source": [
    "#overall percentage data (orange bars):\n",
    "n = 2 #This is our second dataset\n",
    "t = 2 #number of datasets\n",
    "d = 2 #number of sets of bars\n",
    "w = 0.8 #width of bars\n",
    "x_values2 = [t*element + w*n for element in range(d)]"
   ]
  },
  {
   "cell_type": "code",
   "execution_count": 126,
   "metadata": {},
   "outputs": [
    {
     "data": {
      "image/png": "[encoded data removed]",
      "text/plain": [
       "<Figure size 432x288 with 1 Axes>"
      ]
     },
     "metadata": {
      "needs_background": "light"
     },
     "output_type": "display_data"
    }
   ],
   "source": [
    "final_exam_list = [transfers_final_avg,natives_final_avg]\n",
    "overall_course_list = [transfers_overall_avg,natives_overall_avg]\n",
    "plt.bar(x_values1,final_exam_list) #plotting the final exam percentages\n",
    "plt.bar(x_values2,overall_course_list) #plotting the overall course percentages\n",
    "\n",
    "ax = plt.subplot()\n",
    "ax.set_xticks([1.2,3.2]) #placement of the ticks\n",
    "ax.set_xticklabels([\"Final exam\", \"Overall course\"])\n",
    "\n",
    "plt.legend(['transfers','natives'])\n",
    "plt.ylim(0,100)\n",
    "plt.ylabel(\"Percentage\")\n",
    "\n",
    "plt.show()"
   ]
  },
  {
   "cell_type": "code",
   "execution_count": null,
   "metadata": {},
   "outputs": [],
   "source": []
  }
 ],
 "metadata": {
  "kernelspec": {
   "display_name": "Python 3",
   "language": "python",
   "name": "python3"
  },
  "language_info": {
   "codemirror_mode": {
    "name": "ipython",
    "version": 3
   },
   "file_extension": ".py",
   "mimetype": "text/x-python",
   "name": "python",
   "nbconvert_exporter": "python",
   "pygments_lexer": "ipython3",
   "version": "3.7.7"
  }
 },
 "nbformat": 4,
 "nbformat_minor": 4
}
