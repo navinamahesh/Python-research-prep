{
 "cells": [
  {
   "cell_type": "code",
   "execution_count": 1,
   "metadata": {},
   "outputs": [],
   "source": [
    "import pandas as pd\n",
    "from pandas import Series, DataFrame\n",
    "import numpy as np\n",
    "from matplotlib import pyplot as plt"
   ]
  },
  {
   "cell_type": "code",
   "execution_count": 2,
   "metadata": {},
   "outputs": [],
   "source": [
    "#reading in the CSE 11 file which has the PA grades:\n",
    "grade_reporting = pd.read_csv(\"../Data/CSE 11 Fall 2019 DeID/DeID GradeReporting_CSE11_F19.csv\")"
   ]
  },
  {
   "cell_type": "code",
   "execution_count": 3,
   "metadata": {},
   "outputs": [],
   "source": [
    "#reading in the CSE 11 file which has the pre_survey data:\n",
    "pre_survey = pd.read_csv(\"../Data/CSE 11 Fall 2019 DeID/DeID Pre-Survey CSE 11 Fall 2019.csv\")"
   ]
  },
  {
   "cell_type": "code",
   "execution_count": 4,
   "metadata": {},
   "outputs": [],
   "source": [
    "#renaming the \"Did you enter UCSD as a transfer student....\" column:\n",
    "pre_survey = pre_survey.rename(columns =({\"Did.you.enter.UCSD.as.a.transfer.student.from.another..2.year.or.4.year..college.or.university.\":\"transfer_student_status\"}))"
   ]
  },
  {
   "cell_type": "code",
   "execution_count": 5,
   "metadata": {},
   "outputs": [
    {
     "data": {
      "text/html": [
       "<div>\n",
       "<style scoped>\n",
       "    .dataframe tbody tr th:only-of-type {\n",
       "        vertical-align: middle;\n",
       "    }\n",
       "\n",
       "    .dataframe tbody tr th {\n",
       "        vertical-align: top;\n",
       "    }\n",
       "\n",
       "    .dataframe thead th {\n",
       "        text-align: right;\n",
       "    }\n",
       "</style>\n",
       "<table border=\"1\" class=\"dataframe\">\n",
       "  <thead>\n",
       "    <tr style=\"text-align: right;\">\n",
       "      <th></th>\n",
       "      <th>Timestamp</th>\n",
       "      <th>transfer_student_status</th>\n",
       "      <th>If.your.current.declared.major.is.different.from.your.desired.major..i.e..you.hope.to.switch.majors...what.major.do.you.hope.to.switch.to...Leave.blank.if.this.does.not.apply.to.you..</th>\n",
       "      <th>What.is.the.main.reason.you.are.taking.this.course.</th>\n",
       "      <th>On.a.scale.of.1.to.5..how.much.experience.did.you.have.with.programming.computer.science.before.you.took.your.FIRST.course.at.UC.San.Diego.</th>\n",
       "      <th>Please.select.all.of.the.CS.programming.experiences.you.had.before.taking.your.FIRST.CS.course.at.UCSD.</th>\n",
       "      <th>Please.rate.your.current.level.of.experience.with.technology.in.general</th>\n",
       "      <th>On.a.scale.of.1.to.5..how.confident.are.you.about.your.ability.to.do.well.in.this.course.</th>\n",
       "      <th>What.is.the.MINIMUM.grade.you.think.you.would.be.satisfied.with.in.this.course...If.you.re.taking.this.course.pass.no.pass..note.that.C..is.the.threshold.for.passing...</th>\n",
       "      <th>What.is.your.gender.</th>\n",
       "      <th>What.is.your.ethnicity.</th>\n",
       "      <th>What.is.your.race...Select.all.that.apply.</th>\n",
       "      <th>What.is.your.fluency.with.English.</th>\n",
       "      <th>DeID</th>\n",
       "    </tr>\n",
       "  </thead>\n",
       "  <tbody>\n",
       "    <tr>\n",
       "      <th>0</th>\n",
       "      <td>9/27/2019 16:28</td>\n",
       "      <td>No</td>\n",
       "      <td>NaN</td>\n",
       "      <td>To fulfill a major requirement (for your curre...</td>\n",
       "      <td>3.0</td>\n",
       "      <td>Took AP CS A, Took AP Calculus, Took AP Statis...</td>\n",
       "      <td>A lot of experience: e.g., worked with multipl...</td>\n",
       "      <td>5.0</td>\n",
       "      <td>A</td>\n",
       "      <td>Male</td>\n",
       "      <td>Not Hispanic or Latino/a</td>\n",
       "      <td>East or Southeast Asian</td>\n",
       "      <td>I learned English as a child in a bilingual or...</td>\n",
       "      <td>00T90APX</td>\n",
       "    </tr>\n",
       "  </tbody>\n",
       "</table>\n",
       "</div>"
      ],
      "text/plain": [
       "         Timestamp transfer_student_status  \\\n",
       "0  9/27/2019 16:28                      No   \n",
       "\n",
       "  If.your.current.declared.major.is.different.from.your.desired.major..i.e..you.hope.to.switch.majors...what.major.do.you.hope.to.switch.to...Leave.blank.if.this.does.not.apply.to.you..  \\\n",
       "0                                                NaN                                                                                                                                        \n",
       "\n",
       "  What.is.the.main.reason.you.are.taking.this.course.  \\\n",
       "0  To fulfill a major requirement (for your curre...    \n",
       "\n",
       "   On.a.scale.of.1.to.5..how.much.experience.did.you.have.with.programming.computer.science.before.you.took.your.FIRST.course.at.UC.San.Diego.  \\\n",
       "0                                                3.0                                                                                             \n",
       "\n",
       "  Please.select.all.of.the.CS.programming.experiences.you.had.before.taking.your.FIRST.CS.course.at.UCSD.  \\\n",
       "0  Took AP CS A, Took AP Calculus, Took AP Statis...                                                        \n",
       "\n",
       "  Please.rate.your.current.level.of.experience.with.technology.in.general  \\\n",
       "0  A lot of experience: e.g., worked with multipl...                        \n",
       "\n",
       "   On.a.scale.of.1.to.5..how.confident.are.you.about.your.ability.to.do.well.in.this.course.  \\\n",
       "0                                                5.0                                           \n",
       "\n",
       "  What.is.the.MINIMUM.grade.you.think.you.would.be.satisfied.with.in.this.course...If.you.re.taking.this.course.pass.no.pass..note.that.C..is.the.threshold.for.passing...  \\\n",
       "0                                                  A                                                                                                                         \n",
       "\n",
       "  What.is.your.gender.   What.is.your.ethnicity.  \\\n",
       "0                 Male  Not Hispanic or Latino/a   \n",
       "\n",
       "  What.is.your.race...Select.all.that.apply.  \\\n",
       "0                    East or Southeast Asian   \n",
       "\n",
       "                  What.is.your.fluency.with.English.      DeID  \n",
       "0  I learned English as a child in a bilingual or...  00T90APX  "
      ]
     },
     "execution_count": 5,
     "metadata": {},
     "output_type": "execute_result"
    }
   ],
   "source": [
    "#making sure the column got renamed:\n",
    "pre_survey.head(1)"
   ]
  },
  {
   "cell_type": "code",
   "execution_count": 6,
   "metadata": {},
   "outputs": [],
   "source": [
    "#filtering the pre_survey table only with transfer status and DeID:\n",
    "transferStatusWithDeID = pre_survey[[\"transfer_student_status\",\"DeID\"]]"
   ]
  },
  {
   "cell_type": "code",
   "execution_count": 7,
   "metadata": {},
   "outputs": [
    {
     "name": "stdout",
     "output_type": "stream",
     "text": [
      "    transfer_student_status      DeID\n",
      "0                        No  00T90APX\n",
      "1                       Yes  01EAM9F6\n",
      "2                        No  025LQFB2\n",
      "3                        No  039HIM2X\n",
      "4                        No  04T56IGQ\n",
      "..                      ...       ...\n",
      "477                      No  ZWOIJJTE\n",
      "478                      No  ZZ5H6MQD\n",
      "479                      No  ZZCK945I\n",
      "480                     NaN       NaN\n",
      "481                     NaN       NaN\n",
      "\n",
      "[482 rows x 2 columns]\n"
     ]
    }
   ],
   "source": [
    "#viewing the filtered table(IMPORTANT: includes NaN values) :\n",
    "print(transferStatusWithDeID)"
   ]
  },
  {
   "cell_type": "code",
   "execution_count": 8,
   "metadata": {},
   "outputs": [],
   "source": [
    "transferStatusWithDeID = transferStatusWithDeID.dropna()"
   ]
  },
  {
   "cell_type": "code",
   "execution_count": 9,
   "metadata": {},
   "outputs": [],
   "source": [
    "#getting the x_values:\n",
    "x_label = [\"PA1\", \"PA2\",\"PA3\",\"PA4\",\"PA5\",\"PA6\",\"PA7\",\"PA8\",\"PA9\"]"
   ]
  },
  {
   "cell_type": "code",
   "execution_count": 10,
   "metadata": {},
   "outputs": [],
   "source": [
    "#filtering only the students that are TRANSFER students and printing that table:\n",
    "onlyTransferStudents = transferStatusWithDeID[transferStatusWithDeID.transfer_student_status == \"Yes\"]\n",
    "#print(onlyTransferStudents)"
   ]
  },
  {
   "cell_type": "code",
   "execution_count": 11,
   "metadata": {},
   "outputs": [
    {
     "name": "stdout",
     "output_type": "stream",
     "text": [
      "    transfer_student_status      DeID\n",
      "0                        No  00T90APX\n",
      "2                        No  025LQFB2\n",
      "3                        No  039HIM2X\n",
      "4                        No  04T56IGQ\n",
      "5                        No  06HH1YB1\n",
      "..                      ...       ...\n",
      "474                      No  ZQRWVMSS\n",
      "475                      No  ZT9CDKWM\n",
      "477                      No  ZWOIJJTE\n",
      "478                      No  ZZ5H6MQD\n",
      "479                      No  ZZCK945I\n",
      "\n",
      "[419 rows x 2 columns]\n"
     ]
    }
   ],
   "source": [
    "#filtering only students that are REGULAR students and printing that table:\n",
    "onlyRegularStudents = transferStatusWithDeID[transferStatusWithDeID.transfer_student_status == \"No\"]\n",
    "print(onlyRegularStudents)"
   ]
  },
  {
   "cell_type": "code",
   "execution_count": 12,
   "metadata": {},
   "outputs": [
    {
     "data": {
      "text/html": [
       "<div>\n",
       "<style scoped>\n",
       "    .dataframe tbody tr th:only-of-type {\n",
       "        vertical-align: middle;\n",
       "    }\n",
       "\n",
       "    .dataframe tbody tr th {\n",
       "        vertical-align: top;\n",
       "    }\n",
       "\n",
       "    .dataframe thead th {\n",
       "        text-align: right;\n",
       "    }\n",
       "</style>\n",
       "<table border=\"1\" class=\"dataframe\">\n",
       "  <thead>\n",
       "    <tr style=\"text-align: right;\">\n",
       "      <th></th>\n",
       "      <th>PA1</th>\n",
       "      <th>PA2</th>\n",
       "      <th>PA3</th>\n",
       "      <th>PA4</th>\n",
       "      <th>PA5</th>\n",
       "      <th>PA6</th>\n",
       "      <th>PA7</th>\n",
       "      <th>PA8</th>\n",
       "      <th>PA9</th>\n",
       "      <th>DeID</th>\n",
       "    </tr>\n",
       "  </thead>\n",
       "  <tbody>\n",
       "    <tr>\n",
       "      <th>0</th>\n",
       "      <td>1.0</td>\n",
       "      <td>1.0</td>\n",
       "      <td>1.0</td>\n",
       "      <td>1.000000</td>\n",
       "      <td>1.0</td>\n",
       "      <td>1.0</td>\n",
       "      <td>1.0</td>\n",
       "      <td>1.00</td>\n",
       "      <td>1.0</td>\n",
       "      <td>00T90APX</td>\n",
       "    </tr>\n",
       "    <tr>\n",
       "      <th>1</th>\n",
       "      <td>1.0</td>\n",
       "      <td>0.0</td>\n",
       "      <td>0.0</td>\n",
       "      <td>0.000000</td>\n",
       "      <td>0.0</td>\n",
       "      <td>0.0</td>\n",
       "      <td>0.0</td>\n",
       "      <td>0.00</td>\n",
       "      <td>0.0</td>\n",
       "      <td>01EAM9F6</td>\n",
       "    </tr>\n",
       "    <tr>\n",
       "      <th>2</th>\n",
       "      <td>1.0</td>\n",
       "      <td>1.0</td>\n",
       "      <td>1.0</td>\n",
       "      <td>0.866667</td>\n",
       "      <td>1.0</td>\n",
       "      <td>1.0</td>\n",
       "      <td>1.0</td>\n",
       "      <td>1.00</td>\n",
       "      <td>1.0</td>\n",
       "      <td>025LQFB2</td>\n",
       "    </tr>\n",
       "    <tr>\n",
       "      <th>3</th>\n",
       "      <td>1.0</td>\n",
       "      <td>1.0</td>\n",
       "      <td>1.0</td>\n",
       "      <td>1.000000</td>\n",
       "      <td>1.0</td>\n",
       "      <td>1.0</td>\n",
       "      <td>1.0</td>\n",
       "      <td>0.99</td>\n",
       "      <td>1.0</td>\n",
       "      <td>039HIM2X</td>\n",
       "    </tr>\n",
       "    <tr>\n",
       "      <th>4</th>\n",
       "      <td>1.0</td>\n",
       "      <td>1.0</td>\n",
       "      <td>1.0</td>\n",
       "      <td>1.000000</td>\n",
       "      <td>1.0</td>\n",
       "      <td>1.0</td>\n",
       "      <td>1.0</td>\n",
       "      <td>1.00</td>\n",
       "      <td>1.0</td>\n",
       "      <td>04T56IGQ</td>\n",
       "    </tr>\n",
       "  </tbody>\n",
       "</table>\n",
       "</div>"
      ],
      "text/plain": [
       "   PA1  PA2  PA3       PA4  PA5  PA6  PA7   PA8  PA9      DeID\n",
       "0  1.0  1.0  1.0  1.000000  1.0  1.0  1.0  1.00  1.0  00T90APX\n",
       "1  1.0  0.0  0.0  0.000000  0.0  0.0  0.0  0.00  0.0  01EAM9F6\n",
       "2  1.0  1.0  1.0  0.866667  1.0  1.0  1.0  1.00  1.0  025LQFB2\n",
       "3  1.0  1.0  1.0  1.000000  1.0  1.0  1.0  0.99  1.0  039HIM2X\n",
       "4  1.0  1.0  1.0  1.000000  1.0  1.0  1.0  1.00  1.0  04T56IGQ"
      ]
     },
     "execution_count": 12,
     "metadata": {},
     "output_type": "execute_result"
    }
   ],
   "source": [
    "#extracting the table which contains only the PA1 scores and DeID:\n",
    "PA_and_DeID = grade_reporting[[\"PA1\",\"PA2\",\"PA3\",\"PA4\",\"PA5\",\"PA6\",\"PA7\",\"PA8\",\"PA9\",\"DeID\"]]\n",
    "PA_and_DeID.head()"
   ]
  },
  {
   "cell_type": "code",
   "execution_count": 13,
   "metadata": {},
   "outputs": [
    {
     "data": {
      "text/html": [
       "<div>\n",
       "<style scoped>\n",
       "    .dataframe tbody tr th:only-of-type {\n",
       "        vertical-align: middle;\n",
       "    }\n",
       "\n",
       "    .dataframe tbody tr th {\n",
       "        vertical-align: top;\n",
       "    }\n",
       "\n",
       "    .dataframe thead th {\n",
       "        text-align: right;\n",
       "    }\n",
       "</style>\n",
       "<table border=\"1\" class=\"dataframe\">\n",
       "  <thead>\n",
       "    <tr style=\"text-align: right;\">\n",
       "      <th></th>\n",
       "      <th>transfer_student_status</th>\n",
       "      <th>DeID</th>\n",
       "      <th>PA1</th>\n",
       "      <th>PA2</th>\n",
       "      <th>PA3</th>\n",
       "      <th>PA4</th>\n",
       "      <th>PA5</th>\n",
       "      <th>PA6</th>\n",
       "      <th>PA7</th>\n",
       "      <th>PA8</th>\n",
       "      <th>PA9</th>\n",
       "    </tr>\n",
       "  </thead>\n",
       "  <tbody>\n",
       "    <tr>\n",
       "      <th>0</th>\n",
       "      <td>No</td>\n",
       "      <td>00T90APX</td>\n",
       "      <td>1.0</td>\n",
       "      <td>1.0</td>\n",
       "      <td>1.0</td>\n",
       "      <td>1.000000</td>\n",
       "      <td>1.0</td>\n",
       "      <td>1.0</td>\n",
       "      <td>1.0</td>\n",
       "      <td>1.00</td>\n",
       "      <td>1.0</td>\n",
       "    </tr>\n",
       "    <tr>\n",
       "      <th>1</th>\n",
       "      <td>Yes</td>\n",
       "      <td>01EAM9F6</td>\n",
       "      <td>1.0</td>\n",
       "      <td>0.0</td>\n",
       "      <td>0.0</td>\n",
       "      <td>0.000000</td>\n",
       "      <td>0.0</td>\n",
       "      <td>0.0</td>\n",
       "      <td>0.0</td>\n",
       "      <td>0.00</td>\n",
       "      <td>0.0</td>\n",
       "    </tr>\n",
       "    <tr>\n",
       "      <th>2</th>\n",
       "      <td>No</td>\n",
       "      <td>025LQFB2</td>\n",
       "      <td>1.0</td>\n",
       "      <td>1.0</td>\n",
       "      <td>1.0</td>\n",
       "      <td>0.866667</td>\n",
       "      <td>1.0</td>\n",
       "      <td>1.0</td>\n",
       "      <td>1.0</td>\n",
       "      <td>1.00</td>\n",
       "      <td>1.0</td>\n",
       "    </tr>\n",
       "    <tr>\n",
       "      <th>3</th>\n",
       "      <td>No</td>\n",
       "      <td>039HIM2X</td>\n",
       "      <td>1.0</td>\n",
       "      <td>1.0</td>\n",
       "      <td>1.0</td>\n",
       "      <td>1.000000</td>\n",
       "      <td>1.0</td>\n",
       "      <td>1.0</td>\n",
       "      <td>1.0</td>\n",
       "      <td>0.99</td>\n",
       "      <td>1.0</td>\n",
       "    </tr>\n",
       "    <tr>\n",
       "      <th>4</th>\n",
       "      <td>No</td>\n",
       "      <td>04T56IGQ</td>\n",
       "      <td>1.0</td>\n",
       "      <td>1.0</td>\n",
       "      <td>1.0</td>\n",
       "      <td>1.000000</td>\n",
       "      <td>1.0</td>\n",
       "      <td>1.0</td>\n",
       "      <td>1.0</td>\n",
       "      <td>1.00</td>\n",
       "      <td>1.0</td>\n",
       "    </tr>\n",
       "  </tbody>\n",
       "</table>\n",
       "</div>"
      ],
      "text/plain": [
       "  transfer_student_status      DeID  PA1  PA2  PA3       PA4  PA5  PA6  PA7  \\\n",
       "0                      No  00T90APX  1.0  1.0  1.0  1.000000  1.0  1.0  1.0   \n",
       "1                     Yes  01EAM9F6  1.0  0.0  0.0  0.000000  0.0  0.0  0.0   \n",
       "2                      No  025LQFB2  1.0  1.0  1.0  0.866667  1.0  1.0  1.0   \n",
       "3                      No  039HIM2X  1.0  1.0  1.0  1.000000  1.0  1.0  1.0   \n",
       "4                      No  04T56IGQ  1.0  1.0  1.0  1.000000  1.0  1.0  1.0   \n",
       "\n",
       "    PA8  PA9  \n",
       "0  1.00  1.0  \n",
       "1  0.00  0.0  \n",
       "2  1.00  1.0  \n",
       "3  0.99  1.0  \n",
       "4  1.00  1.0  "
      ]
     },
     "execution_count": 13,
     "metadata": {},
     "output_type": "execute_result"
    }
   ],
   "source": [
    "#merging the PA1 table with the table which has transfer student status:\n",
    "PA_transferStatus = pd.merge(transferStatusWithDeID,PA_and_DeID)\n",
    "PA_transferStatus.head() #to conduct a sanity check and make sure values are merged correctly"
   ]
  },
  {
   "cell_type": "code",
   "execution_count": 14,
   "metadata": {},
   "outputs": [
    {
     "data": {
      "text/html": [
       "<div>\n",
       "<style scoped>\n",
       "    .dataframe tbody tr th:only-of-type {\n",
       "        vertical-align: middle;\n",
       "    }\n",
       "\n",
       "    .dataframe tbody tr th {\n",
       "        vertical-align: top;\n",
       "    }\n",
       "\n",
       "    .dataframe thead th {\n",
       "        text-align: right;\n",
       "    }\n",
       "</style>\n",
       "<table border=\"1\" class=\"dataframe\">\n",
       "  <thead>\n",
       "    <tr style=\"text-align: right;\">\n",
       "      <th></th>\n",
       "      <th>transfer_student_status</th>\n",
       "      <th>DeID</th>\n",
       "      <th>PA1</th>\n",
       "      <th>PA2</th>\n",
       "      <th>PA3</th>\n",
       "      <th>PA4</th>\n",
       "      <th>PA5</th>\n",
       "      <th>PA6</th>\n",
       "      <th>PA7</th>\n",
       "      <th>PA8</th>\n",
       "      <th>PA9</th>\n",
       "    </tr>\n",
       "  </thead>\n",
       "  <tbody>\n",
       "    <tr>\n",
       "      <th>465</th>\n",
       "      <td>No</td>\n",
       "      <td>ZT9CDKWM</td>\n",
       "      <td>1.0</td>\n",
       "      <td>1.000000</td>\n",
       "      <td>1.000000</td>\n",
       "      <td>1.0</td>\n",
       "      <td>1.000000</td>\n",
       "      <td>1.0</td>\n",
       "      <td>1.0</td>\n",
       "      <td>1.00</td>\n",
       "      <td>1.00</td>\n",
       "    </tr>\n",
       "    <tr>\n",
       "      <th>466</th>\n",
       "      <td>Yes</td>\n",
       "      <td>ZTFNAYUD</td>\n",
       "      <td>0.0</td>\n",
       "      <td>0.000000</td>\n",
       "      <td>0.000000</td>\n",
       "      <td>0.0</td>\n",
       "      <td>0.000000</td>\n",
       "      <td>0.0</td>\n",
       "      <td>0.0</td>\n",
       "      <td>0.00</td>\n",
       "      <td>0.00</td>\n",
       "    </tr>\n",
       "    <tr>\n",
       "      <th>467</th>\n",
       "      <td>No</td>\n",
       "      <td>ZWOIJJTE</td>\n",
       "      <td>1.0</td>\n",
       "      <td>1.000000</td>\n",
       "      <td>1.000000</td>\n",
       "      <td>1.0</td>\n",
       "      <td>1.000000</td>\n",
       "      <td>1.0</td>\n",
       "      <td>1.0</td>\n",
       "      <td>1.00</td>\n",
       "      <td>1.00</td>\n",
       "    </tr>\n",
       "    <tr>\n",
       "      <th>468</th>\n",
       "      <td>No</td>\n",
       "      <td>ZZ5H6MQD</td>\n",
       "      <td>1.0</td>\n",
       "      <td>0.866667</td>\n",
       "      <td>0.933333</td>\n",
       "      <td>1.0</td>\n",
       "      <td>0.666667</td>\n",
       "      <td>1.0</td>\n",
       "      <td>1.0</td>\n",
       "      <td>0.99</td>\n",
       "      <td>0.85</td>\n",
       "    </tr>\n",
       "    <tr>\n",
       "      <th>469</th>\n",
       "      <td>No</td>\n",
       "      <td>ZZCK945I</td>\n",
       "      <td>1.0</td>\n",
       "      <td>1.000000</td>\n",
       "      <td>1.000000</td>\n",
       "      <td>1.0</td>\n",
       "      <td>1.000000</td>\n",
       "      <td>1.0</td>\n",
       "      <td>1.0</td>\n",
       "      <td>1.00</td>\n",
       "      <td>1.00</td>\n",
       "    </tr>\n",
       "  </tbody>\n",
       "</table>\n",
       "</div>"
      ],
      "text/plain": [
       "    transfer_student_status      DeID  PA1       PA2       PA3  PA4       PA5  \\\n",
       "465                      No  ZT9CDKWM  1.0  1.000000  1.000000  1.0  1.000000   \n",
       "466                     Yes  ZTFNAYUD  0.0  0.000000  0.000000  0.0  0.000000   \n",
       "467                      No  ZWOIJJTE  1.0  1.000000  1.000000  1.0  1.000000   \n",
       "468                      No  ZZ5H6MQD  1.0  0.866667  0.933333  1.0  0.666667   \n",
       "469                      No  ZZCK945I  1.0  1.000000  1.000000  1.0  1.000000   \n",
       "\n",
       "     PA6  PA7   PA8   PA9  \n",
       "465  1.0  1.0  1.00  1.00  \n",
       "466  0.0  0.0  0.00  0.00  \n",
       "467  1.0  1.0  1.00  1.00  \n",
       "468  1.0  1.0  0.99  0.85  \n",
       "469  1.0  1.0  1.00  1.00  "
      ]
     },
     "execution_count": 14,
     "metadata": {},
     "output_type": "execute_result"
    }
   ],
   "source": [
    "#to conduct a sanity check with the last 5 values:\n",
    "PA_transferStatus.tail()"
   ]
  },
  {
   "cell_type": "code",
   "execution_count": 15,
   "metadata": {},
   "outputs": [
    {
     "data": {
      "text/html": [
       "<div>\n",
       "<style scoped>\n",
       "    .dataframe tbody tr th:only-of-type {\n",
       "        vertical-align: middle;\n",
       "    }\n",
       "\n",
       "    .dataframe tbody tr th {\n",
       "        vertical-align: top;\n",
       "    }\n",
       "\n",
       "    .dataframe thead th {\n",
       "        text-align: right;\n",
       "    }\n",
       "</style>\n",
       "<table border=\"1\" class=\"dataframe\">\n",
       "  <thead>\n",
       "    <tr style=\"text-align: right;\">\n",
       "      <th></th>\n",
       "      <th>PA1</th>\n",
       "      <th>PA2</th>\n",
       "      <th>PA3</th>\n",
       "      <th>PA4</th>\n",
       "      <th>PA5</th>\n",
       "      <th>PA6</th>\n",
       "      <th>PA7</th>\n",
       "      <th>PA8</th>\n",
       "      <th>PA9</th>\n",
       "      <th>DeID</th>\n",
       "    </tr>\n",
       "  </thead>\n",
       "  <tbody>\n",
       "    <tr>\n",
       "      <th>492</th>\n",
       "      <td>1.0</td>\n",
       "      <td>1.000000</td>\n",
       "      <td>1.000000</td>\n",
       "      <td>1.0</td>\n",
       "      <td>1.000000</td>\n",
       "      <td>1.0</td>\n",
       "      <td>1.0</td>\n",
       "      <td>1.00</td>\n",
       "      <td>1.00</td>\n",
       "      <td>ZT9CDKWM</td>\n",
       "    </tr>\n",
       "    <tr>\n",
       "      <th>493</th>\n",
       "      <td>0.0</td>\n",
       "      <td>0.000000</td>\n",
       "      <td>0.000000</td>\n",
       "      <td>0.0</td>\n",
       "      <td>0.000000</td>\n",
       "      <td>0.0</td>\n",
       "      <td>0.0</td>\n",
       "      <td>0.00</td>\n",
       "      <td>0.00</td>\n",
       "      <td>ZTFNAYUD</td>\n",
       "    </tr>\n",
       "    <tr>\n",
       "      <th>494</th>\n",
       "      <td>1.0</td>\n",
       "      <td>1.000000</td>\n",
       "      <td>1.000000</td>\n",
       "      <td>1.0</td>\n",
       "      <td>1.000000</td>\n",
       "      <td>1.0</td>\n",
       "      <td>1.0</td>\n",
       "      <td>1.00</td>\n",
       "      <td>1.00</td>\n",
       "      <td>ZWOIJJTE</td>\n",
       "    </tr>\n",
       "    <tr>\n",
       "      <th>495</th>\n",
       "      <td>1.0</td>\n",
       "      <td>0.866667</td>\n",
       "      <td>0.933333</td>\n",
       "      <td>1.0</td>\n",
       "      <td>0.666667</td>\n",
       "      <td>1.0</td>\n",
       "      <td>1.0</td>\n",
       "      <td>0.99</td>\n",
       "      <td>0.85</td>\n",
       "      <td>ZZ5H6MQD</td>\n",
       "    </tr>\n",
       "    <tr>\n",
       "      <th>496</th>\n",
       "      <td>1.0</td>\n",
       "      <td>1.000000</td>\n",
       "      <td>1.000000</td>\n",
       "      <td>1.0</td>\n",
       "      <td>1.000000</td>\n",
       "      <td>1.0</td>\n",
       "      <td>1.0</td>\n",
       "      <td>1.00</td>\n",
       "      <td>1.00</td>\n",
       "      <td>ZZCK945I</td>\n",
       "    </tr>\n",
       "  </tbody>\n",
       "</table>\n",
       "</div>"
      ],
      "text/plain": [
       "     PA1       PA2       PA3  PA4       PA5  PA6  PA7   PA8   PA9      DeID\n",
       "492  1.0  1.000000  1.000000  1.0  1.000000  1.0  1.0  1.00  1.00  ZT9CDKWM\n",
       "493  0.0  0.000000  0.000000  0.0  0.000000  0.0  0.0  0.00  0.00  ZTFNAYUD\n",
       "494  1.0  1.000000  1.000000  1.0  1.000000  1.0  1.0  1.00  1.00  ZWOIJJTE\n",
       "495  1.0  0.866667  0.933333  1.0  0.666667  1.0  1.0  0.99  0.85  ZZ5H6MQD\n",
       "496  1.0  1.000000  1.000000  1.0  1.000000  1.0  1.0  1.00  1.00  ZZCK945I"
      ]
     },
     "execution_count": 15,
     "metadata": {},
     "output_type": "execute_result"
    }
   ],
   "source": [
    "#for sanity check purposes\n",
    "PA_and_DeID.tail()"
   ]
  },
  {
   "cell_type": "code",
   "execution_count": 16,
   "metadata": {},
   "outputs": [
    {
     "name": "stdout",
     "output_type": "stream",
     "text": [
      "<class 'pandas.core.frame.DataFrame'>\n",
      "Int64Index: 470 entries, 0 to 469\n",
      "Data columns (total 11 columns):\n",
      " #   Column                   Non-Null Count  Dtype  \n",
      "---  ------                   --------------  -----  \n",
      " 0   transfer_student_status  470 non-null    object \n",
      " 1   DeID                     470 non-null    object \n",
      " 2   PA1                      470 non-null    float64\n",
      " 3   PA2                      470 non-null    float64\n",
      " 4   PA3                      470 non-null    float64\n",
      " 5   PA4                      470 non-null    float64\n",
      " 6   PA5                      470 non-null    float64\n",
      " 7   PA6                      470 non-null    float64\n",
      " 8   PA7                      470 non-null    float64\n",
      " 9   PA8                      470 non-null    float64\n",
      " 10  PA9                      470 non-null    float64\n",
      "dtypes: float64(9), object(2)\n",
      "memory usage: 44.1+ KB\n"
     ]
    }
   ],
   "source": [
    "#for sanity check purposes:\n",
    "PA_transferStatus.info()"
   ]
  },
  {
   "cell_type": "code",
   "execution_count": 17,
   "metadata": {},
   "outputs": [
    {
     "data": {
      "text/html": [
       "<div>\n",
       "<style scoped>\n",
       "    .dataframe tbody tr th:only-of-type {\n",
       "        vertical-align: middle;\n",
       "    }\n",
       "\n",
       "    .dataframe tbody tr th {\n",
       "        vertical-align: top;\n",
       "    }\n",
       "\n",
       "    .dataframe thead th {\n",
       "        text-align: right;\n",
       "    }\n",
       "</style>\n",
       "<table border=\"1\" class=\"dataframe\">\n",
       "  <thead>\n",
       "    <tr style=\"text-align: right;\">\n",
       "      <th></th>\n",
       "      <th>transfer_student_status</th>\n",
       "      <th>DeID</th>\n",
       "      <th>PA1</th>\n",
       "      <th>PA2</th>\n",
       "      <th>PA3</th>\n",
       "      <th>PA4</th>\n",
       "      <th>PA5</th>\n",
       "      <th>PA6</th>\n",
       "      <th>PA7</th>\n",
       "      <th>PA8</th>\n",
       "      <th>PA9</th>\n",
       "    </tr>\n",
       "  </thead>\n",
       "  <tbody>\n",
       "    <tr>\n",
       "      <th>0</th>\n",
       "      <td>No</td>\n",
       "      <td>00T90APX</td>\n",
       "      <td>1.0</td>\n",
       "      <td>1.0</td>\n",
       "      <td>1.0</td>\n",
       "      <td>1.000000</td>\n",
       "      <td>1.0</td>\n",
       "      <td>1.0</td>\n",
       "      <td>1.0</td>\n",
       "      <td>1.00</td>\n",
       "      <td>1.0</td>\n",
       "    </tr>\n",
       "    <tr>\n",
       "      <th>1</th>\n",
       "      <td>Yes</td>\n",
       "      <td>01EAM9F6</td>\n",
       "      <td>1.0</td>\n",
       "      <td>0.0</td>\n",
       "      <td>0.0</td>\n",
       "      <td>0.000000</td>\n",
       "      <td>0.0</td>\n",
       "      <td>0.0</td>\n",
       "      <td>0.0</td>\n",
       "      <td>0.00</td>\n",
       "      <td>0.0</td>\n",
       "    </tr>\n",
       "    <tr>\n",
       "      <th>2</th>\n",
       "      <td>No</td>\n",
       "      <td>025LQFB2</td>\n",
       "      <td>1.0</td>\n",
       "      <td>1.0</td>\n",
       "      <td>1.0</td>\n",
       "      <td>0.866667</td>\n",
       "      <td>1.0</td>\n",
       "      <td>1.0</td>\n",
       "      <td>1.0</td>\n",
       "      <td>1.00</td>\n",
       "      <td>1.0</td>\n",
       "    </tr>\n",
       "    <tr>\n",
       "      <th>3</th>\n",
       "      <td>No</td>\n",
       "      <td>039HIM2X</td>\n",
       "      <td>1.0</td>\n",
       "      <td>1.0</td>\n",
       "      <td>1.0</td>\n",
       "      <td>1.000000</td>\n",
       "      <td>1.0</td>\n",
       "      <td>1.0</td>\n",
       "      <td>1.0</td>\n",
       "      <td>0.99</td>\n",
       "      <td>1.0</td>\n",
       "    </tr>\n",
       "    <tr>\n",
       "      <th>4</th>\n",
       "      <td>No</td>\n",
       "      <td>04T56IGQ</td>\n",
       "      <td>1.0</td>\n",
       "      <td>1.0</td>\n",
       "      <td>1.0</td>\n",
       "      <td>1.000000</td>\n",
       "      <td>1.0</td>\n",
       "      <td>1.0</td>\n",
       "      <td>1.0</td>\n",
       "      <td>1.00</td>\n",
       "      <td>1.0</td>\n",
       "    </tr>\n",
       "  </tbody>\n",
       "</table>\n",
       "</div>"
      ],
      "text/plain": [
       "  transfer_student_status      DeID  PA1  PA2  PA3       PA4  PA5  PA6  PA7  \\\n",
       "0                      No  00T90APX  1.0  1.0  1.0  1.000000  1.0  1.0  1.0   \n",
       "1                     Yes  01EAM9F6  1.0  0.0  0.0  0.000000  0.0  0.0  0.0   \n",
       "2                      No  025LQFB2  1.0  1.0  1.0  0.866667  1.0  1.0  1.0   \n",
       "3                      No  039HIM2X  1.0  1.0  1.0  1.000000  1.0  1.0  1.0   \n",
       "4                      No  04T56IGQ  1.0  1.0  1.0  1.000000  1.0  1.0  1.0   \n",
       "\n",
       "    PA8  PA9  \n",
       "0  1.00  1.0  \n",
       "1  0.00  0.0  \n",
       "2  1.00  1.0  \n",
       "3  0.99  1.0  \n",
       "4  1.00  1.0  "
      ]
     },
     "execution_count": 17,
     "metadata": {},
     "output_type": "execute_result"
    }
   ],
   "source": [
    "PA_transferStatus.head()"
   ]
  },
  {
   "cell_type": "code",
   "execution_count": 18,
   "metadata": {},
   "outputs": [
    {
     "data": {
      "text/html": [
       "<div>\n",
       "<style scoped>\n",
       "    .dataframe tbody tr th:only-of-type {\n",
       "        vertical-align: middle;\n",
       "    }\n",
       "\n",
       "    .dataframe tbody tr th {\n",
       "        vertical-align: top;\n",
       "    }\n",
       "\n",
       "    .dataframe thead th {\n",
       "        text-align: right;\n",
       "    }\n",
       "</style>\n",
       "<table border=\"1\" class=\"dataframe\">\n",
       "  <thead>\n",
       "    <tr style=\"text-align: right;\">\n",
       "      <th></th>\n",
       "      <th>Overall.weighted.course.percentage</th>\n",
       "      <th>Final.exam.percentage</th>\n",
       "      <th>PA1</th>\n",
       "      <th>PA2</th>\n",
       "      <th>PA3</th>\n",
       "      <th>PA4</th>\n",
       "      <th>PA5</th>\n",
       "      <th>PA6</th>\n",
       "      <th>PA7</th>\n",
       "      <th>PA8</th>\n",
       "      <th>...</th>\n",
       "      <th>Lecture.21..1.</th>\n",
       "      <th>Lecture.22..1.</th>\n",
       "      <th>Lecture.23..1.</th>\n",
       "      <th>Lecture.24..1.</th>\n",
       "      <th>Lecture.25..1.</th>\n",
       "      <th>Lecture.26..1.</th>\n",
       "      <th>Lecture.27..1.</th>\n",
       "      <th>Lecture.28..1.</th>\n",
       "      <th>Lecture.29..1.</th>\n",
       "      <th>DeID</th>\n",
       "    </tr>\n",
       "  </thead>\n",
       "  <tbody>\n",
       "    <tr>\n",
       "      <th>0</th>\n",
       "      <td>0.959167</td>\n",
       "      <td>0.883333</td>\n",
       "      <td>1.0</td>\n",
       "      <td>1.0</td>\n",
       "      <td>1.0</td>\n",
       "      <td>1.000000</td>\n",
       "      <td>1.0</td>\n",
       "      <td>1.0</td>\n",
       "      <td>1.0</td>\n",
       "      <td>1.00</td>\n",
       "      <td>...</td>\n",
       "      <td>1</td>\n",
       "      <td>1</td>\n",
       "      <td>1</td>\n",
       "      <td>1</td>\n",
       "      <td>1</td>\n",
       "      <td>1</td>\n",
       "      <td>1</td>\n",
       "      <td>1</td>\n",
       "      <td>1</td>\n",
       "      <td>00T90APX</td>\n",
       "    </tr>\n",
       "    <tr>\n",
       "      <th>1</th>\n",
       "      <td>0.067128</td>\n",
       "      <td>0.000000</td>\n",
       "      <td>1.0</td>\n",
       "      <td>0.0</td>\n",
       "      <td>0.0</td>\n",
       "      <td>0.000000</td>\n",
       "      <td>0.0</td>\n",
       "      <td>0.0</td>\n",
       "      <td>0.0</td>\n",
       "      <td>0.00</td>\n",
       "      <td>...</td>\n",
       "      <td>0</td>\n",
       "      <td>0</td>\n",
       "      <td>1</td>\n",
       "      <td>0</td>\n",
       "      <td>0</td>\n",
       "      <td>0</td>\n",
       "      <td>0</td>\n",
       "      <td>0</td>\n",
       "      <td>0</td>\n",
       "      <td>01EAM9F6</td>\n",
       "    </tr>\n",
       "    <tr>\n",
       "      <th>2</th>\n",
       "      <td>0.943173</td>\n",
       "      <td>0.875000</td>\n",
       "      <td>1.0</td>\n",
       "      <td>1.0</td>\n",
       "      <td>1.0</td>\n",
       "      <td>0.866667</td>\n",
       "      <td>1.0</td>\n",
       "      <td>1.0</td>\n",
       "      <td>1.0</td>\n",
       "      <td>1.00</td>\n",
       "      <td>...</td>\n",
       "      <td>1</td>\n",
       "      <td>1</td>\n",
       "      <td>1</td>\n",
       "      <td>1</td>\n",
       "      <td>1</td>\n",
       "      <td>1</td>\n",
       "      <td>0</td>\n",
       "      <td>1</td>\n",
       "      <td>1</td>\n",
       "      <td>025LQFB2</td>\n",
       "    </tr>\n",
       "    <tr>\n",
       "      <th>3</th>\n",
       "      <td>0.975942</td>\n",
       "      <td>0.958333</td>\n",
       "      <td>1.0</td>\n",
       "      <td>1.0</td>\n",
       "      <td>1.0</td>\n",
       "      <td>1.000000</td>\n",
       "      <td>1.0</td>\n",
       "      <td>1.0</td>\n",
       "      <td>1.0</td>\n",
       "      <td>0.99</td>\n",
       "      <td>...</td>\n",
       "      <td>1</td>\n",
       "      <td>1</td>\n",
       "      <td>1</td>\n",
       "      <td>0</td>\n",
       "      <td>1</td>\n",
       "      <td>1</td>\n",
       "      <td>1</td>\n",
       "      <td>1</td>\n",
       "      <td>1</td>\n",
       "      <td>039HIM2X</td>\n",
       "    </tr>\n",
       "    <tr>\n",
       "      <th>4</th>\n",
       "      <td>0.991250</td>\n",
       "      <td>0.975000</td>\n",
       "      <td>1.0</td>\n",
       "      <td>1.0</td>\n",
       "      <td>1.0</td>\n",
       "      <td>1.000000</td>\n",
       "      <td>1.0</td>\n",
       "      <td>1.0</td>\n",
       "      <td>1.0</td>\n",
       "      <td>1.00</td>\n",
       "      <td>...</td>\n",
       "      <td>1</td>\n",
       "      <td>1</td>\n",
       "      <td>1</td>\n",
       "      <td>1</td>\n",
       "      <td>1</td>\n",
       "      <td>1</td>\n",
       "      <td>1</td>\n",
       "      <td>1</td>\n",
       "      <td>1</td>\n",
       "      <td>04T56IGQ</td>\n",
       "    </tr>\n",
       "  </tbody>\n",
       "</table>\n",
       "<p>5 rows × 40 columns</p>\n",
       "</div>"
      ],
      "text/plain": [
       "   Overall.weighted.course.percentage  Final.exam.percentage  PA1  PA2  PA3  \\\n",
       "0                            0.959167               0.883333  1.0  1.0  1.0   \n",
       "1                            0.067128               0.000000  1.0  0.0  0.0   \n",
       "2                            0.943173               0.875000  1.0  1.0  1.0   \n",
       "3                            0.975942               0.958333  1.0  1.0  1.0   \n",
       "4                            0.991250               0.975000  1.0  1.0  1.0   \n",
       "\n",
       "        PA4  PA5  PA6  PA7   PA8  ...  Lecture.21..1.  Lecture.22..1.  \\\n",
       "0  1.000000  1.0  1.0  1.0  1.00  ...               1               1   \n",
       "1  0.000000  0.0  0.0  0.0  0.00  ...               0               0   \n",
       "2  0.866667  1.0  1.0  1.0  1.00  ...               1               1   \n",
       "3  1.000000  1.0  1.0  1.0  0.99  ...               1               1   \n",
       "4  1.000000  1.0  1.0  1.0  1.00  ...               1               1   \n",
       "\n",
       "   Lecture.23..1.  Lecture.24..1.  Lecture.25..1.  Lecture.26..1.  \\\n",
       "0               1               1               1               1   \n",
       "1               1               0               0               0   \n",
       "2               1               1               1               1   \n",
       "3               1               0               1               1   \n",
       "4               1               1               1               1   \n",
       "\n",
       "   Lecture.27..1.  Lecture.28..1.  Lecture.29..1.      DeID  \n",
       "0               1               1               1  00T90APX  \n",
       "1               0               0               0  01EAM9F6  \n",
       "2               0               1               1  025LQFB2  \n",
       "3               1               1               1  039HIM2X  \n",
       "4               1               1               1  04T56IGQ  \n",
       "\n",
       "[5 rows x 40 columns]"
      ]
     },
     "execution_count": 18,
     "metadata": {},
     "output_type": "execute_result"
    }
   ],
   "source": [
    "#getting the y_values (PA1 average for transfers):\n",
    "grade_reporting.head()"
   ]
  },
  {
   "cell_type": "code",
   "execution_count": 19,
   "metadata": {},
   "outputs": [
    {
     "name": "stdout",
     "output_type": "stream",
     "text": [
      "    transfer_student_status      DeID       PA1       PA2       PA3       PA4  \\\n",
      "1                       Yes  01EAM9F6  1.000000  0.000000  0.000000  0.000000   \n",
      "21                      Yes  1DSTM3NG  1.000000  0.933333  0.000000  0.000000   \n",
      "24                      Yes  1ORHZ9JA  1.000000  1.000000  1.000000  1.000000   \n",
      "48                      Yes  3D3BRZB7  1.000000  1.000000  1.000000  1.000000   \n",
      "51                      Yes  3LYT1R1X  1.000000  1.000000  1.000000  1.000000   \n",
      "61                      Yes  51MR6YN1  1.000000  1.000000  1.000000  1.000000   \n",
      "75                      Yes  62IJ27VA  1.000000  1.000000  1.000000  1.000000   \n",
      "81                      Yes  6KO63VOW  1.000000  1.000000  0.800000  0.266667   \n",
      "93                      Yes  7GKTBBQY  1.000000  0.200000  0.000000  0.000000   \n",
      "101                     Yes  7S0FMBQB  1.000000  1.000000  1.000000  1.000000   \n",
      "110                     Yes  85YCIZ2K  1.000000  1.000000  1.000000  1.000000   \n",
      "113                     Yes  8FD8NOQY  1.000000  1.000000  0.933333  0.866667   \n",
      "114                     Yes  8G81OREG  1.000000  1.000000  1.000000  1.000000   \n",
      "117                     Yes  8JQRO9KW  1.000000  0.000000  0.000000  0.000000   \n",
      "121                     Yes  8YS6M6C0  1.000000  1.000000  1.000000  1.000000   \n",
      "128                     Yes  9LF9PU4W  1.000000  1.000000  0.666667  0.800000   \n",
      "136                     Yes  AO4WFFN0  1.000000  1.000000  1.000000  1.000000   \n",
      "139                     Yes  ATWZ3PZ6  1.000000  1.000000  1.000000  1.000000   \n",
      "150                     Yes  BCXJAPBJ  1.000000  1.000000  1.000000  0.600000   \n",
      "151                     Yes  BCZGCAJB  1.000000  1.000000  1.000000  1.000000   \n",
      "155                     Yes  BRYF73OQ  1.000000  1.000000  1.000000  1.000000   \n",
      "170                     Yes  CLU6PGGE  1.000000  1.000000  1.000000  1.000000   \n",
      "172                     Yes  CPS8CQC1  1.000000  1.000000  1.000000  0.933333   \n",
      "184                     Yes  DAQ4SSPK  1.000000  0.666667  0.933333  1.000000   \n",
      "197                     Yes  EE22KW3L  1.000000  0.866667  1.000000  1.000000   \n",
      "199                     Yes  EH7RSDTQ  1.000000  1.000000  1.000000  1.000000   \n",
      "201                     Yes  EJSUZNPO  1.000000  0.866667  0.866667  0.866667   \n",
      "212                     Yes  FRJSIMSV  1.000000  1.000000  0.933333  1.000000   \n",
      "214                     Yes  G5YXDDPR  0.142857  0.066667  0.000000  0.000000   \n",
      "218                     Yes  GWUK4UCJ  1.000000  0.666667  0.933333  1.000000   \n",
      "221                     Yes  H0SFXTFC  1.000000  1.000000  1.000000  1.000000   \n",
      "224                     Yes  H4HJIJP5  1.000000  0.933333  0.866667  0.133333   \n",
      "233                     Yes  HSP1S3XY  1.000000  1.000000  1.000000  1.000000   \n",
      "248                     Yes  J1PCI69A  1.000000  1.000000  1.000000  1.000000   \n",
      "256                     Yes  JLRFPHJ2  1.000000  0.933333  1.000000  1.000000   \n",
      "258                     Yes  JY894RFR  1.000000  0.400000  0.000000  0.000000   \n",
      "267                     Yes  KRBO4QLI  1.000000  1.000000  1.000000  1.000000   \n",
      "277                     Yes  M2SDZRSC  1.000000  0.933333  0.000000  1.000000   \n",
      "279                     Yes  M8DIDKOE  1.000000  1.000000  1.000000  1.000000   \n",
      "282                     Yes  MEIFG7HF  1.000000  1.000000  1.000000  1.000000   \n",
      "298                     Yes  NH0PIRTX  1.000000  1.000000  0.866667  0.866667   \n",
      "307                     Yes  OESLDMF1  1.000000  0.933333  0.866667  0.600000   \n",
      "310                     Yes  ONQSHFR6  1.000000  0.933333  0.800000  1.000000   \n",
      "318                     Yes  PCHW556G  1.000000  0.800000  0.000000  0.000000   \n",
      "330                     Yes  PVN05UGV  1.000000  1.000000  1.000000  1.000000   \n",
      "333                     Yes  Q1QFETHH  0.142857  0.000000  0.000000  0.000000   \n",
      "343                     Yes  QPUVTHZI  1.000000  0.733333  0.600000  0.400000   \n",
      "347                     Yes  QSP1VG5S  1.000000  1.000000  1.000000  1.000000   \n",
      "353                     Yes  R8MWFAI6  1.000000  1.000000  1.000000  1.000000   \n",
      "356                     Yes  RK3060PU  1.000000  1.000000  1.000000  1.000000   \n",
      "366                     Yes  SNQLQ9XA  1.000000  1.000000  1.000000  1.000000   \n",
      "393                     Yes  UKS0XE1Y  1.000000  1.000000  1.000000  1.000000   \n",
      "395                     Yes  UOFWRHK7  1.000000  1.000000  1.000000  1.000000   \n",
      "419                     Yes  WMYR9H6U  1.000000  0.733333  0.866667  1.000000   \n",
      "449                     Yes  YLTK6KTA  1.000000  0.466667  0.000000  0.000000   \n",
      "461                     Yes  ZNGQJMEC  1.000000  1.000000  1.000000  1.000000   \n",
      "466                     Yes  ZTFNAYUD  0.000000  0.000000  0.000000  0.000000   \n",
      "\n",
      "          PA5       PA6       PA7       PA8       PA9  \n",
      "1    0.000000  0.000000  0.000000  0.000000  0.000000  \n",
      "21   0.000000  0.000000  0.000000  0.000000  0.000000  \n",
      "24   0.800000  1.000000  1.000000  0.933333  1.000000  \n",
      "48   1.000000  1.000000  1.000000  1.000000  1.000000  \n",
      "51   1.000000  1.000000  1.000000  0.940000  0.700000  \n",
      "61   1.000000  1.000000  1.000000  1.000000  1.000000  \n",
      "75   1.000000  1.000000  1.000000  1.000000  1.000000  \n",
      "81   0.000000  0.000000  0.000000  0.000000  0.000000  \n",
      "93   0.000000  0.000000  0.000000  0.000000  0.000000  \n",
      "101  1.000000  1.000000  1.000000  1.000000  1.000000  \n",
      "110  1.000000  1.000000  1.000000  1.000000  1.000000  \n",
      "113  0.600000  0.090909  0.733333  0.600000  0.400000  \n",
      "114  1.000000  1.000000  1.000000  1.000000  1.000000  \n",
      "117  0.000000  0.000000  0.000000  0.000000  0.000000  \n",
      "121  1.000000  1.000000  1.000000  1.000000  0.933333  \n",
      "128  0.666667  0.181818  0.066667  0.000000  0.533333  \n",
      "136  1.000000  1.000000  1.000000  0.900000  1.000000  \n",
      "139  1.000000  1.000000  1.000000  1.000000  1.000000  \n",
      "150  0.000000  0.000000  0.000000  0.000000  0.000000  \n",
      "151  1.000000  1.000000  1.000000  1.000000  1.000000  \n",
      "155  1.000000  1.000000  1.000000  1.000000  1.000000  \n",
      "170  1.000000  1.000000  1.000000  1.000000  1.000000  \n",
      "172  0.866667  1.000000  1.000000  0.833333  0.700000  \n",
      "184  1.000000  1.000000  1.000000  0.980000  0.760000  \n",
      "197  1.000000  1.000000  1.000000  1.000000  1.000000  \n",
      "199  1.000000  1.000000  1.000000  1.000000  1.000000  \n",
      "201  1.000000  1.000000  1.000000  1.000000  1.000000  \n",
      "212  1.000000  1.000000  1.000000  0.990000  1.000000  \n",
      "214  0.000000  0.000000  0.000000  0.000000  0.000000  \n",
      "218  0.733333  1.000000  0.800000  0.800000  0.933333  \n",
      "221  1.000000  1.000000  1.000000  0.980000  0.430000  \n",
      "224  0.000000  0.090909  0.000000  0.000000  0.000000  \n",
      "233  1.000000  1.000000  1.000000  1.000000  1.000000  \n",
      "248  1.000000  1.000000  1.000000  1.000000  1.000000  \n",
      "256  1.000000  1.000000  1.000000  1.000000  1.000000  \n",
      "258  0.000000  0.000000  0.000000  0.000000  0.000000  \n",
      "267  0.800000  1.000000  1.000000  1.000000  1.000000  \n",
      "277  0.800000  1.000000  0.866667  0.946667  0.430000  \n",
      "279  1.000000  1.000000  1.000000  1.000000  1.000000  \n",
      "282  1.000000  1.000000  1.000000  1.000000  1.000000  \n",
      "298  1.000000  1.000000  0.933333  0.933333  1.000000  \n",
      "307  0.800000  0.909091  0.933333  0.800000  0.733333  \n",
      "310  1.000000  1.000000  1.000000  1.000000  0.866667  \n",
      "318  0.000000  0.000000  0.000000  0.000000  0.000000  \n",
      "330  1.000000  1.000000  1.000000  1.000000  1.000000  \n",
      "333  0.000000  0.000000  0.000000  0.000000  0.000000  \n",
      "343  0.866667  1.000000  1.000000  0.893333  1.000000  \n",
      "347  1.000000  1.000000  1.000000  1.000000  1.000000  \n",
      "353  1.000000  1.000000  1.000000  1.000000  1.000000  \n",
      "356  1.000000  1.000000  1.000000  1.000000  1.000000  \n",
      "366  1.000000  1.000000  1.000000  0.900000  1.000000  \n",
      "393  1.000000  1.000000  1.000000  1.000000  1.000000  \n",
      "395  1.000000  1.000000  1.000000  1.000000  1.000000  \n",
      "419  1.000000  1.000000  1.000000  1.000000  1.000000  \n",
      "449  0.000000  0.000000  0.000000  0.000000  0.000000  \n",
      "461  1.000000  1.000000  1.000000  0.890000  1.000000  \n",
      "466  0.000000  0.000000  0.000000  0.000000  0.000000  \n"
     ]
    }
   ],
   "source": [
    "#filtering PA scores for just transfer students:\n",
    "PA_transfers = PA_transferStatus[PA_transferStatus.transfer_student_status == \"Yes\"]\n",
    "print(PA_transfers)"
   ]
  },
  {
   "cell_type": "code",
   "execution_count": 20,
   "metadata": {},
   "outputs": [
    {
     "name": "stdout",
     "output_type": "stream",
     "text": [
      "    transfer_student_status      DeID  PA1       PA2       PA3       PA4  \\\n",
      "0                        No  00T90APX  1.0  1.000000  1.000000  1.000000   \n",
      "2                        No  025LQFB2  1.0  1.000000  1.000000  0.866667   \n",
      "3                        No  039HIM2X  1.0  1.000000  1.000000  1.000000   \n",
      "4                        No  04T56IGQ  1.0  1.000000  1.000000  1.000000   \n",
      "5                        No  06HH1YB1  1.0  1.000000  1.000000  1.000000   \n",
      "..                      ...       ...  ...       ...       ...       ...   \n",
      "464                      No  ZQRWVMSS  1.0  1.000000  0.933333  1.000000   \n",
      "465                      No  ZT9CDKWM  1.0  1.000000  1.000000  1.000000   \n",
      "467                      No  ZWOIJJTE  1.0  1.000000  1.000000  1.000000   \n",
      "468                      No  ZZ5H6MQD  1.0  0.866667  0.933333  1.000000   \n",
      "469                      No  ZZCK945I  1.0  1.000000  1.000000  1.000000   \n",
      "\n",
      "          PA5  PA6  PA7       PA8   PA9  \n",
      "0    1.000000  1.0  1.0  1.000000  1.00  \n",
      "2    1.000000  1.0  1.0  1.000000  1.00  \n",
      "3    1.000000  1.0  1.0  0.990000  1.00  \n",
      "4    1.000000  1.0  1.0  1.000000  1.00  \n",
      "5    0.933333  1.0  1.0  0.933333  1.00  \n",
      "..        ...  ...  ...       ...   ...  \n",
      "464  1.000000  1.0  1.0  0.933333  1.00  \n",
      "465  1.000000  1.0  1.0  1.000000  1.00  \n",
      "467  1.000000  1.0  1.0  1.000000  1.00  \n",
      "468  0.666667  1.0  1.0  0.990000  0.85  \n",
      "469  1.000000  1.0  1.0  1.000000  1.00  \n",
      "\n",
      "[413 rows x 11 columns]\n"
     ]
    }
   ],
   "source": [
    "#filtering PA scores for just native students:\n",
    "PA_natives = PA_transferStatus[PA_transferStatus.transfer_student_status == \"No\"]\n",
    "print(PA_natives)"
   ]
  },
  {
   "cell_type": "code",
   "execution_count": 21,
   "metadata": {},
   "outputs": [],
   "source": [
    "PA1_transfer_average = (PA_transfers[\"PA1\"].mean()) * 100 #calculating average of PA1 transfer students score\n",
    "PA1_natives_average = (PA_natives[\"PA1\"].mean())*100 #calculating average of PA1 natives students score"
   ]
  },
  {
   "cell_type": "code",
   "execution_count": 22,
   "metadata": {},
   "outputs": [
    {
     "name": "stdout",
     "output_type": "stream",
     "text": [
      "95.2380952385965\n"
     ]
    }
   ],
   "source": [
    "print(PA1_transfer_average)"
   ]
  },
  {
   "cell_type": "code",
   "execution_count": 23,
   "metadata": {},
   "outputs": [
    {
     "name": "stdout",
     "output_type": "stream",
     "text": [
      "98.78934624697337\n"
     ]
    }
   ],
   "source": [
    "print(PA1_natives_average)"
   ]
  },
  {
   "cell_type": "code",
   "execution_count": 24,
   "metadata": {},
   "outputs": [],
   "source": [
    "PAscores_transfer = []\n",
    "PAscores_natives = []\n",
    "PAscores_transfer.append(PA1_transfer_average)\n",
    "PAscores_natives.append(PA1_natives_average)"
   ]
  },
  {
   "cell_type": "code",
   "execution_count": 25,
   "metadata": {},
   "outputs": [],
   "source": [
    "#calculating PA2 and PA3 averages for transfers and natives:\n",
    "PA2_transfer_average = (PA_transfers[\"PA2\"].mean()) * 100 #calculating average of PA2 transfer students score\n",
    "PA2_natives_average = (PA_natives[\"PA2\"].mean()) * 100 #calculating average of PA2 natives students score\n",
    "\n",
    "PA3_transfer_average = (PA_transfers[\"PA3\"].mean()) * 100 #calculating average of PA3 transfer students score\n",
    "PA3_natives_average = (PA_natives[\"PA3\"].mean()) * 100 #calculating average of PA3 natives students score"
   ]
  },
  {
   "cell_type": "code",
   "execution_count": 26,
   "metadata": {},
   "outputs": [
    {
     "name": "stdout",
     "output_type": "stream",
     "text": [
      "84.32748537894737\n",
      "93.47861178280871\n",
      "[95.2380952385965, 84.32748537894737]\n",
      "[98.78934624697337, 93.47861178280871]\n"
     ]
    }
   ],
   "source": [
    "#appending PA2 averages for both transfers and natives\n",
    "print(PA2_transfer_average) #printing to make sure value was calculated\n",
    "print(PA2_natives_average)\n",
    "\n",
    "PAscores_transfer.append(PA2_transfer_average) #actually appending the value\n",
    "PAscores_natives.append(PA2_natives_average) #actually appending the value\n",
    "\n",
    "print(PAscores_transfer)\n",
    "print(PAscores_natives)"
   ]
  },
  {
   "cell_type": "code",
   "execution_count": 27,
   "metadata": {},
   "outputs": [
    {
     "name": "stdout",
     "output_type": "stream",
     "text": [
      "[95.2380952385965, 84.32748537894737, 77.07602339298246]\n",
      "[98.78934624697337, 93.47861178280871, 89.23325262227603]\n"
     ]
    }
   ],
   "source": [
    "#appending PA3 averages for both transfers and natives:\n",
    "PAscores_transfer.append(PA3_transfer_average) #appending the value for transfers\n",
    "PAscores_natives.append(PA3_natives_average) #appending the value for natives\n",
    "print(PAscores_transfer)\n",
    "print(PAscores_natives)"
   ]
  },
  {
   "cell_type": "code",
   "execution_count": 28,
   "metadata": {},
   "outputs": [],
   "source": [
    "#calculating average scores for the remaining PAs (PA4 - PA9):\n",
    "PA4_transfer_average = (PA_transfers[\"PA4\"].mean()) * 100 #calculating average of PA4 transfer students score\n",
    "PA4_natives_average = (PA_natives[\"PA4\"].mean()) * 100 #calculating average of PA4 natives students score\n",
    "\n",
    "PA5_transfer_average = (PA_transfers[\"PA5\"].mean()) * 100 #calculating average of PA5 transfer students score\n",
    "PA5_natives_average = (PA_natives[\"PA5\"].mean()) * 100 #calculating average of PA5 natives students score\n",
    "\n",
    "PA6_transfer_average = (PA_transfers[\"PA6\"].mean()) * 100 #calculating average of PA6 transfer students score\n",
    "PA6_natives_average = (PA_natives[\"PA6\"].mean()) * 100 #calculating average of PA6 natives students score\n",
    "\n",
    "PA7_transfer_average = (PA_transfers[\"PA7\"].mean()) * 100 #calculating average of PA7 transfer students score\n",
    "PA7_natives_average = (PA_natives[\"PA7\"].mean()) * 100 #calculating average of PA7 natives students score\n",
    "\n",
    "PA8_transfer_average = (PA_transfers[\"PA8\"].mean()) * 100 #calculating average of PA8 transfer students score\n",
    "PA8_natives_average = (PA_natives[\"PA8\"].mean()) * 100 #calculating average of PA8 natives students score\n",
    "\n",
    "PA9_transfer_average = (PA_transfers[\"PA9\"].mean()) * 100 #calculating average of PA9 transfer students score\n",
    "PA9_natives_average = (PA_natives[\"PA9\"].mean()) * 100 #calculating average of PA9 natives students score"
   ]
  },
  {
   "cell_type": "code",
   "execution_count": 29,
   "metadata": {},
   "outputs": [],
   "source": [
    "#appending PA4 values for both transfers and natives:\n",
    "PAscores_transfer.append(PA4_transfer_average) #appending the value for transfers\n",
    "PAscores_natives.append(PA4_natives_average) #appending the value for natives\n",
    "\n",
    "#appending PA5 values for both transfers and natives:\n",
    "PAscores_transfer.append(PA5_transfer_average) #appending the value for transfers\n",
    "PAscores_natives.append(PA5_natives_average) #appending the value for natives\n",
    "\n",
    "#appending PA6 values:\n",
    "PAscores_transfer.append(PA6_transfer_average) #appending the value for transfers\n",
    "PAscores_natives.append(PA6_natives_average) #appending the value for natives\n",
    "\n",
    "#appending PA7 values:\n",
    "PAscores_transfer.append(PA7_transfer_average) #appending the value for transfers\n",
    "PAscores_natives.append(PA7_natives_average) #appending the value for natives\n",
    "\n",
    "#appending PA8 values:\n",
    "PAscores_transfer.append(PA8_transfer_average) #appending the value for transfers\n",
    "PAscores_natives.append(PA8_natives_average) #appending the value for natives\n",
    "\n",
    "#appending PA9 values:\n",
    "PAscores_transfer.append(PA9_transfer_average) #appending the value for transfers\n",
    "PAscores_natives.append(PA9_natives_average) #appending the value for natives"
   ]
  },
  {
   "cell_type": "code",
   "execution_count": 30,
   "metadata": {},
   "outputs": [
    {
     "name": "stdout",
     "output_type": "stream",
     "text": [
      "[95.2380952385965, 84.32748537894737, 77.07602339298246, 76.0233918140351, 73.56725146315789, 74.16267942631579, 74.26900584736842, 72.49122806842104, 70.9122807]\n"
     ]
    }
   ],
   "source": [
    "#printing transfer students average PA scores:\n",
    "print(PAscores_transfer)"
   ]
  },
  {
   "cell_type": "code",
   "execution_count": 31,
   "metadata": {},
   "outputs": [
    {
     "data": {
      "text/plain": [
       "77.56304903664717"
      ]
     },
     "execution_count": 31,
     "metadata": {},
     "output_type": "execute_result"
    }
   ],
   "source": [
    "#calculating average PA scores for transfers over the quarter:\n",
    "total_sum = sum(PAscores_transfer)\n",
    "average = (total_sum)/9\n",
    "average"
   ]
  },
  {
   "cell_type": "code",
   "execution_count": 32,
   "metadata": {},
   "outputs": [
    {
     "name": "stdout",
     "output_type": "stream",
     "text": [
      "[98.78934624697337, 93.47861178280871, 89.23325262227603, 89.13640032348668, 89.00726392154964, 89.41228263244551, 88.79741727094432, 87.18062953898306, 87.94915254213075]\n"
     ]
    }
   ],
   "source": [
    "#printing native students average PA scores:\n",
    "print(PAscores_natives)"
   ]
  },
  {
   "cell_type": "code",
   "execution_count": 33,
   "metadata": {},
   "outputs": [
    {
     "data": {
      "text/plain": [
       "81.2984356881598"
      ]
     },
     "execution_count": 33,
     "metadata": {},
     "output_type": "execute_result"
    }
   ],
   "source": [
    "average_natives = (sum(PAscores_natives))/10\n",
    "average_natives"
   ]
  },
  {
   "cell_type": "code",
   "execution_count": 34,
   "metadata": {},
   "outputs": [
    {
     "data": {
      "text/plain": [
       "<matplotlib.legend.Legend at 0x1181bed90>"
      ]
     },
     "execution_count": 34,
     "metadata": {},
     "output_type": "execute_result"
    },
    {
     "data": {
      "image/png": "[encoded data removed]",
      "text/plain": [
       "<Figure size 432x288 with 1 Axes>"
      ]
     },
     "metadata": {
      "needs_background": "light"
     },
     "output_type": "display_data"
    }
   ],
   "source": [
    "plt.plot(x_label,PAscores_transfer,\"o\")\n",
    "plt.plot(x_label,PAscores_natives,\"o\")\n",
    "ax = plt.gca()\n",
    "ax.spines['right'].set_color('none')\n",
    "ax.spines['top'].set_color('none')\n",
    "plt.legend(['transfers','natives'])"
   ]
  },
  {
   "cell_type": "code",
   "execution_count": 35,
   "metadata": {
    "scrolled": true
   },
   "outputs": [
    {
     "data": {
      "text/plain": [
       "<matplotlib.legend.Legend at 0x11829aa50>"
      ]
     },
     "execution_count": 35,
     "metadata": {},
     "output_type": "execute_result"
    },
    {
     "data": {
      "image/png": "[encoded data removed]",
      "text/plain": [
       "<Figure size 432x288 with 1 Axes>"
      ]
     },
     "metadata": {
      "needs_background": "light"
     },
     "output_type": "display_data"
    }
   ],
   "source": [
    "plt.scatter(x_label,PAscores_transfer) #plotting the points\n",
    "plt.scatter(x_label,PAscores_natives) #plotting the points\n",
    "\n",
    "plt.plot(x_label,PAscores_transfer) #connecting the points for trendline\n",
    "plt.plot(x_label,PAscores_natives) #connecting the points for trendline\n",
    "\n",
    "plt.ylim(0,100) #making sure y-axis ranges from 0 to 100\n",
    "plt.ylabel(\"average percentage scored on PA\") #labelling the y axis\n",
    "\n",
    "ax = plt.gca() #used to get current axis\n",
    "ax.spines['right'].set_color('none') #removing the right column \n",
    "ax.spines['top'].set_color('none') #removing the top box \n",
    "plt.legend(['transfers','natives']) #adding a legend"
   ]
  },
  {
   "cell_type": "code",
   "execution_count": 36,
   "metadata": {},
   "outputs": [],
   "source": [
    "#plt.savefig('PAscores.png')"
   ]
  },
  {
   "cell_type": "code",
   "execution_count": 37,
   "metadata": {},
   "outputs": [],
   "source": [
    "#general process of conducting t-test:\n",
    "#for each week, have TWO distributions (one with ALL transfer PA scores and one with ALL native PA scores for that week)\n",
    "# find the means of these two distributions and store them both in variables\n",
    "# find the standard deviation of both distributions and store these in variables too\n",
    "# then do the actual t test and store the t_test statistic value and the p value"
   ]
  },
  {
   "cell_type": "code",
   "execution_count": 38,
   "metadata": {},
   "outputs": [],
   "source": [
    "from scipy.stats import ttest_ind"
   ]
  },
  {
   "cell_type": "code",
   "execution_count": 39,
   "metadata": {},
   "outputs": [
    {
     "name": "stdout",
     "output_type": "stream",
     "text": [
      "0.0444569856976477\n",
      "0.0029464446198759426\n",
      "0.004499876689929902\n",
      "0.0025808100635644577\n",
      "0.00047387882551290023\n",
      "0.0007911140440050572\n",
      "0.001656168726878818\n",
      "0.0016126509619226348\n",
      "0.00020086536532705563\n"
     ]
    }
   ],
   "source": [
    "PA_list = [\"PA1\",\"PA2\",\"PA3\",\"PA4\",\"PA5\",\"PA6\",\"PA7\",\"PA8\",\"PA9\"]\n",
    "\n",
    "#creating a list for the PA scores for both transfers and natives:\n",
    "for PA in PA_list:\n",
    "    PA_transfer_list = PA_transfers[PA].tolist()\n",
    "    PA_native_list = PA_natives[PA].tolist()\n",
    "    \n",
    "    #now calculating mean:\n",
    "    PA_transfer_mean = np.mean(PA_transfer_list)\n",
    "    PA_native_mean = np.mean(PA_native_list)\n",
    "    \n",
    "    #calculate standard deviation for both distributions:\n",
    "    PA_transfer_stdDev = np.std(PA_transfer_list)\n",
    "    PA_native_stdDev = np.std(PA_native_list)\n",
    "    \n",
    "    #doing the actual t-test:\n",
    "    t_test, pval = ttest_ind(PA_transfer_list, PA_native_list)\n",
    "    print(pval)"
   ]
  },
  {
   "cell_type": "code",
   "execution_count": null,
   "metadata": {},
   "outputs": [],
   "source": []
  }
 ],
 "metadata": {
  "kernelspec": {
   "display_name": "Python 3",
   "language": "python",
   "name": "python3"
  },
  "language_info": {
   "codemirror_mode": {
    "name": "ipython",
    "version": 3
   },
   "file_extension": ".py",
   "mimetype": "text/x-python",
   "name": "python",
   "nbconvert_exporter": "python",
   "pygments_lexer": "ipython3",
   "version": "3.7.7"
  }
 },
 "nbformat": 4,
 "nbformat_minor": 4
}
