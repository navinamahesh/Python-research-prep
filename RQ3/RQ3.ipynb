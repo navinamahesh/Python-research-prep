{
 "cells": [
  {
   "cell_type": "code",
   "execution_count": 1,
   "metadata": {},
   "outputs": [],
   "source": [
    "import pandas as pd\n",
    "from pandas import Series, DataFrame\n",
    "import matplotlib.pyplot as plt\n",
    "import numpy as np\n",
    "import plotly.graph_objects as go\n",
    "from scipy import stats\n",
    "import seaborn as sns\n",
    "\n",
    "presurvey1 = \"../Data/Fall 2019/CSE 8A Fall 2019 DeID/presurvey.csv\"\n",
    "gradebook1 = \"../Data/Fall 2019/CSE 8A Fall 2019 DeID/gradebook.csv\"\n",
    "presurvey2 = \"../Data/Fall 2019/CSE 11 Fall 2019 DeID/presurvey.csv\"\n",
    "gradebook2 = \"../Data/Fall 2019/CSE 11 Fall 2019 DeID/gradebook.csv\"\n",
    "presurvey3 = \"../Data/Fall 2019/CSE 12 Fall 2019 DeID/presurvey.csv\"\n",
    "gradebook3 = \"../Data/Fall 2019/CSE 12 Fall 2019 DeID/gradebook.csv\""
   ]
  },
  {
   "cell_type": "code",
   "execution_count": 2,
   "metadata": {},
   "outputs": [],
   "source": [
    "reflections2 = []\n",
    "for i in range (1,9):\n",
    "    reflections2.append(pd.read_csv(\"../Data/Fall 2019/CSE 11 Fall 2019 DeID/R\" +str(i)+\".csv\"))"
   ]
  },
  {
   "cell_type": "code",
   "execution_count": 3,
   "metadata": {},
   "outputs": [],
   "source": [
    "reflections3 = []\n",
    "for i in range (1,11):\n",
    "    reflections3.append(pd.read_csv(\"../Data/Fall 2019/CSE 12 Fall 2019 DeID/R\" +str(i)+\".csv\"))"
   ]
  },
  {
   "cell_type": "code",
   "execution_count": 4,
   "metadata": {},
   "outputs": [],
   "source": [
    "reflections1 = []\n",
    "for i in range (1,9):\n",
    "    reflections1.append(pd.read_csv(\"../Data/Fall 2019/CSE 8A Fall 2019 DeID/R\" +str(i)+\".csv\"))"
   ]
  },
  {
   "cell_type": "code",
   "execution_count": 5,
   "metadata": {},
   "outputs": [],
   "source": [
    "def scaled_categories(reflections, presurvey, category, label, x):\n",
    "    categoryIssue = 0\n",
    "    for i in range(x):\n",
    "        category_issue = reflections[i][category]\n",
    "        DeID = reflections[i][\"DeID\"]\n",
    "        s = label + str(i) \n",
    "        cat = DataFrame({\"DeID\": DeID, s: category_issue})\n",
    "        if i == 0:\n",
    "            categoryIssue = cat\n",
    "        else:\n",
    "            categoryIssue = pd.merge(categoryIssue, cat, on=\"DeID\", how=\"outer\")\n",
    "            \n",
    "    categoryIssue = categoryIssue.drop_duplicates(subset=['DeID'])     \n",
    "    df = pd.read_csv(presurvey)\n",
    "    status = df[\"Did.you.enter.UCSD.as.a.transfer.student.from.another..2.year.or.4.year..college.or.university.\"] == \"Yes\"\n",
    "    DeID = df[\"DeID\"]\n",
    "    transferStatus = DataFrame({\"DeID\": DeID, \"Transfer Status\": status})\n",
    "\n",
    "    mergedData = pd.merge(transferStatus, categoryIssue, on=\"DeID\")\n",
    "    transfer = mergedData[mergedData[\"Transfer Status\"] == True]\n",
    "    native = mergedData[mergedData[\"Transfer Status\"] == False]\n",
    "    \n",
    "    return {'transfer' : transfer, 'native' : native}\n",
    "    "
   ]
  },
  {
   "cell_type": "code",
   "execution_count": 11,
   "metadata": {},
   "outputs": [],
   "source": [
    "def RemovedOutlier(transfer, native, x, x_label):\n",
    "    transferIssues = []\n",
    "    nativeIssues = []\n",
    "    transferMedian = []\n",
    "    nativeMedian = []\n",
    "    transferStd = []\n",
    "    nativeStd = []\n",
    "    transferLen = []\n",
    "    nativeLen = []\n",
    "    transferMax = []\n",
    "    nativeMax = []\n",
    "    transferMin = []\n",
    "    nativeMin = []\n",
    "    utestStatistics = []\n",
    "    pValuesU = []\n",
    "    TQUL = []\n",
    "    TQLL = []\n",
    "    NQUL = []\n",
    "    NQLL = []\n",
    "\n",
    "    for i in range(x):\n",
    "        df = pd.DataFrame({label+str(i):transfer[label+str(i)],\"DeID\":transfer[\"DeID\"]})\n",
    "        df = df.drop_duplicates(subset=[\"DeID\"])\n",
    "        df = df.dropna(axis=0)\n",
    "        l = len(df)\n",
    "        Q1 = df[label+str(i)].quantile(0.05)\n",
    "        Q3 = df[label+str(i)].quantile(0.95)\n",
    "        IQR = Q3 - Q1    #IQR is interquartile range. \n",
    "        QLL = Q1 - 1.5 * IQR\n",
    "        QUL = Q3 + 1.5 * IQR\n",
    "        \n",
    "        TQUL.append(QUL)\n",
    "        TQLL.append(QLL)\n",
    "        \n",
    "        filterInclude = (df[label+str(i)] >= QLL) & (df[label+str(i)] <= QUL)   \n",
    "        filterExclude = (df[label+str(i)] < QLL) | (df[label+str(i)] > QUL)\n",
    "        \n",
    "        df = df.loc[filterInclude]\n",
    "        #print(\"Removed %: \" + str((l - len(df))*100/l))\n",
    "        transferRefined = df\n",
    "\n",
    "        df = pd.DataFrame({label+str(i):native[label+str(i)], \"DeID\":native[\"DeID\"]})\n",
    "        df = df.drop_duplicates(subset=[\"DeID\"])\n",
    "        df = df.dropna(axis=0)       \n",
    "        l = len(df)\n",
    "        Q1 = df[label+str(i)].quantile(0.05)\n",
    "        Q3 = df[label+str(i)].quantile(0.95)\n",
    "        IQR = Q3 - Q1    #IQR is interquartile range. \n",
    "        QLL = 0\n",
    "        QUL = Q3 + 1.5 * IQR\n",
    "        \n",
    "        NQUL.append(QUL)\n",
    "        NQLL.append(QLL)\n",
    "        \n",
    "        filterInclude = (df[label+str(i)] >= QLL) & (df[label+str(i)] <= QUL)   \n",
    "        filterExclude = (df[label+str(i)] < QLL) | (df[label+str(i)] > QUL)\n",
    "        \n",
    "        df = df.loc[filterInclude]\n",
    "        #print(\"Removed %: \" + str((l - len(df))*100/l))\n",
    "        nativeRefined = df\n",
    "        \n",
    "\n",
    "        transferIssues.append(transferRefined[label+str(i)].mean())\n",
    "        nativeIssues.append(nativeRefined[label+str(i)].mean())\n",
    "\n",
    "        transferMedian.append(transferRefined[label+str(i)].median())\n",
    "        nativeMedian.append(nativeRefined[label+str(i)].median())\n",
    "\n",
    "        transferStd.append(transferRefined[label+str(i)].std())\n",
    "        nativeStd.append(nativeRefined[label+str(i)].std())\n",
    "\n",
    "        transferLen.append(len(transferRefined[label+str(i)]))\n",
    "        nativeLen.append(len(nativeRefined[label+str(i)]))\n",
    "        \n",
    "        transferMax.append(transferRefined[label+str(i)].max())\n",
    "        nativeMax.append(nativeRefined[label+str(i)].max())\n",
    "        \n",
    "        transferMin.append(transferRefined[label+str(i)].min())\n",
    "        nativeMin.append(nativeRefined[label+str(i)].min())\n",
    "\n",
    "        ttest_results = stats.ttest_ind(transferRefined[label+str(i)], nativeRefined[label+str(i)])\n",
    "        utest_results = stats.mannwhitneyu(transferRefined[label+str(i)], nativeRefined[label+str(i)], use_continuity=False)\n",
    "        utestStatistics.append(utest_results[0])\n",
    "        pValuesU.append(utest_results[1])\n",
    "\n",
    "    df = DataFrame({\"Week\" : Series(x_label), \n",
    "                    \"Transfer Mean\" : Series(transferIssues), \n",
    "                    \"Native Mean\" : Series(nativeIssues),\n",
    "                    \"Transfer Std Dev\" : Series(transferStd),\n",
    "                    \"Native Std Dev\" : Series(nativeStd),\n",
    "                    \"Transfer Max\" : Series(transferMax),\n",
    "                    \"Native Max\" : Series(nativeMax),\n",
    "                    \"Transfer Min\" : Series(transferMin),\n",
    "                    \"Native Min\" : Series(nativeMin),\n",
    "                    \"Transfer Number\" : Series(transferLen),\n",
    "                    \"Native Number\" : Series(nativeLen),\n",
    "                    \"T Upper Limit\" : TQUL,\n",
    "                    \"N Upper Limit\" : NQUL,\n",
    "                    \"p-value (u-test)\" : pValuesU,\n",
    "                    \"Test Statistic (u-test)\" : utestStatistics})\n",
    "    return df"
   ]
  },
  {
   "cell_type": "code",
   "execution_count": 12,
   "metadata": {},
   "outputs": [],
   "source": [
    "category = \"At.this.time..approximately.how.many.other.students.in.this.course.would.you.be.comfortable.reaching.out.to.study.with.\"\n",
    "label = \"# of People \"\n",
    "graphTitle = \"# of People you Feel Comfortable Reaching Out To\"\n",
    "X_title = \"Week\"\n",
    "Y_title = \"Number of Students\"\n",
    "x = 8\n",
    "scale1 = \"1\"\n",
    "scale5 = \"5\"\n",
    "\n",
    "data = scaled_categories(reflections1, presurvey1, category, label, 8)\n",
    "transfer1 = data['transfer']\n",
    "native1 = data['native']\n",
    "\n",
    "data = scaled_categories(reflections2, presurvey2, category, label, 8)\n",
    "transfer2 = data['transfer']\n",
    "native2 = data['native']\n",
    "\n",
    "x = 10\n",
    "data = scaled_categories(reflections3, presurvey3, category, label, 10)\n",
    "transfer3 = data['transfer']\n",
    "native3 = data['native']\n"
   ]
  },
  {
   "cell_type": "code",
   "execution_count": 13,
   "metadata": {},
   "outputs": [],
   "source": [
    "x_label1 = [\"Week 2\", \"Week 3\", \"Week 4\", \"Week 5\", \"Week 6\", \"Week 7\", \"Week 8\", \"Week 9\"]\n",
    "x_label2 = [\"Week 1\", \"Week 2\", \"Week 3\", \"Week 4\", \"Week 5\", \"Week 6\", \"Week 7\", \"Week 8\", \"Week 9\", \"Week 10\"]\n",
    "\n",
    "df1 = RemovedOutlier(transfer1, native1, 8, x_label1)\n",
    "df2 = RemovedOutlier(transfer2, native2, 8, x_label1)\n",
    "df3 = RemovedOutlier(transfer3, native3, 10, x_label2)"
   ]
  },
  {
   "cell_type": "code",
   "execution_count": 14,
   "metadata": {},
   "outputs": [
    {
     "data": {
      "text/plain": [
       "'CS 1:'"
      ]
     },
     "metadata": {},
     "output_type": "display_data"
    },
    {
     "data": {
      "text/html": [
       "<div>\n",
       "<style scoped>\n",
       "    .dataframe tbody tr th:only-of-type {\n",
       "        vertical-align: middle;\n",
       "    }\n",
       "\n",
       "    .dataframe tbody tr th {\n",
       "        vertical-align: top;\n",
       "    }\n",
       "\n",
       "    .dataframe thead th {\n",
       "        text-align: right;\n",
       "    }\n",
       "</style>\n",
       "<table border=\"1\" class=\"dataframe\">\n",
       "  <thead>\n",
       "    <tr style=\"text-align: right;\">\n",
       "      <th></th>\n",
       "      <th>Week</th>\n",
       "      <th>Transfer Mean</th>\n",
       "      <th>Native Mean</th>\n",
       "      <th>Transfer Std Dev</th>\n",
       "      <th>Native Std Dev</th>\n",
       "      <th>Transfer Max</th>\n",
       "      <th>Native Max</th>\n",
       "      <th>Transfer Min</th>\n",
       "      <th>Native Min</th>\n",
       "      <th>Transfer Number</th>\n",
       "      <th>Native Number</th>\n",
       "      <th>T Upper Limit</th>\n",
       "      <th>N Upper Limit</th>\n",
       "      <th>p-value (u-test)</th>\n",
       "      <th>Test Statistic (u-test)</th>\n",
       "    </tr>\n",
       "  </thead>\n",
       "  <tbody>\n",
       "    <tr>\n",
       "      <th>0</th>\n",
       "      <td>Week 2</td>\n",
       "      <td>2.857143</td>\n",
       "      <td>3.099476</td>\n",
       "      <td>3.882027</td>\n",
       "      <td>2.837793</td>\n",
       "      <td>20.0</td>\n",
       "      <td>20.0</td>\n",
       "      <td>0.0</td>\n",
       "      <td>0.0</td>\n",
       "      <td>56</td>\n",
       "      <td>382</td>\n",
       "      <td>50.00</td>\n",
       "      <td>25.000</td>\n",
       "      <td>0.019151</td>\n",
       "      <td>8891.5</td>\n",
       "    </tr>\n",
       "    <tr>\n",
       "      <th>1</th>\n",
       "      <td>Week 3</td>\n",
       "      <td>8.480000</td>\n",
       "      <td>3.557789</td>\n",
       "      <td>42.188711</td>\n",
       "      <td>3.334489</td>\n",
       "      <td>300.0</td>\n",
       "      <td>20.0</td>\n",
       "      <td>0.0</td>\n",
       "      <td>0.0</td>\n",
       "      <td>50</td>\n",
       "      <td>398</td>\n",
       "      <td>365.00</td>\n",
       "      <td>25.000</td>\n",
       "      <td>0.001990</td>\n",
       "      <td>7495.0</td>\n",
       "    </tr>\n",
       "    <tr>\n",
       "      <th>2</th>\n",
       "      <td>Week 4</td>\n",
       "      <td>2.560000</td>\n",
       "      <td>3.738693</td>\n",
       "      <td>3.375542</td>\n",
       "      <td>3.231935</td>\n",
       "      <td>20.0</td>\n",
       "      <td>25.0</td>\n",
       "      <td>0.0</td>\n",
       "      <td>0.0</td>\n",
       "      <td>50</td>\n",
       "      <td>398</td>\n",
       "      <td>39.00</td>\n",
       "      <td>25.000</td>\n",
       "      <td>0.000029</td>\n",
       "      <td>6518.0</td>\n",
       "    </tr>\n",
       "    <tr>\n",
       "      <th>3</th>\n",
       "      <td>Week 5</td>\n",
       "      <td>2.066667</td>\n",
       "      <td>4.065617</td>\n",
       "      <td>1.788854</td>\n",
       "      <td>3.693294</td>\n",
       "      <td>10.0</td>\n",
       "      <td>30.0</td>\n",
       "      <td>0.0</td>\n",
       "      <td>0.0</td>\n",
       "      <td>45</td>\n",
       "      <td>381</td>\n",
       "      <td>12.50</td>\n",
       "      <td>30.000</td>\n",
       "      <td>0.000003</td>\n",
       "      <td>5051.5</td>\n",
       "    </tr>\n",
       "    <tr>\n",
       "      <th>4</th>\n",
       "      <td>Week 6</td>\n",
       "      <td>2.596154</td>\n",
       "      <td>4.031746</td>\n",
       "      <td>2.225165</td>\n",
       "      <td>3.408376</td>\n",
       "      <td>10.0</td>\n",
       "      <td>20.0</td>\n",
       "      <td>0.0</td>\n",
       "      <td>0.0</td>\n",
       "      <td>52</td>\n",
       "      <td>378</td>\n",
       "      <td>17.50</td>\n",
       "      <td>28.500</td>\n",
       "      <td>0.000299</td>\n",
       "      <td>6981.5</td>\n",
       "    </tr>\n",
       "    <tr>\n",
       "      <th>5</th>\n",
       "      <td>Week 7</td>\n",
       "      <td>3.282609</td>\n",
       "      <td>4.546154</td>\n",
       "      <td>4.042348</td>\n",
       "      <td>4.159626</td>\n",
       "      <td>20.0</td>\n",
       "      <td>30.0</td>\n",
       "      <td>0.0</td>\n",
       "      <td>0.0</td>\n",
       "      <td>46</td>\n",
       "      <td>390</td>\n",
       "      <td>42.50</td>\n",
       "      <td>36.000</td>\n",
       "      <td>0.001314</td>\n",
       "      <td>6563.5</td>\n",
       "    </tr>\n",
       "    <tr>\n",
       "      <th>6</th>\n",
       "      <td>Week 8</td>\n",
       "      <td>2.277778</td>\n",
       "      <td>4.377841</td>\n",
       "      <td>1.891501</td>\n",
       "      <td>3.680528</td>\n",
       "      <td>10.0</td>\n",
       "      <td>20.0</td>\n",
       "      <td>0.0</td>\n",
       "      <td>0.0</td>\n",
       "      <td>36</td>\n",
       "      <td>352</td>\n",
       "      <td>12.50</td>\n",
       "      <td>23.800</td>\n",
       "      <td>0.000022</td>\n",
       "      <td>3741.0</td>\n",
       "    </tr>\n",
       "    <tr>\n",
       "      <th>7</th>\n",
       "      <td>Week 9</td>\n",
       "      <td>2.363636</td>\n",
       "      <td>4.532338</td>\n",
       "      <td>1.954017</td>\n",
       "      <td>4.050824</td>\n",
       "      <td>10.0</td>\n",
       "      <td>30.0</td>\n",
       "      <td>0.0</td>\n",
       "      <td>0.0</td>\n",
       "      <td>44</td>\n",
       "      <td>402</td>\n",
       "      <td>23.75</td>\n",
       "      <td>32.625</td>\n",
       "      <td>0.000011</td>\n",
       "      <td>5433.0</td>\n",
       "    </tr>\n",
       "  </tbody>\n",
       "</table>\n",
       "</div>"
      ],
      "text/plain": [
       "     Week  Transfer Mean  Native Mean  Transfer Std Dev  Native Std Dev  \\\n",
       "0  Week 2       2.857143     3.099476          3.882027        2.837793   \n",
       "1  Week 3       8.480000     3.557789         42.188711        3.334489   \n",
       "2  Week 4       2.560000     3.738693          3.375542        3.231935   \n",
       "3  Week 5       2.066667     4.065617          1.788854        3.693294   \n",
       "4  Week 6       2.596154     4.031746          2.225165        3.408376   \n",
       "5  Week 7       3.282609     4.546154          4.042348        4.159626   \n",
       "6  Week 8       2.277778     4.377841          1.891501        3.680528   \n",
       "7  Week 9       2.363636     4.532338          1.954017        4.050824   \n",
       "\n",
       "   Transfer Max  Native Max  Transfer Min  Native Min  Transfer Number  \\\n",
       "0          20.0        20.0           0.0         0.0               56   \n",
       "1         300.0        20.0           0.0         0.0               50   \n",
       "2          20.0        25.0           0.0         0.0               50   \n",
       "3          10.0        30.0           0.0         0.0               45   \n",
       "4          10.0        20.0           0.0         0.0               52   \n",
       "5          20.0        30.0           0.0         0.0               46   \n",
       "6          10.0        20.0           0.0         0.0               36   \n",
       "7          10.0        30.0           0.0         0.0               44   \n",
       "\n",
       "   Native Number  T Upper Limit  N Upper Limit  p-value (u-test)  \\\n",
       "0            382          50.00         25.000          0.019151   \n",
       "1            398         365.00         25.000          0.001990   \n",
       "2            398          39.00         25.000          0.000029   \n",
       "3            381          12.50         30.000          0.000003   \n",
       "4            378          17.50         28.500          0.000299   \n",
       "5            390          42.50         36.000          0.001314   \n",
       "6            352          12.50         23.800          0.000022   \n",
       "7            402          23.75         32.625          0.000011   \n",
       "\n",
       "   Test Statistic (u-test)  \n",
       "0                   8891.5  \n",
       "1                   7495.0  \n",
       "2                   6518.0  \n",
       "3                   5051.5  \n",
       "4                   6981.5  \n",
       "5                   6563.5  \n",
       "6                   3741.0  \n",
       "7                   5433.0  "
      ]
     },
     "metadata": {},
     "output_type": "display_data"
    },
    {
     "data": {
      "text/plain": [
       "'CS 1A:'"
      ]
     },
     "metadata": {},
     "output_type": "display_data"
    },
    {
     "data": {
      "text/html": [
       "<div>\n",
       "<style scoped>\n",
       "    .dataframe tbody tr th:only-of-type {\n",
       "        vertical-align: middle;\n",
       "    }\n",
       "\n",
       "    .dataframe tbody tr th {\n",
       "        vertical-align: top;\n",
       "    }\n",
       "\n",
       "    .dataframe thead th {\n",
       "        text-align: right;\n",
       "    }\n",
       "</style>\n",
       "<table border=\"1\" class=\"dataframe\">\n",
       "  <thead>\n",
       "    <tr style=\"text-align: right;\">\n",
       "      <th></th>\n",
       "      <th>Week</th>\n",
       "      <th>Transfer Mean</th>\n",
       "      <th>Native Mean</th>\n",
       "      <th>Transfer Std Dev</th>\n",
       "      <th>Native Std Dev</th>\n",
       "      <th>Transfer Max</th>\n",
       "      <th>Native Max</th>\n",
       "      <th>Transfer Min</th>\n",
       "      <th>Native Min</th>\n",
       "      <th>Transfer Number</th>\n",
       "      <th>Native Number</th>\n",
       "      <th>T Upper Limit</th>\n",
       "      <th>N Upper Limit</th>\n",
       "      <th>p-value (u-test)</th>\n",
       "      <th>Test Statistic (u-test)</th>\n",
       "    </tr>\n",
       "  </thead>\n",
       "  <tbody>\n",
       "    <tr>\n",
       "      <th>0</th>\n",
       "      <td>Week 2</td>\n",
       "      <td>1.969697</td>\n",
       "      <td>5.293160</td>\n",
       "      <td>2.007561</td>\n",
       "      <td>6.198148</td>\n",
       "      <td>10.0</td>\n",
       "      <td>50.0</td>\n",
       "      <td>0.0</td>\n",
       "      <td>0.0</td>\n",
       "      <td>33</td>\n",
       "      <td>307</td>\n",
       "      <td>16.875</td>\n",
       "      <td>50.000</td>\n",
       "      <td>1.819835e-06</td>\n",
       "      <td>2602.5</td>\n",
       "    </tr>\n",
       "    <tr>\n",
       "      <th>1</th>\n",
       "      <td>Week 3</td>\n",
       "      <td>2.000000</td>\n",
       "      <td>5.430976</td>\n",
       "      <td>1.460593</td>\n",
       "      <td>5.472547</td>\n",
       "      <td>5.0</td>\n",
       "      <td>49.0</td>\n",
       "      <td>0.0</td>\n",
       "      <td>0.0</td>\n",
       "      <td>31</td>\n",
       "      <td>297</td>\n",
       "      <td>11.125</td>\n",
       "      <td>49.775</td>\n",
       "      <td>6.324427e-07</td>\n",
       "      <td>2189.5</td>\n",
       "    </tr>\n",
       "    <tr>\n",
       "      <th>2</th>\n",
       "      <td>Week 4</td>\n",
       "      <td>2.000000</td>\n",
       "      <td>5.980392</td>\n",
       "      <td>1.388730</td>\n",
       "      <td>6.810764</td>\n",
       "      <td>5.0</td>\n",
       "      <td>50.0</td>\n",
       "      <td>0.0</td>\n",
       "      <td>0.0</td>\n",
       "      <td>29</td>\n",
       "      <td>306</td>\n",
       "      <td>11.375</td>\n",
       "      <td>50.000</td>\n",
       "      <td>5.655545e-07</td>\n",
       "      <td>2029.0</td>\n",
       "    </tr>\n",
       "    <tr>\n",
       "      <th>3</th>\n",
       "      <td>Week 5</td>\n",
       "      <td>2.120000</td>\n",
       "      <td>5.806667</td>\n",
       "      <td>1.536229</td>\n",
       "      <td>4.974445</td>\n",
       "      <td>5.0</td>\n",
       "      <td>30.0</td>\n",
       "      <td>0.0</td>\n",
       "      <td>0.0</td>\n",
       "      <td>25</td>\n",
       "      <td>300</td>\n",
       "      <td>12.500</td>\n",
       "      <td>48.500</td>\n",
       "      <td>1.396050e-06</td>\n",
       "      <td>1651.0</td>\n",
       "    </tr>\n",
       "    <tr>\n",
       "      <th>4</th>\n",
       "      <td>Week 6</td>\n",
       "      <td>2.160000</td>\n",
       "      <td>5.939597</td>\n",
       "      <td>1.624808</td>\n",
       "      <td>4.919867</td>\n",
       "      <td>5.0</td>\n",
       "      <td>30.0</td>\n",
       "      <td>-1.0</td>\n",
       "      <td>0.0</td>\n",
       "      <td>25</td>\n",
       "      <td>298</td>\n",
       "      <td>12.500</td>\n",
       "      <td>48.500</td>\n",
       "      <td>1.298787e-06</td>\n",
       "      <td>1631.5</td>\n",
       "    </tr>\n",
       "    <tr>\n",
       "      <th>5</th>\n",
       "      <td>Week 7</td>\n",
       "      <td>2.033333</td>\n",
       "      <td>6.102990</td>\n",
       "      <td>1.731719</td>\n",
       "      <td>4.961790</td>\n",
       "      <td>6.0</td>\n",
       "      <td>30.0</td>\n",
       "      <td>-2.0</td>\n",
       "      <td>0.0</td>\n",
       "      <td>30</td>\n",
       "      <td>301</td>\n",
       "      <td>13.750</td>\n",
       "      <td>49.550</td>\n",
       "      <td>1.703095e-08</td>\n",
       "      <td>1776.5</td>\n",
       "    </tr>\n",
       "    <tr>\n",
       "      <th>6</th>\n",
       "      <td>Week 8</td>\n",
       "      <td>2.218750</td>\n",
       "      <td>6.015723</td>\n",
       "      <td>1.913186</td>\n",
       "      <td>5.014465</td>\n",
       "      <td>7.0</td>\n",
       "      <td>30.0</td>\n",
       "      <td>-3.0</td>\n",
       "      <td>0.0</td>\n",
       "      <td>32</td>\n",
       "      <td>318</td>\n",
       "      <td>14.500</td>\n",
       "      <td>48.500</td>\n",
       "      <td>1.670693e-07</td>\n",
       "      <td>2322.5</td>\n",
       "    </tr>\n",
       "    <tr>\n",
       "      <th>7</th>\n",
       "      <td>Week 9</td>\n",
       "      <td>3.034483</td>\n",
       "      <td>6.530686</td>\n",
       "      <td>2.993836</td>\n",
       "      <td>6.714949</td>\n",
       "      <td>10.0</td>\n",
       "      <td>50.0</td>\n",
       "      <td>-3.0</td>\n",
       "      <td>0.0</td>\n",
       "      <td>29</td>\n",
       "      <td>277</td>\n",
       "      <td>25.000</td>\n",
       "      <td>50.000</td>\n",
       "      <td>8.661514e-05</td>\n",
       "      <td>2324.5</td>\n",
       "    </tr>\n",
       "  </tbody>\n",
       "</table>\n",
       "</div>"
      ],
      "text/plain": [
       "     Week  Transfer Mean  Native Mean  Transfer Std Dev  Native Std Dev  \\\n",
       "0  Week 2       1.969697     5.293160          2.007561        6.198148   \n",
       "1  Week 3       2.000000     5.430976          1.460593        5.472547   \n",
       "2  Week 4       2.000000     5.980392          1.388730        6.810764   \n",
       "3  Week 5       2.120000     5.806667          1.536229        4.974445   \n",
       "4  Week 6       2.160000     5.939597          1.624808        4.919867   \n",
       "5  Week 7       2.033333     6.102990          1.731719        4.961790   \n",
       "6  Week 8       2.218750     6.015723          1.913186        5.014465   \n",
       "7  Week 9       3.034483     6.530686          2.993836        6.714949   \n",
       "\n",
       "   Transfer Max  Native Max  Transfer Min  Native Min  Transfer Number  \\\n",
       "0          10.0        50.0           0.0         0.0               33   \n",
       "1           5.0        49.0           0.0         0.0               31   \n",
       "2           5.0        50.0           0.0         0.0               29   \n",
       "3           5.0        30.0           0.0         0.0               25   \n",
       "4           5.0        30.0          -1.0         0.0               25   \n",
       "5           6.0        30.0          -2.0         0.0               30   \n",
       "6           7.0        30.0          -3.0         0.0               32   \n",
       "7          10.0        50.0          -3.0         0.0               29   \n",
       "\n",
       "   Native Number  T Upper Limit  N Upper Limit  p-value (u-test)  \\\n",
       "0            307         16.875         50.000      1.819835e-06   \n",
       "1            297         11.125         49.775      6.324427e-07   \n",
       "2            306         11.375         50.000      5.655545e-07   \n",
       "3            300         12.500         48.500      1.396050e-06   \n",
       "4            298         12.500         48.500      1.298787e-06   \n",
       "5            301         13.750         49.550      1.703095e-08   \n",
       "6            318         14.500         48.500      1.670693e-07   \n",
       "7            277         25.000         50.000      8.661514e-05   \n",
       "\n",
       "   Test Statistic (u-test)  \n",
       "0                   2602.5  \n",
       "1                   2189.5  \n",
       "2                   2029.0  \n",
       "3                   1651.0  \n",
       "4                   1631.5  \n",
       "5                   1776.5  \n",
       "6                   2322.5  \n",
       "7                   2324.5  "
      ]
     },
     "metadata": {},
     "output_type": "display_data"
    },
    {
     "data": {
      "text/plain": [
       "'CS 2:'"
      ]
     },
     "metadata": {},
     "output_type": "display_data"
    },
    {
     "data": {
      "text/html": [
       "<div>\n",
       "<style scoped>\n",
       "    .dataframe tbody tr th:only-of-type {\n",
       "        vertical-align: middle;\n",
       "    }\n",
       "\n",
       "    .dataframe tbody tr th {\n",
       "        vertical-align: top;\n",
       "    }\n",
       "\n",
       "    .dataframe thead th {\n",
       "        text-align: right;\n",
       "    }\n",
       "</style>\n",
       "<table border=\"1\" class=\"dataframe\">\n",
       "  <thead>\n",
       "    <tr style=\"text-align: right;\">\n",
       "      <th></th>\n",
       "      <th>Week</th>\n",
       "      <th>Transfer Mean</th>\n",
       "      <th>Native Mean</th>\n",
       "      <th>Transfer Std Dev</th>\n",
       "      <th>Native Std Dev</th>\n",
       "      <th>Transfer Max</th>\n",
       "      <th>Native Max</th>\n",
       "      <th>Transfer Min</th>\n",
       "      <th>Native Min</th>\n",
       "      <th>Transfer Number</th>\n",
       "      <th>Native Number</th>\n",
       "      <th>T Upper Limit</th>\n",
       "      <th>N Upper Limit</th>\n",
       "      <th>p-value (u-test)</th>\n",
       "      <th>Test Statistic (u-test)</th>\n",
       "    </tr>\n",
       "  </thead>\n",
       "  <tbody>\n",
       "    <tr>\n",
       "      <th>0</th>\n",
       "      <td>Week 1</td>\n",
       "      <td>2.692308</td>\n",
       "      <td>2.460317</td>\n",
       "      <td>2.421622</td>\n",
       "      <td>1.861830</td>\n",
       "      <td>10.0</td>\n",
       "      <td>10.0</td>\n",
       "      <td>0.0</td>\n",
       "      <td>0.0</td>\n",
       "      <td>52</td>\n",
       "      <td>126</td>\n",
       "      <td>25.000</td>\n",
       "      <td>17.5</td>\n",
       "      <td>0.450309</td>\n",
       "      <td>3237.5</td>\n",
       "    </tr>\n",
       "    <tr>\n",
       "      <th>1</th>\n",
       "      <td>Week 2</td>\n",
       "      <td>2.607143</td>\n",
       "      <td>2.666667</td>\n",
       "      <td>2.269790</td>\n",
       "      <td>2.215647</td>\n",
       "      <td>10.0</td>\n",
       "      <td>10.0</td>\n",
       "      <td>0.0</td>\n",
       "      <td>0.0</td>\n",
       "      <td>56</td>\n",
       "      <td>144</td>\n",
       "      <td>25.000</td>\n",
       "      <td>25.0</td>\n",
       "      <td>0.329362</td>\n",
       "      <td>3872.0</td>\n",
       "    </tr>\n",
       "    <tr>\n",
       "      <th>2</th>\n",
       "      <td>Week 3</td>\n",
       "      <td>3.172414</td>\n",
       "      <td>2.913333</td>\n",
       "      <td>3.266727</td>\n",
       "      <td>2.490079</td>\n",
       "      <td>20.0</td>\n",
       "      <td>12.0</td>\n",
       "      <td>0.0</td>\n",
       "      <td>0.0</td>\n",
       "      <td>58</td>\n",
       "      <td>150</td>\n",
       "      <td>25.000</td>\n",
       "      <td>25.0</td>\n",
       "      <td>0.380754</td>\n",
       "      <td>4233.5</td>\n",
       "    </tr>\n",
       "    <tr>\n",
       "      <th>3</th>\n",
       "      <td>Week 4</td>\n",
       "      <td>4.803922</td>\n",
       "      <td>3.145985</td>\n",
       "      <td>9.316694</td>\n",
       "      <td>2.764109</td>\n",
       "      <td>50.0</td>\n",
       "      <td>12.0</td>\n",
       "      <td>0.0</td>\n",
       "      <td>0.0</td>\n",
       "      <td>51</td>\n",
       "      <td>137</td>\n",
       "      <td>78.125</td>\n",
       "      <td>25.0</td>\n",
       "      <td>0.498783</td>\n",
       "      <td>3492.5</td>\n",
       "    </tr>\n",
       "    <tr>\n",
       "      <th>4</th>\n",
       "      <td>Week 5</td>\n",
       "      <td>3.500000</td>\n",
       "      <td>3.134454</td>\n",
       "      <td>4.670237</td>\n",
       "      <td>2.878690</td>\n",
       "      <td>25.0</td>\n",
       "      <td>15.0</td>\n",
       "      <td>0.0</td>\n",
       "      <td>0.0</td>\n",
       "      <td>46</td>\n",
       "      <td>119</td>\n",
       "      <td>42.500</td>\n",
       "      <td>29.5</td>\n",
       "      <td>0.404021</td>\n",
       "      <td>2671.0</td>\n",
       "    </tr>\n",
       "    <tr>\n",
       "      <th>5</th>\n",
       "      <td>Week 6</td>\n",
       "      <td>4.229167</td>\n",
       "      <td>3.406504</td>\n",
       "      <td>5.207358</td>\n",
       "      <td>3.117474</td>\n",
       "      <td>25.0</td>\n",
       "      <td>20.0</td>\n",
       "      <td>0.0</td>\n",
       "      <td>0.0</td>\n",
       "      <td>48</td>\n",
       "      <td>123</td>\n",
       "      <td>50.000</td>\n",
       "      <td>28.5</td>\n",
       "      <td>0.443957</td>\n",
       "      <td>2911.5</td>\n",
       "    </tr>\n",
       "    <tr>\n",
       "      <th>6</th>\n",
       "      <td>Week 7</td>\n",
       "      <td>4.108696</td>\n",
       "      <td>3.433824</td>\n",
       "      <td>5.470033</td>\n",
       "      <td>3.208097</td>\n",
       "      <td>30.0</td>\n",
       "      <td>20.0</td>\n",
       "      <td>0.0</td>\n",
       "      <td>0.0</td>\n",
       "      <td>46</td>\n",
       "      <td>136</td>\n",
       "      <td>47.000</td>\n",
       "      <td>25.5</td>\n",
       "      <td>0.481048</td>\n",
       "      <td>3113.5</td>\n",
       "    </tr>\n",
       "    <tr>\n",
       "      <th>7</th>\n",
       "      <td>Week 8</td>\n",
       "      <td>7.428571</td>\n",
       "      <td>3.047059</td>\n",
       "      <td>11.780173</td>\n",
       "      <td>2.882236</td>\n",
       "      <td>50.0</td>\n",
       "      <td>15.0</td>\n",
       "      <td>0.0</td>\n",
       "      <td>0.0</td>\n",
       "      <td>28</td>\n",
       "      <td>85</td>\n",
       "      <td>75.000</td>\n",
       "      <td>25.0</td>\n",
       "      <td>0.080717</td>\n",
       "      <td>982.0</td>\n",
       "    </tr>\n",
       "    <tr>\n",
       "      <th>8</th>\n",
       "      <td>Week 9</td>\n",
       "      <td>3.076923</td>\n",
       "      <td>3.305263</td>\n",
       "      <td>2.381984</td>\n",
       "      <td>3.582088</td>\n",
       "      <td>10.0</td>\n",
       "      <td>20.0</td>\n",
       "      <td>0.0</td>\n",
       "      <td>0.0</td>\n",
       "      <td>26</td>\n",
       "      <td>95</td>\n",
       "      <td>23.500</td>\n",
       "      <td>37.5</td>\n",
       "      <td>0.311396</td>\n",
       "      <td>1158.0</td>\n",
       "    </tr>\n",
       "    <tr>\n",
       "      <th>9</th>\n",
       "      <td>Week 10</td>\n",
       "      <td>4.081081</td>\n",
       "      <td>3.726415</td>\n",
       "      <td>3.729599</td>\n",
       "      <td>3.597706</td>\n",
       "      <td>16.0</td>\n",
       "      <td>20.0</td>\n",
       "      <td>0.0</td>\n",
       "      <td>0.0</td>\n",
       "      <td>37</td>\n",
       "      <td>106</td>\n",
       "      <td>36.375</td>\n",
       "      <td>25.0</td>\n",
       "      <td>0.323402</td>\n",
       "      <td>1862.5</td>\n",
       "    </tr>\n",
       "  </tbody>\n",
       "</table>\n",
       "</div>"
      ],
      "text/plain": [
       "      Week  Transfer Mean  Native Mean  Transfer Std Dev  Native Std Dev  \\\n",
       "0   Week 1       2.692308     2.460317          2.421622        1.861830   \n",
       "1   Week 2       2.607143     2.666667          2.269790        2.215647   \n",
       "2   Week 3       3.172414     2.913333          3.266727        2.490079   \n",
       "3   Week 4       4.803922     3.145985          9.316694        2.764109   \n",
       "4   Week 5       3.500000     3.134454          4.670237        2.878690   \n",
       "5   Week 6       4.229167     3.406504          5.207358        3.117474   \n",
       "6   Week 7       4.108696     3.433824          5.470033        3.208097   \n",
       "7   Week 8       7.428571     3.047059         11.780173        2.882236   \n",
       "8   Week 9       3.076923     3.305263          2.381984        3.582088   \n",
       "9  Week 10       4.081081     3.726415          3.729599        3.597706   \n",
       "\n",
       "   Transfer Max  Native Max  Transfer Min  Native Min  Transfer Number  \\\n",
       "0          10.0        10.0           0.0         0.0               52   \n",
       "1          10.0        10.0           0.0         0.0               56   \n",
       "2          20.0        12.0           0.0         0.0               58   \n",
       "3          50.0        12.0           0.0         0.0               51   \n",
       "4          25.0        15.0           0.0         0.0               46   \n",
       "5          25.0        20.0           0.0         0.0               48   \n",
       "6          30.0        20.0           0.0         0.0               46   \n",
       "7          50.0        15.0           0.0         0.0               28   \n",
       "8          10.0        20.0           0.0         0.0               26   \n",
       "9          16.0        20.0           0.0         0.0               37   \n",
       "\n",
       "   Native Number  T Upper Limit  N Upper Limit  p-value (u-test)  \\\n",
       "0            126         25.000           17.5          0.450309   \n",
       "1            144         25.000           25.0          0.329362   \n",
       "2            150         25.000           25.0          0.380754   \n",
       "3            137         78.125           25.0          0.498783   \n",
       "4            119         42.500           29.5          0.404021   \n",
       "5            123         50.000           28.5          0.443957   \n",
       "6            136         47.000           25.5          0.481048   \n",
       "7             85         75.000           25.0          0.080717   \n",
       "8             95         23.500           37.5          0.311396   \n",
       "9            106         36.375           25.0          0.323402   \n",
       "\n",
       "   Test Statistic (u-test)  \n",
       "0                   3237.5  \n",
       "1                   3872.0  \n",
       "2                   4233.5  \n",
       "3                   3492.5  \n",
       "4                   2671.0  \n",
       "5                   2911.5  \n",
       "6                   3113.5  \n",
       "7                    982.0  \n",
       "8                   1158.0  \n",
       "9                   1862.5  "
      ]
     },
     "metadata": {},
     "output_type": "display_data"
    }
   ],
   "source": [
    "display(\"CS 1:\")\n",
    "display(df1)\n",
    "display(\"CS 1A:\")\n",
    "display(df2)\n",
    "display(\"CS 2:\")\n",
    "display(df3)"
   ]
  },
  {
   "cell_type": "code",
   "execution_count": 15,
   "metadata": {},
   "outputs": [
    {
     "data": {
      "application/vnd.plotly.v1+json": {
       "config": {
        "plotlyServerURL": "https://plot.ly"
       },
       "data": [
        {
         "marker": {
          "color": "#69c6af",
          "line": {
           "color": "#52bca3",
           "width": 5
          },
          "size": 5,
          "symbol": "square"
         },
         "mode": "lines+markers",
         "name": "Transfer CS 2",
         "type": "scatter",
         "x": [
          "Week 1",
          "Week 2",
          "Week 3",
          "Week 4",
          "Week 5",
          "Week 6",
          "Week 7",
          "Week 8",
          "Week 9",
          "Week 10"
         ],
         "y": [
          2.6923076923076925,
          2.607142857142857,
          3.1724137931034484,
          4.803921568627451,
          3.5,
          4.229166666666667,
          4.108695652173913,
          7.428571428571429,
          3.076923076923077,
          4.081081081081081
         ]
        },
        {
         "marker": {
          "color": "#69c6af",
          "line": {
           "color": "#52bca3",
           "width": 5
          },
          "size": 5,
          "symbol": "circle-dot"
         },
         "mode": "lines+markers",
         "name": "Native CS 2",
         "type": "scatter",
         "x": [
          "Week 1",
          "Week 2",
          "Week 3",
          "Week 4",
          "Week 5",
          "Week 6",
          "Week 7",
          "Week 8",
          "Week 9",
          "Week 10"
         ],
         "y": [
          2.4603174603174605,
          2.6666666666666665,
          2.9133333333333336,
          3.145985401459854,
          3.134453781512605,
          3.4065040650406506,
          3.4338235294117645,
          3.0470588235294116,
          3.305263157894737,
          3.7264150943396226
         ]
        },
        {
         "marker": {
          "color": "#9a61b0",
          "line": {
           "color": "#5d69b1",
           "width": 5
          },
          "size": 5,
          "symbol": "square"
         },
         "mode": "lines+markers",
         "name": "Transfer CS 1A",
         "type": "scatter",
         "x": [
          "Week 2",
          "Week 3",
          "Week 4",
          "Week 5",
          "Week 6",
          "Week 7",
          "Week 8",
          "Week 9"
         ],
         "y": [
          1.9696969696969697,
          2,
          2,
          2.12,
          2.16,
          2.033333333333333,
          2.21875,
          3.0344827586206895
         ]
        },
        {
         "marker": {
          "color": "#9a61b0",
          "line": {
           "color": "#5d69b1",
           "width": 5
          },
          "size": 5,
          "symbol": "circle-dot"
         },
         "mode": "lines+markers",
         "name": "Native CS 1A",
         "type": "scatter",
         "x": [
          "Week 2",
          "Week 3",
          "Week 4",
          "Week 5",
          "Week 6",
          "Week 7",
          "Week 8",
          "Week 9"
         ],
         "y": [
          5.293159609120521,
          5.430976430976431,
          5.980392156862745,
          5.806666666666667,
          5.939597315436242,
          6.102990033222591,
          6.015723270440252,
          6.530685920577618
         ]
        },
        {
         "marker": {
          "color": "#c7a302",
          "line": {
           "color": "#e58606",
           "width": 5
          },
          "size": 5,
          "symbol": "square"
         },
         "mode": "lines+markers",
         "name": "Transfer CS 1",
         "type": "scatter",
         "x": [
          "Week 2",
          "Week 3",
          "Week 4",
          "Week 5",
          "Week 6",
          "Week 7",
          "Week 8",
          "Week 9"
         ],
         "y": [
          2.857142857142857,
          8.48,
          2.56,
          2.066666666666667,
          2.5961538461538463,
          3.282608695652174,
          2.2777777777777777,
          2.3636363636363638
         ]
        },
        {
         "marker": {
          "color": "#c7a302",
          "line": {
           "color": "#e58606",
           "width": 5
          },
          "size": 5,
          "symbol": "circle-dot"
         },
         "mode": "lines+markers",
         "name": "Native CS 1",
         "type": "scatter",
         "x": [
          "Week 2",
          "Week 3",
          "Week 4",
          "Week 5",
          "Week 6",
          "Week 7",
          "Week 8",
          "Week 9"
         ],
         "y": [
          3.099476439790576,
          3.557788944723618,
          3.7386934673366836,
          4.065616797900263,
          4.031746031746032,
          4.546153846153846,
          4.377840909090909,
          4.532338308457711
         ]
        }
       ],
       "layout": {
        "height": 525,
        "legend": {
         "title": {
          "text": "<b>Legend</b>"
         }
        },
        "template": {
         "data": {
          "bar": [
           {
            "error_x": {
             "color": "#2a3f5f"
            },
            "error_y": {
             "color": "#2a3f5f"
            },
            "marker": {
             "line": {
              "color": "#E5ECF6",
              "width": 0.5
             }
            },
            "type": "bar"
           }
          ],
          "barpolar": [
           {
            "marker": {
             "line": {
              "color": "#E5ECF6",
              "width": 0.5
             }
            },
            "type": "barpolar"
           }
          ],
          "carpet": [
           {
            "aaxis": {
             "endlinecolor": "#2a3f5f",
             "gridcolor": "white",
             "linecolor": "white",
             "minorgridcolor": "white",
             "startlinecolor": "#2a3f5f"
            },
            "baxis": {
             "endlinecolor": "#2a3f5f",
             "gridcolor": "white",
             "linecolor": "white",
             "minorgridcolor": "white",
             "startlinecolor": "#2a3f5f"
            },
            "type": "carpet"
           }
          ],
          "choropleth": [
           {
            "colorbar": {
             "outlinewidth": 0,
             "ticks": ""
            },
            "type": "choropleth"
           }
          ],
          "contour": [
           {
            "colorbar": {
             "outlinewidth": 0,
             "ticks": ""
            },
            "colorscale": [
             [
              0,
              "#0d0887"
             ],
             [
              0.1111111111111111,
              "#46039f"
             ],
             [
              0.2222222222222222,
              "#7201a8"
             ],
             [
              0.3333333333333333,
              "#9c179e"
             ],
             [
              0.4444444444444444,
              "#bd3786"
             ],
             [
              0.5555555555555556,
              "#d8576b"
             ],
             [
              0.6666666666666666,
              "#ed7953"
             ],
             [
              0.7777777777777778,
              "#fb9f3a"
             ],
             [
              0.8888888888888888,
              "#fdca26"
             ],
             [
              1,
              "#f0f921"
             ]
            ],
            "type": "contour"
           }
          ],
          "contourcarpet": [
           {
            "colorbar": {
             "outlinewidth": 0,
             "ticks": ""
            },
            "type": "contourcarpet"
           }
          ],
          "heatmap": [
           {
            "colorbar": {
             "outlinewidth": 0,
             "ticks": ""
            },
            "colorscale": [
             [
              0,
              "#0d0887"
             ],
             [
              0.1111111111111111,
              "#46039f"
             ],
             [
              0.2222222222222222,
              "#7201a8"
             ],
             [
              0.3333333333333333,
              "#9c179e"
             ],
             [
              0.4444444444444444,
              "#bd3786"
             ],
             [
              0.5555555555555556,
              "#d8576b"
             ],
             [
              0.6666666666666666,
              "#ed7953"
             ],
             [
              0.7777777777777778,
              "#fb9f3a"
             ],
             [
              0.8888888888888888,
              "#fdca26"
             ],
             [
              1,
              "#f0f921"
             ]
            ],
            "type": "heatmap"
           }
          ],
          "heatmapgl": [
           {
            "colorbar": {
             "outlinewidth": 0,
             "ticks": ""
            },
            "colorscale": [
             [
              0,
              "#0d0887"
             ],
             [
              0.1111111111111111,
              "#46039f"
             ],
             [
              0.2222222222222222,
              "#7201a8"
             ],
             [
              0.3333333333333333,
              "#9c179e"
             ],
             [
              0.4444444444444444,
              "#bd3786"
             ],
             [
              0.5555555555555556,
              "#d8576b"
             ],
             [
              0.6666666666666666,
              "#ed7953"
             ],
             [
              0.7777777777777778,
              "#fb9f3a"
             ],
             [
              0.8888888888888888,
              "#fdca26"
             ],
             [
              1,
              "#f0f921"
             ]
            ],
            "type": "heatmapgl"
           }
          ],
          "histogram": [
           {
            "marker": {
             "colorbar": {
              "outlinewidth": 0,
              "ticks": ""
             }
            },
            "type": "histogram"
           }
          ],
          "histogram2d": [
           {
            "colorbar": {
             "outlinewidth": 0,
             "ticks": ""
            },
            "colorscale": [
             [
              0,
              "#0d0887"
             ],
             [
              0.1111111111111111,
              "#46039f"
             ],
             [
              0.2222222222222222,
              "#7201a8"
             ],
             [
              0.3333333333333333,
              "#9c179e"
             ],
             [
              0.4444444444444444,
              "#bd3786"
             ],
             [
              0.5555555555555556,
              "#d8576b"
             ],
             [
              0.6666666666666666,
              "#ed7953"
             ],
             [
              0.7777777777777778,
              "#fb9f3a"
             ],
             [
              0.8888888888888888,
              "#fdca26"
             ],
             [
              1,
              "#f0f921"
             ]
            ],
            "type": "histogram2d"
           }
          ],
          "histogram2dcontour": [
           {
            "colorbar": {
             "outlinewidth": 0,
             "ticks": ""
            },
            "colorscale": [
             [
              0,
              "#0d0887"
             ],
             [
              0.1111111111111111,
              "#46039f"
             ],
             [
              0.2222222222222222,
              "#7201a8"
             ],
             [
              0.3333333333333333,
              "#9c179e"
             ],
             [
              0.4444444444444444,
              "#bd3786"
             ],
             [
              0.5555555555555556,
              "#d8576b"
             ],
             [
              0.6666666666666666,
              "#ed7953"
             ],
             [
              0.7777777777777778,
              "#fb9f3a"
             ],
             [
              0.8888888888888888,
              "#fdca26"
             ],
             [
              1,
              "#f0f921"
             ]
            ],
            "type": "histogram2dcontour"
           }
          ],
          "mesh3d": [
           {
            "colorbar": {
             "outlinewidth": 0,
             "ticks": ""
            },
            "type": "mesh3d"
           }
          ],
          "parcoords": [
           {
            "line": {
             "colorbar": {
              "outlinewidth": 0,
              "ticks": ""
             }
            },
            "type": "parcoords"
           }
          ],
          "pie": [
           {
            "automargin": true,
            "type": "pie"
           }
          ],
          "scatter": [
           {
            "marker": {
             "colorbar": {
              "outlinewidth": 0,
              "ticks": ""
             }
            },
            "type": "scatter"
           }
          ],
          "scatter3d": [
           {
            "line": {
             "colorbar": {
              "outlinewidth": 0,
              "ticks": ""
             }
            },
            "marker": {
             "colorbar": {
              "outlinewidth": 0,
              "ticks": ""
             }
            },
            "type": "scatter3d"
           }
          ],
          "scattercarpet": [
           {
            "marker": {
             "colorbar": {
              "outlinewidth": 0,
              "ticks": ""
             }
            },
            "type": "scattercarpet"
           }
          ],
          "scattergeo": [
           {
            "marker": {
             "colorbar": {
              "outlinewidth": 0,
              "ticks": ""
             }
            },
            "type": "scattergeo"
           }
          ],
          "scattergl": [
           {
            "marker": {
             "colorbar": {
              "outlinewidth": 0,
              "ticks": ""
             }
            },
            "type": "scattergl"
           }
          ],
          "scattermapbox": [
           {
            "marker": {
             "colorbar": {
              "outlinewidth": 0,
              "ticks": ""
             }
            },
            "type": "scattermapbox"
           }
          ],
          "scatterpolar": [
           {
            "marker": {
             "colorbar": {
              "outlinewidth": 0,
              "ticks": ""
             }
            },
            "type": "scatterpolar"
           }
          ],
          "scatterpolargl": [
           {
            "marker": {
             "colorbar": {
              "outlinewidth": 0,
              "ticks": ""
             }
            },
            "type": "scatterpolargl"
           }
          ],
          "scatterternary": [
           {
            "marker": {
             "colorbar": {
              "outlinewidth": 0,
              "ticks": ""
             }
            },
            "type": "scatterternary"
           }
          ],
          "surface": [
           {
            "colorbar": {
             "outlinewidth": 0,
             "ticks": ""
            },
            "colorscale": [
             [
              0,
              "#0d0887"
             ],
             [
              0.1111111111111111,
              "#46039f"
             ],
             [
              0.2222222222222222,
              "#7201a8"
             ],
             [
              0.3333333333333333,
              "#9c179e"
             ],
             [
              0.4444444444444444,
              "#bd3786"
             ],
             [
              0.5555555555555556,
              "#d8576b"
             ],
             [
              0.6666666666666666,
              "#ed7953"
             ],
             [
              0.7777777777777778,
              "#fb9f3a"
             ],
             [
              0.8888888888888888,
              "#fdca26"
             ],
             [
              1,
              "#f0f921"
             ]
            ],
            "type": "surface"
           }
          ],
          "table": [
           {
            "cells": {
             "fill": {
              "color": "#EBF0F8"
             },
             "line": {
              "color": "white"
             }
            },
            "header": {
             "fill": {
              "color": "#C8D4E3"
             },
             "line": {
              "color": "white"
             }
            },
            "type": "table"
           }
          ]
         },
         "layout": {
          "annotationdefaults": {
           "arrowcolor": "#2a3f5f",
           "arrowhead": 0,
           "arrowwidth": 1
          },
          "coloraxis": {
           "colorbar": {
            "outlinewidth": 0,
            "ticks": ""
           }
          },
          "colorscale": {
           "diverging": [
            [
             0,
             "#8e0152"
            ],
            [
             0.1,
             "#c51b7d"
            ],
            [
             0.2,
             "#de77ae"
            ],
            [
             0.3,
             "#f1b6da"
            ],
            [
             0.4,
             "#fde0ef"
            ],
            [
             0.5,
             "#f7f7f7"
            ],
            [
             0.6,
             "#e6f5d0"
            ],
            [
             0.7,
             "#b8e186"
            ],
            [
             0.8,
             "#7fbc41"
            ],
            [
             0.9,
             "#4d9221"
            ],
            [
             1,
             "#276419"
            ]
           ],
           "sequential": [
            [
             0,
             "#0d0887"
            ],
            [
             0.1111111111111111,
             "#46039f"
            ],
            [
             0.2222222222222222,
             "#7201a8"
            ],
            [
             0.3333333333333333,
             "#9c179e"
            ],
            [
             0.4444444444444444,
             "#bd3786"
            ],
            [
             0.5555555555555556,
             "#d8576b"
            ],
            [
             0.6666666666666666,
             "#ed7953"
            ],
            [
             0.7777777777777778,
             "#fb9f3a"
            ],
            [
             0.8888888888888888,
             "#fdca26"
            ],
            [
             1,
             "#f0f921"
            ]
           ],
           "sequentialminus": [
            [
             0,
             "#0d0887"
            ],
            [
             0.1111111111111111,
             "#46039f"
            ],
            [
             0.2222222222222222,
             "#7201a8"
            ],
            [
             0.3333333333333333,
             "#9c179e"
            ],
            [
             0.4444444444444444,
             "#bd3786"
            ],
            [
             0.5555555555555556,
             "#d8576b"
            ],
            [
             0.6666666666666666,
             "#ed7953"
            ],
            [
             0.7777777777777778,
             "#fb9f3a"
            ],
            [
             0.8888888888888888,
             "#fdca26"
            ],
            [
             1,
             "#f0f921"
            ]
           ]
          },
          "colorway": [
           "#636efa",
           "#EF553B",
           "#00cc96",
           "#ab63fa",
           "#FFA15A",
           "#19d3f3",
           "#FF6692",
           "#B6E880",
           "#FF97FF",
           "#FECB52"
          ],
          "font": {
           "color": "#2a3f5f"
          },
          "geo": {
           "bgcolor": "white",
           "lakecolor": "white",
           "landcolor": "#E5ECF6",
           "showlakes": true,
           "showland": true,
           "subunitcolor": "white"
          },
          "hoverlabel": {
           "align": "left"
          },
          "hovermode": "closest",
          "mapbox": {
           "style": "light"
          },
          "paper_bgcolor": "white",
          "plot_bgcolor": "#E5ECF6",
          "polar": {
           "angularaxis": {
            "gridcolor": "white",
            "linecolor": "white",
            "ticks": ""
           },
           "bgcolor": "#E5ECF6",
           "radialaxis": {
            "gridcolor": "white",
            "linecolor": "white",
            "ticks": ""
           }
          },
          "scene": {
           "xaxis": {
            "backgroundcolor": "#E5ECF6",
            "gridcolor": "white",
            "gridwidth": 2,
            "linecolor": "white",
            "showbackground": true,
            "ticks": "",
            "zerolinecolor": "white"
           },
           "yaxis": {
            "backgroundcolor": "#E5ECF6",
            "gridcolor": "white",
            "gridwidth": 2,
            "linecolor": "white",
            "showbackground": true,
            "ticks": "",
            "zerolinecolor": "white"
           },
           "zaxis": {
            "backgroundcolor": "#E5ECF6",
            "gridcolor": "white",
            "gridwidth": 2,
            "linecolor": "white",
            "showbackground": true,
            "ticks": "",
            "zerolinecolor": "white"
           }
          },
          "shapedefaults": {
           "line": {
            "color": "#2a3f5f"
           }
          },
          "ternary": {
           "aaxis": {
            "gridcolor": "white",
            "linecolor": "white",
            "ticks": ""
           },
           "baxis": {
            "gridcolor": "white",
            "linecolor": "white",
            "ticks": ""
           },
           "bgcolor": "#E5ECF6",
           "caxis": {
            "gridcolor": "white",
            "linecolor": "white",
            "ticks": ""
           }
          },
          "title": {
           "x": 0.05
          },
          "xaxis": {
           "automargin": true,
           "gridcolor": "white",
           "linecolor": "white",
           "ticks": "",
           "title": {
            "standoff": 15
           },
           "zerolinecolor": "white",
           "zerolinewidth": 2
          },
          "yaxis": {
           "automargin": true,
           "gridcolor": "white",
           "linecolor": "white",
           "ticks": "",
           "title": {
            "standoff": 15
           },
           "zerolinecolor": "white",
           "zerolinewidth": 2
          }
         }
        },
        "width": 950,
        "xaxis": {
         "title": {
          "text": "<b>Week</b>"
         }
        },
        "yaxis": {
         "range": [
          0,
          6.25
         ],
         "title": {
          "text": "<b>Number of Students</b>"
         }
        }
       }
      },
      "text/html": [
       "<div>\n",
       "        \n",
       "        \n",
       "            <div id=\"81d6500a-1b9b-4359-9c42-a5f7336ec283\" class=\"plotly-graph-div\" style=\"height:525px; width:950px;\"></div>\n",
       "            <script type=\"text/javascript\">\n",
       "                require([\"plotly\"], function(Plotly) {\n",
       "                    window.PLOTLYENV=window.PLOTLYENV || {};\n",
       "                    \n",
       "                if (document.getElementById(\"81d6500a-1b9b-4359-9c42-a5f7336ec283\")) {\n",
       "                    Plotly.newPlot(\n",
       "                        '81d6500a-1b9b-4359-9c42-a5f7336ec283',\n",
       "                        [{\"marker\": {\"color\": \"#69c6af\", \"line\": {\"color\": \"#52bca3\", \"width\": 5}, \"size\": 5, \"symbol\": \"square\"}, \"mode\": \"lines+markers\", \"name\": \"Transfer CS 2\", \"type\": \"scatter\", \"x\": [\"Week 1\", \"Week 2\", \"Week 3\", \"Week 4\", \"Week 5\", \"Week 6\", \"Week 7\", \"Week 8\", \"Week 9\", \"Week 10\"], \"y\": [2.6923076923076925, 2.607142857142857, 3.1724137931034484, 4.803921568627451, 3.5, 4.229166666666667, 4.108695652173913, 7.428571428571429, 3.076923076923077, 4.081081081081081]}, {\"marker\": {\"color\": \"#69c6af\", \"line\": {\"color\": \"#52bca3\", \"width\": 5}, \"size\": 5, \"symbol\": \"circle-dot\"}, \"mode\": \"lines+markers\", \"name\": \"Native CS 2\", \"type\": \"scatter\", \"x\": [\"Week 1\", \"Week 2\", \"Week 3\", \"Week 4\", \"Week 5\", \"Week 6\", \"Week 7\", \"Week 8\", \"Week 9\", \"Week 10\"], \"y\": [2.4603174603174605, 2.6666666666666665, 2.9133333333333336, 3.145985401459854, 3.134453781512605, 3.4065040650406506, 3.4338235294117645, 3.0470588235294116, 3.305263157894737, 3.7264150943396226]}, {\"marker\": {\"color\": \"#9a61b0\", \"line\": {\"color\": \"#5d69b1\", \"width\": 5}, \"size\": 5, \"symbol\": \"square\"}, \"mode\": \"lines+markers\", \"name\": \"Transfer CS 1A\", \"type\": \"scatter\", \"x\": [\"Week 2\", \"Week 3\", \"Week 4\", \"Week 5\", \"Week 6\", \"Week 7\", \"Week 8\", \"Week 9\"], \"y\": [1.9696969696969697, 2.0, 2.0, 2.12, 2.16, 2.033333333333333, 2.21875, 3.0344827586206895]}, {\"marker\": {\"color\": \"#9a61b0\", \"line\": {\"color\": \"#5d69b1\", \"width\": 5}, \"size\": 5, \"symbol\": \"circle-dot\"}, \"mode\": \"lines+markers\", \"name\": \"Native CS 1A\", \"type\": \"scatter\", \"x\": [\"Week 2\", \"Week 3\", \"Week 4\", \"Week 5\", \"Week 6\", \"Week 7\", \"Week 8\", \"Week 9\"], \"y\": [5.293159609120521, 5.430976430976431, 5.980392156862745, 5.806666666666667, 5.939597315436242, 6.102990033222591, 6.015723270440252, 6.530685920577618]}, {\"marker\": {\"color\": \"#c7a302\", \"line\": {\"color\": \"#e58606\", \"width\": 5}, \"size\": 5, \"symbol\": \"square\"}, \"mode\": \"lines+markers\", \"name\": \"Transfer CS 1\", \"type\": \"scatter\", \"x\": [\"Week 2\", \"Week 3\", \"Week 4\", \"Week 5\", \"Week 6\", \"Week 7\", \"Week 8\", \"Week 9\"], \"y\": [2.857142857142857, 8.48, 2.56, 2.066666666666667, 2.5961538461538463, 3.282608695652174, 2.2777777777777777, 2.3636363636363638]}, {\"marker\": {\"color\": \"#c7a302\", \"line\": {\"color\": \"#e58606\", \"width\": 5}, \"size\": 5, \"symbol\": \"circle-dot\"}, \"mode\": \"lines+markers\", \"name\": \"Native CS 1\", \"type\": \"scatter\", \"x\": [\"Week 2\", \"Week 3\", \"Week 4\", \"Week 5\", \"Week 6\", \"Week 7\", \"Week 8\", \"Week 9\"], \"y\": [3.099476439790576, 3.557788944723618, 3.7386934673366836, 4.065616797900263, 4.031746031746032, 4.546153846153846, 4.377840909090909, 4.532338308457711]}],\n",
       "                        {\"height\": 525, \"legend\": {\"title\": {\"text\": \"<b>Legend</b>\"}}, \"template\": {\"data\": {\"bar\": [{\"error_x\": {\"color\": \"#2a3f5f\"}, \"error_y\": {\"color\": \"#2a3f5f\"}, \"marker\": {\"line\": {\"color\": \"#E5ECF6\", \"width\": 0.5}}, \"type\": \"bar\"}], \"barpolar\": [{\"marker\": {\"line\": {\"color\": \"#E5ECF6\", \"width\": 0.5}}, \"type\": \"barpolar\"}], \"carpet\": [{\"aaxis\": {\"endlinecolor\": \"#2a3f5f\", \"gridcolor\": \"white\", \"linecolor\": \"white\", \"minorgridcolor\": \"white\", \"startlinecolor\": \"#2a3f5f\"}, \"baxis\": {\"endlinecolor\": \"#2a3f5f\", \"gridcolor\": \"white\", \"linecolor\": \"white\", \"minorgridcolor\": \"white\", \"startlinecolor\": \"#2a3f5f\"}, \"type\": \"carpet\"}], \"choropleth\": [{\"colorbar\": {\"outlinewidth\": 0, \"ticks\": \"\"}, \"type\": \"choropleth\"}], \"contour\": [{\"colorbar\": {\"outlinewidth\": 0, \"ticks\": \"\"}, \"colorscale\": [[0.0, \"#0d0887\"], [0.1111111111111111, \"#46039f\"], [0.2222222222222222, \"#7201a8\"], [0.3333333333333333, \"#9c179e\"], [0.4444444444444444, \"#bd3786\"], [0.5555555555555556, \"#d8576b\"], [0.6666666666666666, \"#ed7953\"], [0.7777777777777778, \"#fb9f3a\"], [0.8888888888888888, \"#fdca26\"], [1.0, \"#f0f921\"]], \"type\": \"contour\"}], \"contourcarpet\": [{\"colorbar\": {\"outlinewidth\": 0, \"ticks\": \"\"}, \"type\": \"contourcarpet\"}], \"heatmap\": [{\"colorbar\": {\"outlinewidth\": 0, \"ticks\": \"\"}, \"colorscale\": [[0.0, \"#0d0887\"], [0.1111111111111111, \"#46039f\"], [0.2222222222222222, \"#7201a8\"], [0.3333333333333333, \"#9c179e\"], [0.4444444444444444, \"#bd3786\"], [0.5555555555555556, \"#d8576b\"], [0.6666666666666666, \"#ed7953\"], [0.7777777777777778, \"#fb9f3a\"], [0.8888888888888888, \"#fdca26\"], [1.0, \"#f0f921\"]], \"type\": \"heatmap\"}], \"heatmapgl\": [{\"colorbar\": {\"outlinewidth\": 0, \"ticks\": \"\"}, \"colorscale\": [[0.0, \"#0d0887\"], [0.1111111111111111, \"#46039f\"], [0.2222222222222222, \"#7201a8\"], [0.3333333333333333, \"#9c179e\"], [0.4444444444444444, \"#bd3786\"], [0.5555555555555556, \"#d8576b\"], [0.6666666666666666, \"#ed7953\"], [0.7777777777777778, \"#fb9f3a\"], [0.8888888888888888, \"#fdca26\"], [1.0, \"#f0f921\"]], \"type\": \"heatmapgl\"}], \"histogram\": [{\"marker\": {\"colorbar\": {\"outlinewidth\": 0, \"ticks\": \"\"}}, \"type\": \"histogram\"}], \"histogram2d\": [{\"colorbar\": {\"outlinewidth\": 0, \"ticks\": \"\"}, \"colorscale\": [[0.0, \"#0d0887\"], [0.1111111111111111, \"#46039f\"], [0.2222222222222222, \"#7201a8\"], [0.3333333333333333, \"#9c179e\"], [0.4444444444444444, \"#bd3786\"], [0.5555555555555556, \"#d8576b\"], [0.6666666666666666, \"#ed7953\"], [0.7777777777777778, \"#fb9f3a\"], [0.8888888888888888, \"#fdca26\"], [1.0, \"#f0f921\"]], \"type\": \"histogram2d\"}], \"histogram2dcontour\": [{\"colorbar\": {\"outlinewidth\": 0, \"ticks\": \"\"}, \"colorscale\": [[0.0, \"#0d0887\"], [0.1111111111111111, \"#46039f\"], [0.2222222222222222, \"#7201a8\"], [0.3333333333333333, \"#9c179e\"], [0.4444444444444444, \"#bd3786\"], [0.5555555555555556, \"#d8576b\"], [0.6666666666666666, \"#ed7953\"], [0.7777777777777778, \"#fb9f3a\"], [0.8888888888888888, \"#fdca26\"], [1.0, \"#f0f921\"]], \"type\": \"histogram2dcontour\"}], \"mesh3d\": [{\"colorbar\": {\"outlinewidth\": 0, \"ticks\": \"\"}, \"type\": \"mesh3d\"}], \"parcoords\": [{\"line\": {\"colorbar\": {\"outlinewidth\": 0, \"ticks\": \"\"}}, \"type\": \"parcoords\"}], \"pie\": [{\"automargin\": true, \"type\": \"pie\"}], \"scatter\": [{\"marker\": {\"colorbar\": {\"outlinewidth\": 0, \"ticks\": \"\"}}, \"type\": \"scatter\"}], \"scatter3d\": [{\"line\": {\"colorbar\": {\"outlinewidth\": 0, \"ticks\": \"\"}}, \"marker\": {\"colorbar\": {\"outlinewidth\": 0, \"ticks\": \"\"}}, \"type\": \"scatter3d\"}], \"scattercarpet\": [{\"marker\": {\"colorbar\": {\"outlinewidth\": 0, \"ticks\": \"\"}}, \"type\": \"scattercarpet\"}], \"scattergeo\": [{\"marker\": {\"colorbar\": {\"outlinewidth\": 0, \"ticks\": \"\"}}, \"type\": \"scattergeo\"}], \"scattergl\": [{\"marker\": {\"colorbar\": {\"outlinewidth\": 0, \"ticks\": \"\"}}, \"type\": \"scattergl\"}], \"scattermapbox\": [{\"marker\": {\"colorbar\": {\"outlinewidth\": 0, \"ticks\": \"\"}}, \"type\": \"scattermapbox\"}], \"scatterpolar\": [{\"marker\": {\"colorbar\": {\"outlinewidth\": 0, \"ticks\": \"\"}}, \"type\": \"scatterpolar\"}], \"scatterpolargl\": [{\"marker\": {\"colorbar\": {\"outlinewidth\": 0, \"ticks\": \"\"}}, \"type\": \"scatterpolargl\"}], \"scatterternary\": [{\"marker\": {\"colorbar\": {\"outlinewidth\": 0, \"ticks\": \"\"}}, \"type\": \"scatterternary\"}], \"surface\": [{\"colorbar\": {\"outlinewidth\": 0, \"ticks\": \"\"}, \"colorscale\": [[0.0, \"#0d0887\"], [0.1111111111111111, \"#46039f\"], [0.2222222222222222, \"#7201a8\"], [0.3333333333333333, \"#9c179e\"], [0.4444444444444444, \"#bd3786\"], [0.5555555555555556, \"#d8576b\"], [0.6666666666666666, \"#ed7953\"], [0.7777777777777778, \"#fb9f3a\"], [0.8888888888888888, \"#fdca26\"], [1.0, \"#f0f921\"]], \"type\": \"surface\"}], \"table\": [{\"cells\": {\"fill\": {\"color\": \"#EBF0F8\"}, \"line\": {\"color\": \"white\"}}, \"header\": {\"fill\": {\"color\": \"#C8D4E3\"}, \"line\": {\"color\": \"white\"}}, \"type\": \"table\"}]}, \"layout\": {\"annotationdefaults\": {\"arrowcolor\": \"#2a3f5f\", \"arrowhead\": 0, \"arrowwidth\": 1}, \"coloraxis\": {\"colorbar\": {\"outlinewidth\": 0, \"ticks\": \"\"}}, \"colorscale\": {\"diverging\": [[0, \"#8e0152\"], [0.1, \"#c51b7d\"], [0.2, \"#de77ae\"], [0.3, \"#f1b6da\"], [0.4, \"#fde0ef\"], [0.5, \"#f7f7f7\"], [0.6, \"#e6f5d0\"], [0.7, \"#b8e186\"], [0.8, \"#7fbc41\"], [0.9, \"#4d9221\"], [1, \"#276419\"]], \"sequential\": [[0.0, \"#0d0887\"], [0.1111111111111111, \"#46039f\"], [0.2222222222222222, \"#7201a8\"], [0.3333333333333333, \"#9c179e\"], [0.4444444444444444, \"#bd3786\"], [0.5555555555555556, \"#d8576b\"], [0.6666666666666666, \"#ed7953\"], [0.7777777777777778, \"#fb9f3a\"], [0.8888888888888888, \"#fdca26\"], [1.0, \"#f0f921\"]], \"sequentialminus\": [[0.0, \"#0d0887\"], [0.1111111111111111, \"#46039f\"], [0.2222222222222222, \"#7201a8\"], [0.3333333333333333, \"#9c179e\"], [0.4444444444444444, \"#bd3786\"], [0.5555555555555556, \"#d8576b\"], [0.6666666666666666, \"#ed7953\"], [0.7777777777777778, \"#fb9f3a\"], [0.8888888888888888, \"#fdca26\"], [1.0, \"#f0f921\"]]}, \"colorway\": [\"#636efa\", \"#EF553B\", \"#00cc96\", \"#ab63fa\", \"#FFA15A\", \"#19d3f3\", \"#FF6692\", \"#B6E880\", \"#FF97FF\", \"#FECB52\"], \"font\": {\"color\": \"#2a3f5f\"}, \"geo\": {\"bgcolor\": \"white\", \"lakecolor\": \"white\", \"landcolor\": \"#E5ECF6\", \"showlakes\": true, \"showland\": true, \"subunitcolor\": \"white\"}, \"hoverlabel\": {\"align\": \"left\"}, \"hovermode\": \"closest\", \"mapbox\": {\"style\": \"light\"}, \"paper_bgcolor\": \"white\", \"plot_bgcolor\": \"#E5ECF6\", \"polar\": {\"angularaxis\": {\"gridcolor\": \"white\", \"linecolor\": \"white\", \"ticks\": \"\"}, \"bgcolor\": \"#E5ECF6\", \"radialaxis\": {\"gridcolor\": \"white\", \"linecolor\": \"white\", \"ticks\": \"\"}}, \"scene\": {\"xaxis\": {\"backgroundcolor\": \"#E5ECF6\", \"gridcolor\": \"white\", \"gridwidth\": 2, \"linecolor\": \"white\", \"showbackground\": true, \"ticks\": \"\", \"zerolinecolor\": \"white\"}, \"yaxis\": {\"backgroundcolor\": \"#E5ECF6\", \"gridcolor\": \"white\", \"gridwidth\": 2, \"linecolor\": \"white\", \"showbackground\": true, \"ticks\": \"\", \"zerolinecolor\": \"white\"}, \"zaxis\": {\"backgroundcolor\": \"#E5ECF6\", \"gridcolor\": \"white\", \"gridwidth\": 2, \"linecolor\": \"white\", \"showbackground\": true, \"ticks\": \"\", \"zerolinecolor\": \"white\"}}, \"shapedefaults\": {\"line\": {\"color\": \"#2a3f5f\"}}, \"ternary\": {\"aaxis\": {\"gridcolor\": \"white\", \"linecolor\": \"white\", \"ticks\": \"\"}, \"baxis\": {\"gridcolor\": \"white\", \"linecolor\": \"white\", \"ticks\": \"\"}, \"bgcolor\": \"#E5ECF6\", \"caxis\": {\"gridcolor\": \"white\", \"linecolor\": \"white\", \"ticks\": \"\"}}, \"title\": {\"x\": 0.05}, \"xaxis\": {\"automargin\": true, \"gridcolor\": \"white\", \"linecolor\": \"white\", \"ticks\": \"\", \"title\": {\"standoff\": 15}, \"zerolinecolor\": \"white\", \"zerolinewidth\": 2}, \"yaxis\": {\"automargin\": true, \"gridcolor\": \"white\", \"linecolor\": \"white\", \"ticks\": \"\", \"title\": {\"standoff\": 15}, \"zerolinecolor\": \"white\", \"zerolinewidth\": 2}}}, \"width\": 950, \"xaxis\": {\"title\": {\"text\": \"<b>Week</b>\"}}, \"yaxis\": {\"range\": [0, 6.25], \"title\": {\"text\": \"<b>Number of Students</b>\"}}},\n",
       "                        {\"responsive\": true}\n",
       "                    ).then(function(){\n",
       "                            \n",
       "var gd = document.getElementById('81d6500a-1b9b-4359-9c42-a5f7336ec283');\n",
       "var x = new MutationObserver(function (mutations, observer) {{\n",
       "        var display = window.getComputedStyle(gd).display;\n",
       "        if (!display || display === 'none') {{\n",
       "            console.log([gd, 'removed!']);\n",
       "            Plotly.purge(gd);\n",
       "            observer.disconnect();\n",
       "        }}\n",
       "}});\n",
       "\n",
       "// Listen for the removal of the full notebook cells\n",
       "var notebookContainer = gd.closest('#notebook-container');\n",
       "if (notebookContainer) {{\n",
       "    x.observe(notebookContainer, {childList: true});\n",
       "}}\n",
       "\n",
       "// Listen for the clearing of the current output cell\n",
       "var outputEl = gd.closest('.output');\n",
       "if (outputEl) {{\n",
       "    x.observe(outputEl, {childList: true});\n",
       "}}\n",
       "\n",
       "                        })\n",
       "                };\n",
       "                });\n",
       "            </script>\n",
       "        </div>"
      ]
     },
     "metadata": {},
     "output_type": "display_data"
    }
   ],
   "source": [
    "fig = go.Figure(layout=go.Layout(yaxis=dict(range=[0,6.25])))\n",
    "\n",
    "fig.add_trace(go.Scatter(x=x_label2, y=df3[\"Transfer Mean\"],\n",
    "                    mode='lines+markers',\n",
    "                    name='Transfer CS 2',\n",
    "                    marker_symbol=\"square\",\n",
    "                    marker=dict(\n",
    "                        color='#69c6af',\n",
    "                        size=5,\n",
    "                        line=dict(\n",
    "                                color='#52bca3',\n",
    "                                width=5\n",
    "                            )\n",
    "                        )\n",
    "               ))\n",
    "fig.add_trace(go.Scatter(x=x_label2, y=df3[\"Native Mean\"],\n",
    "                    mode='lines+markers',\n",
    "                    name='Native CS 2',\n",
    "                    marker_symbol=\"circle-dot\",\n",
    "                    marker=dict(\n",
    "                        color='#69c6af',\n",
    "                        size=5,\n",
    "                        line=dict(\n",
    "                                color='#52bca3',\n",
    "                                width=5\n",
    "                            )\n",
    "                        )\n",
    "               ))\n",
    "\n",
    "fig.add_trace(go.Scatter(x=x_label1, y=df2[\"Transfer Mean\"],\n",
    "                    mode='lines+markers',\n",
    "                    name='Transfer CS 1A',\n",
    "                    marker_symbol=\"square\",\n",
    "                    marker=dict(\n",
    "                        color='#9a61b0',\n",
    "                        size=5,\n",
    "                        line=dict(\n",
    "                                color='#5d69b1',\n",
    "                                width=5\n",
    "                            )\n",
    "                        )\n",
    "               ))\n",
    "fig.add_trace(go.Scatter(x=x_label1, y=df2[\"Native Mean\"],\n",
    "                    mode='lines+markers',\n",
    "                    name='Native CS 1A',\n",
    "                    marker_symbol=\"circle-dot\",\n",
    "                    marker=dict(\n",
    "                        color='#9a61b0',\n",
    "                        size=5,\n",
    "                        line=dict(\n",
    "                                color='#5d69b1',\n",
    "                                width=5\n",
    "                            )\n",
    "                        )\n",
    "               ))\n",
    "\n",
    "fig.add_trace(go.Scatter(x=x_label1, y=df1[\"Transfer Mean\"],\n",
    "                    mode='lines+markers',\n",
    "                    name='Transfer CS 1',\n",
    "                    marker_symbol=\"square\",\n",
    "                    marker=dict(\n",
    "                        color='#c7a302',\n",
    "                        size=5,\n",
    "                        line=dict(\n",
    "                                color=\"#e58606\",\n",
    "                                width=5\n",
    "                            )\n",
    "                        )\n",
    "             ))\n",
    "fig.add_trace(go.Scatter(x=x_label1, y=df1[\"Native Mean\"],\n",
    "                    mode='lines+markers',\n",
    "                    name='Native CS 1',\n",
    "                    marker_symbol=\"circle-dot\",\n",
    "                    marker=dict(\n",
    "                        color='#c7a302',\n",
    "                        size=5,\n",
    "                        line=dict(\n",
    "                                color='#e58606',\n",
    "                                width=5\n",
    "                            )\n",
    "                        )\n",
    "               ))\n",
    "\n",
    "\n",
    "fig.update_layout(\n",
    "                  xaxis_title=\"<b>Week</b>\",\n",
    "                  height=525,\n",
    "                  width = 950,\n",
    "                  yaxis_title=\"<b>Number of Students</b>\",\n",
    "                  legend_title=\"<b>Legend</b>\",\n",
    "                 )\n",
    "\n",
    "\n",
    "fig.show()"
   ]
  }
 ],
 "metadata": {
  "kernelspec": {
   "display_name": "Python 3",
   "language": "python",
   "name": "python3"
  },
  "language_info": {
   "codemirror_mode": {
    "name": "ipython",
    "version": 3
   },
   "file_extension": ".py",
   "mimetype": "text/x-python",
   "name": "python",
   "nbconvert_exporter": "python",
   "pygments_lexer": "ipython3",
   "version": "3.7.6"
  }
 },
 "nbformat": 4,
 "nbformat_minor": 4
}
