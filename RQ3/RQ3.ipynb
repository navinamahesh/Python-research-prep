{
 "cells": [
  {
   "cell_type": "code",
   "execution_count": 1,
   "metadata": {},
   "outputs": [],
   "source": [
    "import pandas as pd\n",
    "from pandas import Series, DataFrame\n",
    "import matplotlib.pyplot as plt\n",
    "import numpy as np\n",
    "import plotly.graph_objects as go\n",
    "from scipy import stats\n",
    "import seaborn as sns\n",
    "\n",
    "presurvey1 = \"../Data/Fall 2019/CSE 8A Fall 2019 DeID/presurvey.csv\"\n",
    "gradebook1 = \"../Data/Fall 2019/CSE 8A Fall 2019 DeID/gradebook.csv\"\n",
    "presurvey2 = \"../Data/Fall 2019/CSE 11 Fall 2019 DeID/presurvey.csv\"\n",
    "gradebook2 = \"../Data/Fall 2019/CSE 11 Fall 2019 DeID/gradebook.csv\"\n",
    "presurvey3 = \"../Data/Fall 2019/CSE 12 Fall 2019 DeID/presurvey.csv\"\n",
    "gradebook3 = \"../Data/Fall 2019/CSE 12 Fall 2019 DeID/gradebook.csv\""
   ]
  },
  {
   "cell_type": "code",
   "execution_count": 2,
   "metadata": {},
   "outputs": [],
   "source": [
    "reflections2 = []\n",
    "for i in range (1,9):\n",
    "    reflections2.append(pd.read_csv(\"../Data/Fall 2019/CSE 11 Fall 2019 DeID/R\" +str(i)+\".csv\"))"
   ]
  },
  {
   "cell_type": "code",
   "execution_count": 3,
   "metadata": {},
   "outputs": [],
   "source": [
    "reflections3 = []\n",
    "for i in range (1,11):\n",
    "    reflections3.append(pd.read_csv(\"../Data/Fall 2019/CSE 12 Fall 2019 DeID/R\" +str(i)+\".csv\"))"
   ]
  },
  {
   "cell_type": "code",
   "execution_count": 4,
   "metadata": {},
   "outputs": [],
   "source": [
    "reflections1 = []\n",
    "for i in range (1,9):\n",
    "    reflections1.append(pd.read_csv(\"../Data/Fall 2019/CSE 8A Fall 2019 DeID/R\" +str(i)+\".csv\"))"
   ]
  },
  {
   "cell_type": "code",
   "execution_count": 5,
   "metadata": {},
   "outputs": [],
   "source": [
    "def scaled_categories(reflections, presurvey, category, label, x):\n",
    "    categoryIssue = 0\n",
    "    for i in range(x):\n",
    "        category_issue = reflections[i][category]\n",
    "        DeID = reflections[i][\"DeID\"]\n",
    "        s = label + str(i) \n",
    "        cat = DataFrame({\"DeID\": DeID, s: category_issue})\n",
    "        if i == 0:\n",
    "            categoryIssue = cat\n",
    "        else:\n",
    "            categoryIssue = pd.merge(categoryIssue, cat, on=\"DeID\", how=\"outer\")\n",
    "            \n",
    "    categoryIssue = categoryIssue.drop_duplicates(subset=['DeID'])     \n",
    "    df = pd.read_csv(presurvey)\n",
    "    status = df[\"Did.you.enter.UCSD.as.a.transfer.student.from.another..2.year.or.4.year..college.or.university.\"] == \"Yes\"\n",
    "    DeID = df[\"DeID\"]\n",
    "    transferStatus = DataFrame({\"DeID\": DeID, \"Transfer Status\": status})\n",
    "\n",
    "    mergedData = pd.merge(transferStatus, categoryIssue, on=\"DeID\")\n",
    "    transfer = mergedData[mergedData[\"Transfer Status\"] == True]\n",
    "    native = mergedData[mergedData[\"Transfer Status\"] == False]\n",
    "    \n",
    "    return {'transfer' : transfer, 'native' : native}\n",
    "    "
   ]
  },
  {
   "cell_type": "code",
   "execution_count": 6,
   "metadata": {},
   "outputs": [],
   "source": [
    "def RemovedOutlier(transfer, native, x, x_label):\n",
    "    transferIssues = []\n",
    "    nativeIssues = []\n",
    "    transferMedian = []\n",
    "    nativeMedian = []\n",
    "    transferStd = []\n",
    "    nativeStd = []\n",
    "    transferLen = []\n",
    "    nativeLen = []\n",
    "    transferMax = []\n",
    "    nativeMax = []\n",
    "    transferMin = []\n",
    "    nativeMin = []\n",
    "    utestStatistics = []\n",
    "    pValuesU = []\n",
    "    TQUL = []\n",
    "    TQLL = []\n",
    "    NQUL = []\n",
    "    NQLL = []\n",
    "\n",
    "    for i in range(x):\n",
    "        df = pd.DataFrame({label+str(i):transfer[label+str(i)],\"DeID\":transfer[\"DeID\"]})\n",
    "        df = df.drop_duplicates(subset=[\"DeID\"])\n",
    "        df = df.dropna(axis=0)\n",
    "        l = len(df)\n",
    "        Q1 = df[label+str(i)].quantile(0.25)\n",
    "        Q3 = df[label+str(i)].quantile(0.75)\n",
    "        IQR = Q3 - Q1    #IQR is interquartile range. \n",
    "        QLL = 0\n",
    "        QUL = Q3 + 1.5 * IQR\n",
    "        \n",
    "        TQUL.append(QUL)\n",
    "        TQLL.append(QLL)\n",
    "        \n",
    "        filterInclude = (df[label+str(i)] >= QLL) & (df[label+str(i)] <= QUL)   \n",
    "        filterExclude = (df[label+str(i)] < QLL) | (df[label+str(i)] > QUL)\n",
    "        \n",
    "        df = df.loc[filterInclude]\n",
    "        #print(\"Removed %: \" + str((l - len(df))*100/l))\n",
    "        transferRefined = df\n",
    "\n",
    "        df = pd.DataFrame({label+str(i):native[label+str(i)], \"DeID\":native[\"DeID\"]})\n",
    "        df = df.drop_duplicates(subset=[\"DeID\"])\n",
    "        df = df.dropna(axis=0)       \n",
    "        l = len(df)\n",
    "        Q1 = df[label+str(i)].quantile(0.25)\n",
    "        Q3 = df[label+str(i)].quantile(0.75)\n",
    "        IQR = Q3 - Q1    #IQR is interquartile range. \n",
    "        QLL = 0\n",
    "        QUL = Q3 + 1.5 * IQR\n",
    "        \n",
    "        NQUL.append(QUL)\n",
    "        NQLL.append(QLL)\n",
    "        \n",
    "        filterInclude = (df[label+str(i)] >= QLL) & (df[label+str(i)] <= QUL)   \n",
    "        filterExclude = (df[label+str(i)] < QLL) | (df[label+str(i)] > QUL)\n",
    "        \n",
    "        df = df.loc[filterInclude]\n",
    "        #print(\"Removed %: \" + str((l - len(df))*100/l))\n",
    "        nativeRefined = df\n",
    "        \n",
    "\n",
    "        transferIssues.append(transferRefined[label+str(i)].mean())\n",
    "        nativeIssues.append(nativeRefined[label+str(i)].mean())\n",
    "\n",
    "        transferMedian.append(transferRefined[label+str(i)].median())\n",
    "        nativeMedian.append(nativeRefined[label+str(i)].median())\n",
    "\n",
    "        transferStd.append(transferRefined[label+str(i)].std())\n",
    "        nativeStd.append(nativeRefined[label+str(i)].std())\n",
    "\n",
    "        transferLen.append(len(transferRefined[label+str(i)]))\n",
    "        nativeLen.append(len(nativeRefined[label+str(i)]))\n",
    "        \n",
    "        transferMax.append(transferRefined[label+str(i)].max())\n",
    "        nativeMax.append(nativeRefined[label+str(i)].max())\n",
    "        \n",
    "        transferMin.append(transferRefined[label+str(i)].min())\n",
    "        nativeMin.append(nativeRefined[label+str(i)].min())\n",
    "\n",
    "        ttest_results = stats.ttest_ind(transferRefined[label+str(i)], nativeRefined[label+str(i)])\n",
    "        utest_results = stats.mannwhitneyu(transferRefined[label+str(i)], nativeRefined[label+str(i)], use_continuity=False)\n",
    "        utestStatistics.append(utest_results[0])\n",
    "        pValuesU.append(utest_results[1])\n",
    "\n",
    "    df = DataFrame({\"Week\" : Series(x_label), \n",
    "                    \"Transfer Mean\" : Series(transferIssues), \n",
    "                    \"Native Mean\" : Series(nativeIssues),\n",
    "                    \"Transfer Std Dev\" : Series(transferStd),\n",
    "                    \"Native Std Dev\" : Series(nativeStd),\n",
    "                    \"Transfer Max\" : Series(transferMax),\n",
    "                    \"Native Max\" : Series(nativeMax),\n",
    "                    \"Transfer Min\" : Series(transferMin),\n",
    "                    \"Native Min\" : Series(nativeMin),\n",
    "                    \"Transfer Number\" : Series(transferLen),\n",
    "                    \"Native Number\" : Series(nativeLen),\n",
    "                    \"T Upper Limit\" : TQUL,\n",
    "                    \"N Upper Limit\" : NQUL,\n",
    "                    \"p-value (u-test)\" : pValuesU,\n",
    "                    \"Test Statistic (u-test)\" : utestStatistics})\n",
    "    return df"
   ]
  },
  {
   "cell_type": "code",
   "execution_count": 7,
   "metadata": {},
   "outputs": [],
   "source": [
    "category = \"At.this.time..approximately.how.many.other.students.in.this.course.would.you.be.comfortable.reaching.out.to.study.with.\"\n",
    "label = \"# of People \"\n",
    "graphTitle = \"# of People you Feel Comfortable Reaching Out To\"\n",
    "X_title = \"Week\"\n",
    "Y_title = \"Number of Students\"\n",
    "x = 8\n",
    "scale1 = \"1\"\n",
    "scale5 = \"5\"\n",
    "\n",
    "data = scaled_categories(reflections1, presurvey1, category, label, 8)\n",
    "transfer1 = data['transfer']\n",
    "native1 = data['native']\n",
    "\n",
    "data = scaled_categories(reflections2, presurvey2, category, label, 8)\n",
    "transfer2 = data['transfer']\n",
    "native2 = data['native']\n",
    "\n",
    "x = 10\n",
    "data = scaled_categories(reflections3, presurvey3, category, label, 10)\n",
    "transfer3 = data['transfer']\n",
    "native3 = data['native']\n"
   ]
  },
  {
   "cell_type": "code",
   "execution_count": 8,
   "metadata": {},
   "outputs": [],
   "source": [
    "x_label1 = [\"Week 2\", \"Week 3\", \"Week 4\", \"Week 5\", \"Week 6\", \"Week 7\", \"Week 8\", \"Week 9\"]\n",
    "x_label2 = [\"Week 1\", \"Week 2\", \"Week 3\", \"Week 4\", \"Week 5\", \"Week 6\", \"Week 7\", \"Week 8\", \"Week 9\", \"Week 10\"]\n",
    "\n",
    "df1 = RemovedOutlier(transfer1, native1, 8, x_label1)\n",
    "df2 = RemovedOutlier(transfer2, native2, 8, x_label1)\n",
    "df3 = RemovedOutlier(transfer3, native3, 10, x_label2)"
   ]
  },
  {
   "cell_type": "code",
   "execution_count": 9,
   "metadata": {},
   "outputs": [
    {
     "data": {
      "text/plain": [
       "'CS 1:'"
      ]
     },
     "metadata": {},
     "output_type": "display_data"
    },
    {
     "data": {
      "text/html": [
       "<div>\n",
       "<style scoped>\n",
       "    .dataframe tbody tr th:only-of-type {\n",
       "        vertical-align: middle;\n",
       "    }\n",
       "\n",
       "    .dataframe tbody tr th {\n",
       "        vertical-align: top;\n",
       "    }\n",
       "\n",
       "    .dataframe thead th {\n",
       "        text-align: right;\n",
       "    }\n",
       "</style>\n",
       "<table border=\"1\" class=\"dataframe\">\n",
       "  <thead>\n",
       "    <tr style=\"text-align: right;\">\n",
       "      <th></th>\n",
       "      <th>Week</th>\n",
       "      <th>Transfer Mean</th>\n",
       "      <th>Native Mean</th>\n",
       "      <th>Transfer Std Dev</th>\n",
       "      <th>Native Std Dev</th>\n",
       "      <th>Transfer Max</th>\n",
       "      <th>Native Max</th>\n",
       "      <th>Transfer Min</th>\n",
       "      <th>Native Min</th>\n",
       "      <th>Transfer Number</th>\n",
       "      <th>Native Number</th>\n",
       "      <th>T Upper Limit</th>\n",
       "      <th>N Upper Limit</th>\n",
       "      <th>p-value (u-test)</th>\n",
       "      <th>Test Statistic (u-test)</th>\n",
       "    </tr>\n",
       "  </thead>\n",
       "  <tbody>\n",
       "    <tr>\n",
       "      <th>0</th>\n",
       "      <td>Week 2</td>\n",
       "      <td>1.862745</td>\n",
       "      <td>2.527933</td>\n",
       "      <td>1.385924</td>\n",
       "      <td>1.604633</td>\n",
       "      <td>5.0</td>\n",
       "      <td>7.0</td>\n",
       "      <td>0.0</td>\n",
       "      <td>0.0</td>\n",
       "      <td>51</td>\n",
       "      <td>358</td>\n",
       "      <td>6.0</td>\n",
       "      <td>8.5</td>\n",
       "      <td>0.003616</td>\n",
       "      <td>7047.5</td>\n",
       "    </tr>\n",
       "    <tr>\n",
       "      <th>1</th>\n",
       "      <td>Week 3</td>\n",
       "      <td>1.891304</td>\n",
       "      <td>2.840541</td>\n",
       "      <td>1.464062</td>\n",
       "      <td>1.835802</td>\n",
       "      <td>5.0</td>\n",
       "      <td>9.0</td>\n",
       "      <td>0.0</td>\n",
       "      <td>0.0</td>\n",
       "      <td>46</td>\n",
       "      <td>370</td>\n",
       "      <td>6.0</td>\n",
       "      <td>9.5</td>\n",
       "      <td>0.000389</td>\n",
       "      <td>5964.5</td>\n",
       "    </tr>\n",
       "    <tr>\n",
       "      <th>2</th>\n",
       "      <td>Week 4</td>\n",
       "      <td>1.829787</td>\n",
       "      <td>2.994521</td>\n",
       "      <td>1.356452</td>\n",
       "      <td>1.873755</td>\n",
       "      <td>5.0</td>\n",
       "      <td>9.0</td>\n",
       "      <td>0.0</td>\n",
       "      <td>0.0</td>\n",
       "      <td>47</td>\n",
       "      <td>365</td>\n",
       "      <td>6.0</td>\n",
       "      <td>9.5</td>\n",
       "      <td>0.000011</td>\n",
       "      <td>5357.0</td>\n",
       "    </tr>\n",
       "    <tr>\n",
       "      <th>3</th>\n",
       "      <td>Week 5</td>\n",
       "      <td>1.886364</td>\n",
       "      <td>3.107558</td>\n",
       "      <td>1.333223</td>\n",
       "      <td>1.889838</td>\n",
       "      <td>5.0</td>\n",
       "      <td>9.0</td>\n",
       "      <td>0.0</td>\n",
       "      <td>0.0</td>\n",
       "      <td>44</td>\n",
       "      <td>344</td>\n",
       "      <td>6.0</td>\n",
       "      <td>9.5</td>\n",
       "      <td>0.000016</td>\n",
       "      <td>4697.5</td>\n",
       "    </tr>\n",
       "    <tr>\n",
       "      <th>4</th>\n",
       "      <td>Week 6</td>\n",
       "      <td>2.104167</td>\n",
       "      <td>3.297143</td>\n",
       "      <td>1.402727</td>\n",
       "      <td>1.982081</td>\n",
       "      <td>5.0</td>\n",
       "      <td>9.0</td>\n",
       "      <td>0.0</td>\n",
       "      <td>0.0</td>\n",
       "      <td>48</td>\n",
       "      <td>350</td>\n",
       "      <td>6.0</td>\n",
       "      <td>9.5</td>\n",
       "      <td>0.000071</td>\n",
       "      <td>5603.5</td>\n",
       "    </tr>\n",
       "    <tr>\n",
       "      <th>5</th>\n",
       "      <td>Week 7</td>\n",
       "      <td>2.348837</td>\n",
       "      <td>3.898396</td>\n",
       "      <td>1.494175</td>\n",
       "      <td>2.637195</td>\n",
       "      <td>5.0</td>\n",
       "      <td>12.0</td>\n",
       "      <td>0.0</td>\n",
       "      <td>0.0</td>\n",
       "      <td>43</td>\n",
       "      <td>374</td>\n",
       "      <td>7.0</td>\n",
       "      <td>12.0</td>\n",
       "      <td>0.000215</td>\n",
       "      <td>5436.5</td>\n",
       "    </tr>\n",
       "    <tr>\n",
       "      <th>6</th>\n",
       "      <td>Week 8</td>\n",
       "      <td>2.057143</td>\n",
       "      <td>3.926686</td>\n",
       "      <td>1.370763</td>\n",
       "      <td>2.694857</td>\n",
       "      <td>5.0</td>\n",
       "      <td>12.0</td>\n",
       "      <td>0.0</td>\n",
       "      <td>0.0</td>\n",
       "      <td>35</td>\n",
       "      <td>341</td>\n",
       "      <td>6.0</td>\n",
       "      <td>12.0</td>\n",
       "      <td>0.000013</td>\n",
       "      <td>3414.0</td>\n",
       "    </tr>\n",
       "    <tr>\n",
       "      <th>7</th>\n",
       "      <td>Week 9</td>\n",
       "      <td>2.047619</td>\n",
       "      <td>3.919481</td>\n",
       "      <td>1.305754</td>\n",
       "      <td>2.720727</td>\n",
       "      <td>5.0</td>\n",
       "      <td>12.0</td>\n",
       "      <td>0.0</td>\n",
       "      <td>0.0</td>\n",
       "      <td>42</td>\n",
       "      <td>385</td>\n",
       "      <td>6.0</td>\n",
       "      <td>12.0</td>\n",
       "      <td>0.000004</td>\n",
       "      <td>4722.0</td>\n",
       "    </tr>\n",
       "  </tbody>\n",
       "</table>\n",
       "</div>"
      ],
      "text/plain": [
       "     Week  Transfer Mean  Native Mean  Transfer Std Dev  Native Std Dev  \\\n",
       "0  Week 2       1.862745     2.527933          1.385924        1.604633   \n",
       "1  Week 3       1.891304     2.840541          1.464062        1.835802   \n",
       "2  Week 4       1.829787     2.994521          1.356452        1.873755   \n",
       "3  Week 5       1.886364     3.107558          1.333223        1.889838   \n",
       "4  Week 6       2.104167     3.297143          1.402727        1.982081   \n",
       "5  Week 7       2.348837     3.898396          1.494175        2.637195   \n",
       "6  Week 8       2.057143     3.926686          1.370763        2.694857   \n",
       "7  Week 9       2.047619     3.919481          1.305754        2.720727   \n",
       "\n",
       "   Transfer Max  Native Max  Transfer Min  Native Min  Transfer Number  \\\n",
       "0           5.0         7.0           0.0         0.0               51   \n",
       "1           5.0         9.0           0.0         0.0               46   \n",
       "2           5.0         9.0           0.0         0.0               47   \n",
       "3           5.0         9.0           0.0         0.0               44   \n",
       "4           5.0         9.0           0.0         0.0               48   \n",
       "5           5.0        12.0           0.0         0.0               43   \n",
       "6           5.0        12.0           0.0         0.0               35   \n",
       "7           5.0        12.0           0.0         0.0               42   \n",
       "\n",
       "   Native Number  T Upper Limit  N Upper Limit  p-value (u-test)  \\\n",
       "0            358            6.0            8.5          0.003616   \n",
       "1            370            6.0            9.5          0.000389   \n",
       "2            365            6.0            9.5          0.000011   \n",
       "3            344            6.0            9.5          0.000016   \n",
       "4            350            6.0            9.5          0.000071   \n",
       "5            374            7.0           12.0          0.000215   \n",
       "6            341            6.0           12.0          0.000013   \n",
       "7            385            6.0           12.0          0.000004   \n",
       "\n",
       "   Test Statistic (u-test)  \n",
       "0                   7047.5  \n",
       "1                   5964.5  \n",
       "2                   5357.0  \n",
       "3                   4697.5  \n",
       "4                   5603.5  \n",
       "5                   5436.5  \n",
       "6                   3414.0  \n",
       "7                   4722.0  "
      ]
     },
     "metadata": {},
     "output_type": "display_data"
    },
    {
     "data": {
      "text/plain": [
       "'CS 1A:'"
      ]
     },
     "metadata": {},
     "output_type": "display_data"
    },
    {
     "data": {
      "text/html": [
       "<div>\n",
       "<style scoped>\n",
       "    .dataframe tbody tr th:only-of-type {\n",
       "        vertical-align: middle;\n",
       "    }\n",
       "\n",
       "    .dataframe tbody tr th {\n",
       "        vertical-align: top;\n",
       "    }\n",
       "\n",
       "    .dataframe thead th {\n",
       "        text-align: right;\n",
       "    }\n",
       "</style>\n",
       "<table border=\"1\" class=\"dataframe\">\n",
       "  <thead>\n",
       "    <tr style=\"text-align: right;\">\n",
       "      <th></th>\n",
       "      <th>Week</th>\n",
       "      <th>Transfer Mean</th>\n",
       "      <th>Native Mean</th>\n",
       "      <th>Transfer Std Dev</th>\n",
       "      <th>Native Std Dev</th>\n",
       "      <th>Transfer Max</th>\n",
       "      <th>Native Max</th>\n",
       "      <th>Transfer Min</th>\n",
       "      <th>Native Min</th>\n",
       "      <th>Transfer Number</th>\n",
       "      <th>Native Number</th>\n",
       "      <th>T Upper Limit</th>\n",
       "      <th>N Upper Limit</th>\n",
       "      <th>p-value (u-test)</th>\n",
       "      <th>Test Statistic (u-test)</th>\n",
       "    </tr>\n",
       "  </thead>\n",
       "  <tbody>\n",
       "    <tr>\n",
       "      <th>0</th>\n",
       "      <td>Week 2</td>\n",
       "      <td>1.718750</td>\n",
       "      <td>4.038194</td>\n",
       "      <td>1.419550</td>\n",
       "      <td>2.996269</td>\n",
       "      <td>5.0</td>\n",
       "      <td>12.0</td>\n",
       "      <td>0.0</td>\n",
       "      <td>0.0</td>\n",
       "      <td>32</td>\n",
       "      <td>288</td>\n",
       "      <td>6.000</td>\n",
       "      <td>12.000</td>\n",
       "      <td>1.863298e-06</td>\n",
       "      <td>2335.0</td>\n",
       "    </tr>\n",
       "    <tr>\n",
       "      <th>1</th>\n",
       "      <td>Week 3</td>\n",
       "      <td>2.000000</td>\n",
       "      <td>4.462633</td>\n",
       "      <td>1.460593</td>\n",
       "      <td>3.063528</td>\n",
       "      <td>5.0</td>\n",
       "      <td>13.0</td>\n",
       "      <td>0.0</td>\n",
       "      <td>0.0</td>\n",
       "      <td>31</td>\n",
       "      <td>281</td>\n",
       "      <td>6.000</td>\n",
       "      <td>14.500</td>\n",
       "      <td>2.232015e-06</td>\n",
       "      <td>2189.5</td>\n",
       "    </tr>\n",
       "    <tr>\n",
       "      <th>2</th>\n",
       "      <td>Week 4</td>\n",
       "      <td>2.000000</td>\n",
       "      <td>4.734483</td>\n",
       "      <td>1.388730</td>\n",
       "      <td>3.417113</td>\n",
       "      <td>5.0</td>\n",
       "      <td>15.0</td>\n",
       "      <td>0.0</td>\n",
       "      <td>0.0</td>\n",
       "      <td>29</td>\n",
       "      <td>290</td>\n",
       "      <td>6.000</td>\n",
       "      <td>17.000</td>\n",
       "      <td>1.782912e-06</td>\n",
       "      <td>2029.0</td>\n",
       "    </tr>\n",
       "    <tr>\n",
       "      <th>3</th>\n",
       "      <td>Week 5</td>\n",
       "      <td>2.120000</td>\n",
       "      <td>5.083624</td>\n",
       "      <td>1.536229</td>\n",
       "      <td>3.620065</td>\n",
       "      <td>5.0</td>\n",
       "      <td>16.0</td>\n",
       "      <td>0.0</td>\n",
       "      <td>0.0</td>\n",
       "      <td>25</td>\n",
       "      <td>287</td>\n",
       "      <td>6.000</td>\n",
       "      <td>16.125</td>\n",
       "      <td>3.167066e-06</td>\n",
       "      <td>1651.0</td>\n",
       "    </tr>\n",
       "    <tr>\n",
       "      <th>4</th>\n",
       "      <td>Week 6</td>\n",
       "      <td>2.291667</td>\n",
       "      <td>5.176678</td>\n",
       "      <td>1.517411</td>\n",
       "      <td>3.673350</td>\n",
       "      <td>5.0</td>\n",
       "      <td>15.0</td>\n",
       "      <td>0.0</td>\n",
       "      <td>0.0</td>\n",
       "      <td>24</td>\n",
       "      <td>283</td>\n",
       "      <td>7.875</td>\n",
       "      <td>16.750</td>\n",
       "      <td>1.020792e-05</td>\n",
       "      <td>1631.5</td>\n",
       "    </tr>\n",
       "    <tr>\n",
       "      <th>5</th>\n",
       "      <td>Week 7</td>\n",
       "      <td>2.172414</td>\n",
       "      <td>5.339161</td>\n",
       "      <td>1.582696</td>\n",
       "      <td>3.720074</td>\n",
       "      <td>6.0</td>\n",
       "      <td>17.0</td>\n",
       "      <td>0.0</td>\n",
       "      <td>0.0</td>\n",
       "      <td>29</td>\n",
       "      <td>286</td>\n",
       "      <td>6.000</td>\n",
       "      <td>18.000</td>\n",
       "      <td>1.565063e-07</td>\n",
       "      <td>1776.5</td>\n",
       "    </tr>\n",
       "    <tr>\n",
       "      <th>6</th>\n",
       "      <td>Week 8</td>\n",
       "      <td>2.387097</td>\n",
       "      <td>5.176080</td>\n",
       "      <td>1.686761</td>\n",
       "      <td>3.600772</td>\n",
       "      <td>7.0</td>\n",
       "      <td>17.0</td>\n",
       "      <td>0.0</td>\n",
       "      <td>0.0</td>\n",
       "      <td>31</td>\n",
       "      <td>301</td>\n",
       "      <td>8.500</td>\n",
       "      <td>18.000</td>\n",
       "      <td>1.737203e-06</td>\n",
       "      <td>2322.5</td>\n",
       "    </tr>\n",
       "    <tr>\n",
       "      <th>7</th>\n",
       "      <td>Week 9</td>\n",
       "      <td>2.440000</td>\n",
       "      <td>5.897059</td>\n",
       "      <td>1.583246</td>\n",
       "      <td>4.695573</td>\n",
       "      <td>5.0</td>\n",
       "      <td>20.0</td>\n",
       "      <td>0.0</td>\n",
       "      <td>0.0</td>\n",
       "      <td>25</td>\n",
       "      <td>272</td>\n",
       "      <td>8.500</td>\n",
       "      <td>20.500</td>\n",
       "      <td>9.193341e-06</td>\n",
       "      <td>1651.0</td>\n",
       "    </tr>\n",
       "  </tbody>\n",
       "</table>\n",
       "</div>"
      ],
      "text/plain": [
       "     Week  Transfer Mean  Native Mean  Transfer Std Dev  Native Std Dev  \\\n",
       "0  Week 2       1.718750     4.038194          1.419550        2.996269   \n",
       "1  Week 3       2.000000     4.462633          1.460593        3.063528   \n",
       "2  Week 4       2.000000     4.734483          1.388730        3.417113   \n",
       "3  Week 5       2.120000     5.083624          1.536229        3.620065   \n",
       "4  Week 6       2.291667     5.176678          1.517411        3.673350   \n",
       "5  Week 7       2.172414     5.339161          1.582696        3.720074   \n",
       "6  Week 8       2.387097     5.176080          1.686761        3.600772   \n",
       "7  Week 9       2.440000     5.897059          1.583246        4.695573   \n",
       "\n",
       "   Transfer Max  Native Max  Transfer Min  Native Min  Transfer Number  \\\n",
       "0           5.0        12.0           0.0         0.0               32   \n",
       "1           5.0        13.0           0.0         0.0               31   \n",
       "2           5.0        15.0           0.0         0.0               29   \n",
       "3           5.0        16.0           0.0         0.0               25   \n",
       "4           5.0        15.0           0.0         0.0               24   \n",
       "5           6.0        17.0           0.0         0.0               29   \n",
       "6           7.0        17.0           0.0         0.0               31   \n",
       "7           5.0        20.0           0.0         0.0               25   \n",
       "\n",
       "   Native Number  T Upper Limit  N Upper Limit  p-value (u-test)  \\\n",
       "0            288          6.000         12.000      1.863298e-06   \n",
       "1            281          6.000         14.500      2.232015e-06   \n",
       "2            290          6.000         17.000      1.782912e-06   \n",
       "3            287          6.000         16.125      3.167066e-06   \n",
       "4            283          7.875         16.750      1.020792e-05   \n",
       "5            286          6.000         18.000      1.565063e-07   \n",
       "6            301          8.500         18.000      1.737203e-06   \n",
       "7            272          8.500         20.500      9.193341e-06   \n",
       "\n",
       "   Test Statistic (u-test)  \n",
       "0                   2335.0  \n",
       "1                   2189.5  \n",
       "2                   2029.0  \n",
       "3                   1651.0  \n",
       "4                   1631.5  \n",
       "5                   1776.5  \n",
       "6                   2322.5  \n",
       "7                   1651.0  "
      ]
     },
     "metadata": {},
     "output_type": "display_data"
    },
    {
     "data": {
      "text/plain": [
       "'CS 2:'"
      ]
     },
     "metadata": {},
     "output_type": "display_data"
    },
    {
     "data": {
      "text/html": [
       "<div>\n",
       "<style scoped>\n",
       "    .dataframe tbody tr th:only-of-type {\n",
       "        vertical-align: middle;\n",
       "    }\n",
       "\n",
       "    .dataframe tbody tr th {\n",
       "        vertical-align: top;\n",
       "    }\n",
       "\n",
       "    .dataframe thead th {\n",
       "        text-align: right;\n",
       "    }\n",
       "</style>\n",
       "<table border=\"1\" class=\"dataframe\">\n",
       "  <thead>\n",
       "    <tr style=\"text-align: right;\">\n",
       "      <th></th>\n",
       "      <th>Week</th>\n",
       "      <th>Transfer Mean</th>\n",
       "      <th>Native Mean</th>\n",
       "      <th>Transfer Std Dev</th>\n",
       "      <th>Native Std Dev</th>\n",
       "      <th>Transfer Max</th>\n",
       "      <th>Native Max</th>\n",
       "      <th>Transfer Min</th>\n",
       "      <th>Native Min</th>\n",
       "      <th>Transfer Number</th>\n",
       "      <th>Native Number</th>\n",
       "      <th>T Upper Limit</th>\n",
       "      <th>N Upper Limit</th>\n",
       "      <th>p-value (u-test)</th>\n",
       "      <th>Test Statistic (u-test)</th>\n",
       "    </tr>\n",
       "  </thead>\n",
       "  <tbody>\n",
       "    <tr>\n",
       "      <th>0</th>\n",
       "      <td>Week 1</td>\n",
       "      <td>2.244898</td>\n",
       "      <td>2.400000</td>\n",
       "      <td>1.639749</td>\n",
       "      <td>1.741338</td>\n",
       "      <td>5.0</td>\n",
       "      <td>8.0</td>\n",
       "      <td>0.0</td>\n",
       "      <td>0.0</td>\n",
       "      <td>49</td>\n",
       "      <td>125</td>\n",
       "      <td>8.500</td>\n",
       "      <td>8.500</td>\n",
       "      <td>0.336206</td>\n",
       "      <td>2938.0</td>\n",
       "    </tr>\n",
       "    <tr>\n",
       "      <th>1</th>\n",
       "      <td>Week 2</td>\n",
       "      <td>2.188679</td>\n",
       "      <td>2.347826</td>\n",
       "      <td>1.455184</td>\n",
       "      <td>1.632928</td>\n",
       "      <td>5.0</td>\n",
       "      <td>6.0</td>\n",
       "      <td>0.0</td>\n",
       "      <td>0.0</td>\n",
       "      <td>53</td>\n",
       "      <td>138</td>\n",
       "      <td>8.500</td>\n",
       "      <td>8.500</td>\n",
       "      <td>0.268229</td>\n",
       "      <td>3449.0</td>\n",
       "    </tr>\n",
       "    <tr>\n",
       "      <th>2</th>\n",
       "      <td>Week 3</td>\n",
       "      <td>2.377358</td>\n",
       "      <td>2.500000</td>\n",
       "      <td>1.571702</td>\n",
       "      <td>1.816981</td>\n",
       "      <td>6.0</td>\n",
       "      <td>8.0</td>\n",
       "      <td>0.0</td>\n",
       "      <td>0.0</td>\n",
       "      <td>53</td>\n",
       "      <td>142</td>\n",
       "      <td>7.000</td>\n",
       "      <td>8.500</td>\n",
       "      <td>0.471669</td>\n",
       "      <td>3738.5</td>\n",
       "    </tr>\n",
       "    <tr>\n",
       "      <th>3</th>\n",
       "      <td>Week 4</td>\n",
       "      <td>2.510638</td>\n",
       "      <td>3.080882</td>\n",
       "      <td>1.816259</td>\n",
       "      <td>2.666820</td>\n",
       "      <td>8.0</td>\n",
       "      <td>10.0</td>\n",
       "      <td>0.0</td>\n",
       "      <td>0.0</td>\n",
       "      <td>47</td>\n",
       "      <td>136</td>\n",
       "      <td>8.500</td>\n",
       "      <td>10.375</td>\n",
       "      <td>0.208387</td>\n",
       "      <td>2945.0</td>\n",
       "    </tr>\n",
       "    <tr>\n",
       "      <th>4</th>\n",
       "      <td>Week 5</td>\n",
       "      <td>2.465116</td>\n",
       "      <td>2.490909</td>\n",
       "      <td>1.943841</td>\n",
       "      <td>1.795741</td>\n",
       "      <td>8.0</td>\n",
       "      <td>8.0</td>\n",
       "      <td>0.0</td>\n",
       "      <td>0.0</td>\n",
       "      <td>43</td>\n",
       "      <td>110</td>\n",
       "      <td>8.500</td>\n",
       "      <td>8.500</td>\n",
       "      <td>0.426371</td>\n",
       "      <td>2320.0</td>\n",
       "    </tr>\n",
       "    <tr>\n",
       "      <th>5</th>\n",
       "      <td>Week 6</td>\n",
       "      <td>2.390244</td>\n",
       "      <td>2.800000</td>\n",
       "      <td>1.282148</td>\n",
       "      <td>1.969950</td>\n",
       "      <td>5.0</td>\n",
       "      <td>8.0</td>\n",
       "      <td>0.0</td>\n",
       "      <td>0.0</td>\n",
       "      <td>41</td>\n",
       "      <td>115</td>\n",
       "      <td>7.000</td>\n",
       "      <td>9.500</td>\n",
       "      <td>0.204817</td>\n",
       "      <td>2156.0</td>\n",
       "    </tr>\n",
       "    <tr>\n",
       "      <th>6</th>\n",
       "      <td>Week 7</td>\n",
       "      <td>2.512195</td>\n",
       "      <td>2.704000</td>\n",
       "      <td>1.645022</td>\n",
       "      <td>1.938673</td>\n",
       "      <td>7.0</td>\n",
       "      <td>8.0</td>\n",
       "      <td>0.0</td>\n",
       "      <td>0.0</td>\n",
       "      <td>41</td>\n",
       "      <td>125</td>\n",
       "      <td>7.000</td>\n",
       "      <td>9.500</td>\n",
       "      <td>0.334285</td>\n",
       "      <td>2450.0</td>\n",
       "    </tr>\n",
       "    <tr>\n",
       "      <th>7</th>\n",
       "      <td>Week 8</td>\n",
       "      <td>3.041667</td>\n",
       "      <td>2.904762</td>\n",
       "      <td>2.510485</td>\n",
       "      <td>2.581767</td>\n",
       "      <td>10.0</td>\n",
       "      <td>10.0</td>\n",
       "      <td>0.0</td>\n",
       "      <td>0.0</td>\n",
       "      <td>24</td>\n",
       "      <td>84</td>\n",
       "      <td>10.125</td>\n",
       "      <td>11.000</td>\n",
       "      <td>0.353943</td>\n",
       "      <td>958.0</td>\n",
       "    </tr>\n",
       "    <tr>\n",
       "      <th>8</th>\n",
       "      <td>Week 9</td>\n",
       "      <td>2.583333</td>\n",
       "      <td>2.869565</td>\n",
       "      <td>1.665942</td>\n",
       "      <td>2.644577</td>\n",
       "      <td>7.0</td>\n",
       "      <td>10.0</td>\n",
       "      <td>0.0</td>\n",
       "      <td>0.0</td>\n",
       "      <td>24</td>\n",
       "      <td>92</td>\n",
       "      <td>7.000</td>\n",
       "      <td>11.000</td>\n",
       "      <td>0.409801</td>\n",
       "      <td>1071.0</td>\n",
       "    </tr>\n",
       "    <tr>\n",
       "      <th>9</th>\n",
       "      <td>Week 10</td>\n",
       "      <td>2.812500</td>\n",
       "      <td>3.235294</td>\n",
       "      <td>1.635050</td>\n",
       "      <td>2.610627</td>\n",
       "      <td>8.0</td>\n",
       "      <td>10.0</td>\n",
       "      <td>0.0</td>\n",
       "      <td>0.0</td>\n",
       "      <td>32</td>\n",
       "      <td>102</td>\n",
       "      <td>9.500</td>\n",
       "      <td>11.000</td>\n",
       "      <td>0.337434</td>\n",
       "      <td>1552.5</td>\n",
       "    </tr>\n",
       "  </tbody>\n",
       "</table>\n",
       "</div>"
      ],
      "text/plain": [
       "      Week  Transfer Mean  Native Mean  Transfer Std Dev  Native Std Dev  \\\n",
       "0   Week 1       2.244898     2.400000          1.639749        1.741338   \n",
       "1   Week 2       2.188679     2.347826          1.455184        1.632928   \n",
       "2   Week 3       2.377358     2.500000          1.571702        1.816981   \n",
       "3   Week 4       2.510638     3.080882          1.816259        2.666820   \n",
       "4   Week 5       2.465116     2.490909          1.943841        1.795741   \n",
       "5   Week 6       2.390244     2.800000          1.282148        1.969950   \n",
       "6   Week 7       2.512195     2.704000          1.645022        1.938673   \n",
       "7   Week 8       3.041667     2.904762          2.510485        2.581767   \n",
       "8   Week 9       2.583333     2.869565          1.665942        2.644577   \n",
       "9  Week 10       2.812500     3.235294          1.635050        2.610627   \n",
       "\n",
       "   Transfer Max  Native Max  Transfer Min  Native Min  Transfer Number  \\\n",
       "0           5.0         8.0           0.0         0.0               49   \n",
       "1           5.0         6.0           0.0         0.0               53   \n",
       "2           6.0         8.0           0.0         0.0               53   \n",
       "3           8.0        10.0           0.0         0.0               47   \n",
       "4           8.0         8.0           0.0         0.0               43   \n",
       "5           5.0         8.0           0.0         0.0               41   \n",
       "6           7.0         8.0           0.0         0.0               41   \n",
       "7          10.0        10.0           0.0         0.0               24   \n",
       "8           7.0        10.0           0.0         0.0               24   \n",
       "9           8.0        10.0           0.0         0.0               32   \n",
       "\n",
       "   Native Number  T Upper Limit  N Upper Limit  p-value (u-test)  \\\n",
       "0            125          8.500          8.500          0.336206   \n",
       "1            138          8.500          8.500          0.268229   \n",
       "2            142          7.000          8.500          0.471669   \n",
       "3            136          8.500         10.375          0.208387   \n",
       "4            110          8.500          8.500          0.426371   \n",
       "5            115          7.000          9.500          0.204817   \n",
       "6            125          7.000          9.500          0.334285   \n",
       "7             84         10.125         11.000          0.353943   \n",
       "8             92          7.000         11.000          0.409801   \n",
       "9            102          9.500         11.000          0.337434   \n",
       "\n",
       "   Test Statistic (u-test)  \n",
       "0                   2938.0  \n",
       "1                   3449.0  \n",
       "2                   3738.5  \n",
       "3                   2945.0  \n",
       "4                   2320.0  \n",
       "5                   2156.0  \n",
       "6                   2450.0  \n",
       "7                    958.0  \n",
       "8                   1071.0  \n",
       "9                   1552.5  "
      ]
     },
     "metadata": {},
     "output_type": "display_data"
    }
   ],
   "source": [
    "display(\"CS 1:\")\n",
    "display(df1)\n",
    "display(\"CS 1A:\")\n",
    "display(df2)\n",
    "display(\"CS 2:\")\n",
    "display(df3)"
   ]
  },
  {
   "cell_type": "code",
   "execution_count": 10,
   "metadata": {},
   "outputs": [
    {
     "data": {
      "text/plain": [
       "Text(0, 0.5, 'Number of Students')"
      ]
     },
     "execution_count": 10,
     "metadata": {},
     "output_type": "execute_result"
    },
    {
     "data": {
      "image/png": "[encoded data removed]",
      "text/plain": [
       "<Figure size 864x576 with 1 Axes>"
      ]
     },
     "metadata": {
      "needs_background": "light"
     },
     "output_type": "display_data"
    }
   ],
   "source": [
    "X_label = \"\"\n",
    "Y_label = \"# of Students\"\n",
    "graphTitle = \"Number of Other Students in the Class \\nTransfers and Native Students Feel Comfortable Reaching Out to Study With\"\n",
    "\n",
    "plt.figure(figsize=(12,8))\n",
    "plt.plot(x_label2, df3[\"Transfer Mean\"], \"-p\", color='blue' , linewidth=0.5, markersize=8)\n",
    "plt.plot(x_label2, df3[\"Native Mean\"], \"-p\", color='green', linewidth=0.5, markersize=8)\n",
    "plt.plot(x_label1, df2[\"Transfer Mean\"], \"-*\", color='blue', linewidth=0.5, markersize=8)\n",
    "plt.plot(x_label1, df2[\"Native Mean\"], \"-*\", color='green', linewidth=0.5, markersize=8)\n",
    "plt.plot(x_label1, df1[\"Transfer Mean\"], \"-X\", color='blue', linewidth=0.5, markersize=8)\n",
    "plt.plot(x_label1, df1[\"Native Mean\"], \"-X\", color='green', linewidth=0.5, markersize=8)\n",
    "plt.legend(['Tansfer CS 2', 'Native CS 2', 'Transfer CS 1A','Native CS 1A', 'Tansfer CS 1', 'Native CS 1'])\n",
    "plt.ylim(0, 10)\n",
    "plt.suptitle(graphTitle, fontsize=14)\n",
    "plt.xlabel(X_title, fontsize=10)\n",
    "plt.ylabel(Y_title, fontsize=10)"
   ]
  },
  {
   "cell_type": "code",
   "execution_count": 14,
   "metadata": {},
   "outputs": [
    {
     "data": {
      "application/vnd.plotly.v1+json": {
       "config": {
        "plotlyServerURL": "https://plot.ly"
       },
       "data": [
        {
         "marker": {
          "color": "#69c6af",
          "line": {
           "color": "#52bca3",
           "width": 5
          },
          "size": 5,
          "symbol": "square"
         },
         "mode": "lines+markers",
         "name": "Transfer CS 2",
         "type": "scatter",
         "x": [
          "Week 1",
          "Week 2",
          "Week 3",
          "Week 4",
          "Week 5",
          "Week 6",
          "Week 7",
          "Week 8",
          "Week 9",
          "Week 10"
         ],
         "y": [
          2.2448979591836733,
          2.188679245283019,
          2.3773584905660377,
          2.5106382978723403,
          2.4651162790697674,
          2.3902439024390243,
          2.5121951219512195,
          3.0416666666666665,
          2.5833333333333335,
          2.8125
         ]
        },
        {
         "marker": {
          "color": "#69c6af",
          "line": {
           "color": "#52bca3",
           "width": 5
          },
          "size": 5,
          "symbol": "circle-dot"
         },
         "mode": "lines+markers",
         "name": "Native CS 2",
         "type": "scatter",
         "x": [
          "Week 1",
          "Week 2",
          "Week 3",
          "Week 4",
          "Week 5",
          "Week 6",
          "Week 7",
          "Week 8",
          "Week 9",
          "Week 10"
         ],
         "y": [
          2.4,
          2.347826086956522,
          2.5,
          3.0808823529411766,
          2.4909090909090907,
          2.8,
          2.704,
          2.9047619047619047,
          2.869565217391304,
          3.235294117647059
         ]
        },
        {
         "marker": {
          "color": "#9a61b0",
          "line": {
           "color": "#5d69b1",
           "width": 5
          },
          "size": 5,
          "symbol": "square"
         },
         "mode": "lines+markers",
         "name": "Transfer CS 1A",
         "type": "scatter",
         "x": [
          "Week 2",
          "Week 3",
          "Week 4",
          "Week 5",
          "Week 6",
          "Week 7",
          "Week 8",
          "Week 9"
         ],
         "y": [
          1.71875,
          2,
          2,
          2.12,
          2.2916666666666665,
          2.1724137931034484,
          2.3870967741935485,
          2.44
         ]
        },
        {
         "marker": {
          "color": "#9a61b0",
          "line": {
           "color": "#5d69b1",
           "width": 5
          },
          "size": 5,
          "symbol": "circle-dot"
         },
         "mode": "lines+markers",
         "name": "Native CS 1A",
         "type": "scatter",
         "x": [
          "Week 2",
          "Week 3",
          "Week 4",
          "Week 5",
          "Week 6",
          "Week 7",
          "Week 8",
          "Week 9"
         ],
         "y": [
          4.038194444444445,
          4.462633451957295,
          4.73448275862069,
          5.083623693379791,
          5.176678445229682,
          5.339160839160839,
          5.176079734219269,
          5.897058823529412
         ]
        },
        {
         "marker": {
          "color": "#c7a302",
          "line": {
           "color": "#e58606",
           "width": 5
          },
          "size": 5,
          "symbol": "square"
         },
         "mode": "lines+markers",
         "name": "Transfer CS 1",
         "type": "scatter",
         "x": [
          "Week 2",
          "Week 3",
          "Week 4",
          "Week 5",
          "Week 6",
          "Week 7",
          "Week 8",
          "Week 9"
         ],
         "y": [
          1.8627450980392157,
          1.891304347826087,
          1.8297872340425532,
          1.8863636363636365,
          2.1041666666666665,
          2.3488372093023258,
          2.057142857142857,
          2.0476190476190474
         ]
        },
        {
         "marker": {
          "color": "#c7a302",
          "line": {
           "color": "#e58606",
           "width": 5
          },
          "size": 5,
          "symbol": "circle-dot"
         },
         "mode": "lines+markers",
         "name": "Native CS 1",
         "type": "scatter",
         "x": [
          "Week 2",
          "Week 3",
          "Week 4",
          "Week 5",
          "Week 6",
          "Week 7",
          "Week 8",
          "Week 9"
         ],
         "y": [
          2.5279329608938546,
          2.8405405405405406,
          2.9945205479452053,
          3.1075581395348837,
          3.297142857142857,
          3.8983957219251337,
          3.9266862170087977,
          3.9194805194805196
         ]
        }
       ],
       "layout": {
        "height": 525,
        "legend": {
         "title": {
          "text": "<b>Legend</b>"
         }
        },
        "template": {
         "data": {
          "bar": [
           {
            "error_x": {
             "color": "#2a3f5f"
            },
            "error_y": {
             "color": "#2a3f5f"
            },
            "marker": {
             "line": {
              "color": "#E5ECF6",
              "width": 0.5
             }
            },
            "type": "bar"
           }
          ],
          "barpolar": [
           {
            "marker": {
             "line": {
              "color": "#E5ECF6",
              "width": 0.5
             }
            },
            "type": "barpolar"
           }
          ],
          "carpet": [
           {
            "aaxis": {
             "endlinecolor": "#2a3f5f",
             "gridcolor": "white",
             "linecolor": "white",
             "minorgridcolor": "white",
             "startlinecolor": "#2a3f5f"
            },
            "baxis": {
             "endlinecolor": "#2a3f5f",
             "gridcolor": "white",
             "linecolor": "white",
             "minorgridcolor": "white",
             "startlinecolor": "#2a3f5f"
            },
            "type": "carpet"
           }
          ],
          "choropleth": [
           {
            "colorbar": {
             "outlinewidth": 0,
             "ticks": ""
            },
            "type": "choropleth"
           }
          ],
          "contour": [
           {
            "colorbar": {
             "outlinewidth": 0,
             "ticks": ""
            },
            "colorscale": [
             [
              0,
              "#0d0887"
             ],
             [
              0.1111111111111111,
              "#46039f"
             ],
             [
              0.2222222222222222,
              "#7201a8"
             ],
             [
              0.3333333333333333,
              "#9c179e"
             ],
             [
              0.4444444444444444,
              "#bd3786"
             ],
             [
              0.5555555555555556,
              "#d8576b"
             ],
             [
              0.6666666666666666,
              "#ed7953"
             ],
             [
              0.7777777777777778,
              "#fb9f3a"
             ],
             [
              0.8888888888888888,
              "#fdca26"
             ],
             [
              1,
              "#f0f921"
             ]
            ],
            "type": "contour"
           }
          ],
          "contourcarpet": [
           {
            "colorbar": {
             "outlinewidth": 0,
             "ticks": ""
            },
            "type": "contourcarpet"
           }
          ],
          "heatmap": [
           {
            "colorbar": {
             "outlinewidth": 0,
             "ticks": ""
            },
            "colorscale": [
             [
              0,
              "#0d0887"
             ],
             [
              0.1111111111111111,
              "#46039f"
             ],
             [
              0.2222222222222222,
              "#7201a8"
             ],
             [
              0.3333333333333333,
              "#9c179e"
             ],
             [
              0.4444444444444444,
              "#bd3786"
             ],
             [
              0.5555555555555556,
              "#d8576b"
             ],
             [
              0.6666666666666666,
              "#ed7953"
             ],
             [
              0.7777777777777778,
              "#fb9f3a"
             ],
             [
              0.8888888888888888,
              "#fdca26"
             ],
             [
              1,
              "#f0f921"
             ]
            ],
            "type": "heatmap"
           }
          ],
          "heatmapgl": [
           {
            "colorbar": {
             "outlinewidth": 0,
             "ticks": ""
            },
            "colorscale": [
             [
              0,
              "#0d0887"
             ],
             [
              0.1111111111111111,
              "#46039f"
             ],
             [
              0.2222222222222222,
              "#7201a8"
             ],
             [
              0.3333333333333333,
              "#9c179e"
             ],
             [
              0.4444444444444444,
              "#bd3786"
             ],
             [
              0.5555555555555556,
              "#d8576b"
             ],
             [
              0.6666666666666666,
              "#ed7953"
             ],
             [
              0.7777777777777778,
              "#fb9f3a"
             ],
             [
              0.8888888888888888,
              "#fdca26"
             ],
             [
              1,
              "#f0f921"
             ]
            ],
            "type": "heatmapgl"
           }
          ],
          "histogram": [
           {
            "marker": {
             "colorbar": {
              "outlinewidth": 0,
              "ticks": ""
             }
            },
            "type": "histogram"
           }
          ],
          "histogram2d": [
           {
            "colorbar": {
             "outlinewidth": 0,
             "ticks": ""
            },
            "colorscale": [
             [
              0,
              "#0d0887"
             ],
             [
              0.1111111111111111,
              "#46039f"
             ],
             [
              0.2222222222222222,
              "#7201a8"
             ],
             [
              0.3333333333333333,
              "#9c179e"
             ],
             [
              0.4444444444444444,
              "#bd3786"
             ],
             [
              0.5555555555555556,
              "#d8576b"
             ],
             [
              0.6666666666666666,
              "#ed7953"
             ],
             [
              0.7777777777777778,
              "#fb9f3a"
             ],
             [
              0.8888888888888888,
              "#fdca26"
             ],
             [
              1,
              "#f0f921"
             ]
            ],
            "type": "histogram2d"
           }
          ],
          "histogram2dcontour": [
           {
            "colorbar": {
             "outlinewidth": 0,
             "ticks": ""
            },
            "colorscale": [
             [
              0,
              "#0d0887"
             ],
             [
              0.1111111111111111,
              "#46039f"
             ],
             [
              0.2222222222222222,
              "#7201a8"
             ],
             [
              0.3333333333333333,
              "#9c179e"
             ],
             [
              0.4444444444444444,
              "#bd3786"
             ],
             [
              0.5555555555555556,
              "#d8576b"
             ],
             [
              0.6666666666666666,
              "#ed7953"
             ],
             [
              0.7777777777777778,
              "#fb9f3a"
             ],
             [
              0.8888888888888888,
              "#fdca26"
             ],
             [
              1,
              "#f0f921"
             ]
            ],
            "type": "histogram2dcontour"
           }
          ],
          "mesh3d": [
           {
            "colorbar": {
             "outlinewidth": 0,
             "ticks": ""
            },
            "type": "mesh3d"
           }
          ],
          "parcoords": [
           {
            "line": {
             "colorbar": {
              "outlinewidth": 0,
              "ticks": ""
             }
            },
            "type": "parcoords"
           }
          ],
          "pie": [
           {
            "automargin": true,
            "type": "pie"
           }
          ],
          "scatter": [
           {
            "marker": {
             "colorbar": {
              "outlinewidth": 0,
              "ticks": ""
             }
            },
            "type": "scatter"
           }
          ],
          "scatter3d": [
           {
            "line": {
             "colorbar": {
              "outlinewidth": 0,
              "ticks": ""
             }
            },
            "marker": {
             "colorbar": {
              "outlinewidth": 0,
              "ticks": ""
             }
            },
            "type": "scatter3d"
           }
          ],
          "scattercarpet": [
           {
            "marker": {
             "colorbar": {
              "outlinewidth": 0,
              "ticks": ""
             }
            },
            "type": "scattercarpet"
           }
          ],
          "scattergeo": [
           {
            "marker": {
             "colorbar": {
              "outlinewidth": 0,
              "ticks": ""
             }
            },
            "type": "scattergeo"
           }
          ],
          "scattergl": [
           {
            "marker": {
             "colorbar": {
              "outlinewidth": 0,
              "ticks": ""
             }
            },
            "type": "scattergl"
           }
          ],
          "scattermapbox": [
           {
            "marker": {
             "colorbar": {
              "outlinewidth": 0,
              "ticks": ""
             }
            },
            "type": "scattermapbox"
           }
          ],
          "scatterpolar": [
           {
            "marker": {
             "colorbar": {
              "outlinewidth": 0,
              "ticks": ""
             }
            },
            "type": "scatterpolar"
           }
          ],
          "scatterpolargl": [
           {
            "marker": {
             "colorbar": {
              "outlinewidth": 0,
              "ticks": ""
             }
            },
            "type": "scatterpolargl"
           }
          ],
          "scatterternary": [
           {
            "marker": {
             "colorbar": {
              "outlinewidth": 0,
              "ticks": ""
             }
            },
            "type": "scatterternary"
           }
          ],
          "surface": [
           {
            "colorbar": {
             "outlinewidth": 0,
             "ticks": ""
            },
            "colorscale": [
             [
              0,
              "#0d0887"
             ],
             [
              0.1111111111111111,
              "#46039f"
             ],
             [
              0.2222222222222222,
              "#7201a8"
             ],
             [
              0.3333333333333333,
              "#9c179e"
             ],
             [
              0.4444444444444444,
              "#bd3786"
             ],
             [
              0.5555555555555556,
              "#d8576b"
             ],
             [
              0.6666666666666666,
              "#ed7953"
             ],
             [
              0.7777777777777778,
              "#fb9f3a"
             ],
             [
              0.8888888888888888,
              "#fdca26"
             ],
             [
              1,
              "#f0f921"
             ]
            ],
            "type": "surface"
           }
          ],
          "table": [
           {
            "cells": {
             "fill": {
              "color": "#EBF0F8"
             },
             "line": {
              "color": "white"
             }
            },
            "header": {
             "fill": {
              "color": "#C8D4E3"
             },
             "line": {
              "color": "white"
             }
            },
            "type": "table"
           }
          ]
         },
         "layout": {
          "annotationdefaults": {
           "arrowcolor": "#2a3f5f",
           "arrowhead": 0,
           "arrowwidth": 1
          },
          "coloraxis": {
           "colorbar": {
            "outlinewidth": 0,
            "ticks": ""
           }
          },
          "colorscale": {
           "diverging": [
            [
             0,
             "#8e0152"
            ],
            [
             0.1,
             "#c51b7d"
            ],
            [
             0.2,
             "#de77ae"
            ],
            [
             0.3,
             "#f1b6da"
            ],
            [
             0.4,
             "#fde0ef"
            ],
            [
             0.5,
             "#f7f7f7"
            ],
            [
             0.6,
             "#e6f5d0"
            ],
            [
             0.7,
             "#b8e186"
            ],
            [
             0.8,
             "#7fbc41"
            ],
            [
             0.9,
             "#4d9221"
            ],
            [
             1,
             "#276419"
            ]
           ],
           "sequential": [
            [
             0,
             "#0d0887"
            ],
            [
             0.1111111111111111,
             "#46039f"
            ],
            [
             0.2222222222222222,
             "#7201a8"
            ],
            [
             0.3333333333333333,
             "#9c179e"
            ],
            [
             0.4444444444444444,
             "#bd3786"
            ],
            [
             0.5555555555555556,
             "#d8576b"
            ],
            [
             0.6666666666666666,
             "#ed7953"
            ],
            [
             0.7777777777777778,
             "#fb9f3a"
            ],
            [
             0.8888888888888888,
             "#fdca26"
            ],
            [
             1,
             "#f0f921"
            ]
           ],
           "sequentialminus": [
            [
             0,
             "#0d0887"
            ],
            [
             0.1111111111111111,
             "#46039f"
            ],
            [
             0.2222222222222222,
             "#7201a8"
            ],
            [
             0.3333333333333333,
             "#9c179e"
            ],
            [
             0.4444444444444444,
             "#bd3786"
            ],
            [
             0.5555555555555556,
             "#d8576b"
            ],
            [
             0.6666666666666666,
             "#ed7953"
            ],
            [
             0.7777777777777778,
             "#fb9f3a"
            ],
            [
             0.8888888888888888,
             "#fdca26"
            ],
            [
             1,
             "#f0f921"
            ]
           ]
          },
          "colorway": [
           "#636efa",
           "#EF553B",
           "#00cc96",
           "#ab63fa",
           "#FFA15A",
           "#19d3f3",
           "#FF6692",
           "#B6E880",
           "#FF97FF",
           "#FECB52"
          ],
          "font": {
           "color": "#2a3f5f"
          },
          "geo": {
           "bgcolor": "white",
           "lakecolor": "white",
           "landcolor": "#E5ECF6",
           "showlakes": true,
           "showland": true,
           "subunitcolor": "white"
          },
          "hoverlabel": {
           "align": "left"
          },
          "hovermode": "closest",
          "mapbox": {
           "style": "light"
          },
          "paper_bgcolor": "white",
          "plot_bgcolor": "#E5ECF6",
          "polar": {
           "angularaxis": {
            "gridcolor": "white",
            "linecolor": "white",
            "ticks": ""
           },
           "bgcolor": "#E5ECF6",
           "radialaxis": {
            "gridcolor": "white",
            "linecolor": "white",
            "ticks": ""
           }
          },
          "scene": {
           "xaxis": {
            "backgroundcolor": "#E5ECF6",
            "gridcolor": "white",
            "gridwidth": 2,
            "linecolor": "white",
            "showbackground": true,
            "ticks": "",
            "zerolinecolor": "white"
           },
           "yaxis": {
            "backgroundcolor": "#E5ECF6",
            "gridcolor": "white",
            "gridwidth": 2,
            "linecolor": "white",
            "showbackground": true,
            "ticks": "",
            "zerolinecolor": "white"
           },
           "zaxis": {
            "backgroundcolor": "#E5ECF6",
            "gridcolor": "white",
            "gridwidth": 2,
            "linecolor": "white",
            "showbackground": true,
            "ticks": "",
            "zerolinecolor": "white"
           }
          },
          "shapedefaults": {
           "line": {
            "color": "#2a3f5f"
           }
          },
          "ternary": {
           "aaxis": {
            "gridcolor": "white",
            "linecolor": "white",
            "ticks": ""
           },
           "baxis": {
            "gridcolor": "white",
            "linecolor": "white",
            "ticks": ""
           },
           "bgcolor": "#E5ECF6",
           "caxis": {
            "gridcolor": "white",
            "linecolor": "white",
            "ticks": ""
           }
          },
          "title": {
           "x": 0.05
          },
          "xaxis": {
           "automargin": true,
           "gridcolor": "white",
           "linecolor": "white",
           "ticks": "",
           "title": {
            "standoff": 15
           },
           "zerolinecolor": "white",
           "zerolinewidth": 2
          },
          "yaxis": {
           "automargin": true,
           "gridcolor": "white",
           "linecolor": "white",
           "ticks": "",
           "title": {
            "standoff": 15
           },
           "zerolinecolor": "white",
           "zerolinewidth": 2
          }
         }
        },
        "width": 950,
        "xaxis": {
         "title": {
          "text": "<b>Week</b>"
         }
        },
        "yaxis": {
         "range": [
          0,
          6.25
         ],
         "title": {
          "text": "<b>Number of Students</b>"
         }
        }
       }
      },
      "text/html": [
       "<div>\n",
       "        \n",
       "        \n",
       "            <div id=\"6b622fd8-2a83-4304-8984-d3248dc418b9\" class=\"plotly-graph-div\" style=\"height:525px; width:950px;\"></div>\n",
       "            <script type=\"text/javascript\">\n",
       "                require([\"plotly\"], function(Plotly) {\n",
       "                    window.PLOTLYENV=window.PLOTLYENV || {};\n",
       "                    \n",
       "                if (document.getElementById(\"6b622fd8-2a83-4304-8984-d3248dc418b9\")) {\n",
       "                    Plotly.newPlot(\n",
       "                        '6b622fd8-2a83-4304-8984-d3248dc418b9',\n",
       "                        [{\"marker\": {\"color\": \"#69c6af\", \"line\": {\"color\": \"#52bca3\", \"width\": 5}, \"size\": 5, \"symbol\": \"square\"}, \"mode\": \"lines+markers\", \"name\": \"Transfer CS 2\", \"type\": \"scatter\", \"x\": [\"Week 1\", \"Week 2\", \"Week 3\", \"Week 4\", \"Week 5\", \"Week 6\", \"Week 7\", \"Week 8\", \"Week 9\", \"Week 10\"], \"y\": [2.2448979591836733, 2.188679245283019, 2.3773584905660377, 2.5106382978723403, 2.4651162790697674, 2.3902439024390243, 2.5121951219512195, 3.0416666666666665, 2.5833333333333335, 2.8125]}, {\"marker\": {\"color\": \"#69c6af\", \"line\": {\"color\": \"#52bca3\", \"width\": 5}, \"size\": 5, \"symbol\": \"circle-dot\"}, \"mode\": \"lines+markers\", \"name\": \"Native CS 2\", \"type\": \"scatter\", \"x\": [\"Week 1\", \"Week 2\", \"Week 3\", \"Week 4\", \"Week 5\", \"Week 6\", \"Week 7\", \"Week 8\", \"Week 9\", \"Week 10\"], \"y\": [2.4, 2.347826086956522, 2.5, 3.0808823529411766, 2.4909090909090907, 2.8, 2.704, 2.9047619047619047, 2.869565217391304, 3.235294117647059]}, {\"marker\": {\"color\": \"#9a61b0\", \"line\": {\"color\": \"#5d69b1\", \"width\": 5}, \"size\": 5, \"symbol\": \"square\"}, \"mode\": \"lines+markers\", \"name\": \"Transfer CS 1A\", \"type\": \"scatter\", \"x\": [\"Week 2\", \"Week 3\", \"Week 4\", \"Week 5\", \"Week 6\", \"Week 7\", \"Week 8\", \"Week 9\"], \"y\": [1.71875, 2.0, 2.0, 2.12, 2.2916666666666665, 2.1724137931034484, 2.3870967741935485, 2.44]}, {\"marker\": {\"color\": \"#9a61b0\", \"line\": {\"color\": \"#5d69b1\", \"width\": 5}, \"size\": 5, \"symbol\": \"circle-dot\"}, \"mode\": \"lines+markers\", \"name\": \"Native CS 1A\", \"type\": \"scatter\", \"x\": [\"Week 2\", \"Week 3\", \"Week 4\", \"Week 5\", \"Week 6\", \"Week 7\", \"Week 8\", \"Week 9\"], \"y\": [4.038194444444445, 4.462633451957295, 4.73448275862069, 5.083623693379791, 5.176678445229682, 5.339160839160839, 5.176079734219269, 5.897058823529412]}, {\"marker\": {\"color\": \"#c7a302\", \"line\": {\"color\": \"#e58606\", \"width\": 5}, \"size\": 5, \"symbol\": \"square\"}, \"mode\": \"lines+markers\", \"name\": \"Transfer CS 1\", \"type\": \"scatter\", \"x\": [\"Week 2\", \"Week 3\", \"Week 4\", \"Week 5\", \"Week 6\", \"Week 7\", \"Week 8\", \"Week 9\"], \"y\": [1.8627450980392157, 1.891304347826087, 1.8297872340425532, 1.8863636363636365, 2.1041666666666665, 2.3488372093023258, 2.057142857142857, 2.0476190476190474]}, {\"marker\": {\"color\": \"#c7a302\", \"line\": {\"color\": \"#e58606\", \"width\": 5}, \"size\": 5, \"symbol\": \"circle-dot\"}, \"mode\": \"lines+markers\", \"name\": \"Native CS 1\", \"type\": \"scatter\", \"x\": [\"Week 2\", \"Week 3\", \"Week 4\", \"Week 5\", \"Week 6\", \"Week 7\", \"Week 8\", \"Week 9\"], \"y\": [2.5279329608938546, 2.8405405405405406, 2.9945205479452053, 3.1075581395348837, 3.297142857142857, 3.8983957219251337, 3.9266862170087977, 3.9194805194805196]}],\n",
       "                        {\"height\": 525, \"legend\": {\"title\": {\"text\": \"<b>Legend</b>\"}}, \"template\": {\"data\": {\"bar\": [{\"error_x\": {\"color\": \"#2a3f5f\"}, \"error_y\": {\"color\": \"#2a3f5f\"}, \"marker\": {\"line\": {\"color\": \"#E5ECF6\", \"width\": 0.5}}, \"type\": \"bar\"}], \"barpolar\": [{\"marker\": {\"line\": {\"color\": \"#E5ECF6\", \"width\": 0.5}}, \"type\": \"barpolar\"}], \"carpet\": [{\"aaxis\": {\"endlinecolor\": \"#2a3f5f\", \"gridcolor\": \"white\", \"linecolor\": \"white\", \"minorgridcolor\": \"white\", \"startlinecolor\": \"#2a3f5f\"}, \"baxis\": {\"endlinecolor\": \"#2a3f5f\", \"gridcolor\": \"white\", \"linecolor\": \"white\", \"minorgridcolor\": \"white\", \"startlinecolor\": \"#2a3f5f\"}, \"type\": \"carpet\"}], \"choropleth\": [{\"colorbar\": {\"outlinewidth\": 0, \"ticks\": \"\"}, \"type\": \"choropleth\"}], \"contour\": [{\"colorbar\": {\"outlinewidth\": 0, \"ticks\": \"\"}, \"colorscale\": [[0.0, \"#0d0887\"], [0.1111111111111111, \"#46039f\"], [0.2222222222222222, \"#7201a8\"], [0.3333333333333333, \"#9c179e\"], [0.4444444444444444, \"#bd3786\"], [0.5555555555555556, \"#d8576b\"], [0.6666666666666666, \"#ed7953\"], [0.7777777777777778, \"#fb9f3a\"], [0.8888888888888888, \"#fdca26\"], [1.0, \"#f0f921\"]], \"type\": \"contour\"}], \"contourcarpet\": [{\"colorbar\": {\"outlinewidth\": 0, \"ticks\": \"\"}, \"type\": \"contourcarpet\"}], \"heatmap\": [{\"colorbar\": {\"outlinewidth\": 0, \"ticks\": \"\"}, \"colorscale\": [[0.0, \"#0d0887\"], [0.1111111111111111, \"#46039f\"], [0.2222222222222222, \"#7201a8\"], [0.3333333333333333, \"#9c179e\"], [0.4444444444444444, \"#bd3786\"], [0.5555555555555556, \"#d8576b\"], [0.6666666666666666, \"#ed7953\"], [0.7777777777777778, \"#fb9f3a\"], [0.8888888888888888, \"#fdca26\"], [1.0, \"#f0f921\"]], \"type\": \"heatmap\"}], \"heatmapgl\": [{\"colorbar\": {\"outlinewidth\": 0, \"ticks\": \"\"}, \"colorscale\": [[0.0, \"#0d0887\"], [0.1111111111111111, \"#46039f\"], [0.2222222222222222, \"#7201a8\"], [0.3333333333333333, \"#9c179e\"], [0.4444444444444444, \"#bd3786\"], [0.5555555555555556, \"#d8576b\"], [0.6666666666666666, \"#ed7953\"], [0.7777777777777778, \"#fb9f3a\"], [0.8888888888888888, \"#fdca26\"], [1.0, \"#f0f921\"]], \"type\": \"heatmapgl\"}], \"histogram\": [{\"marker\": {\"colorbar\": {\"outlinewidth\": 0, \"ticks\": \"\"}}, \"type\": \"histogram\"}], \"histogram2d\": [{\"colorbar\": {\"outlinewidth\": 0, \"ticks\": \"\"}, \"colorscale\": [[0.0, \"#0d0887\"], [0.1111111111111111, \"#46039f\"], [0.2222222222222222, \"#7201a8\"], [0.3333333333333333, \"#9c179e\"], [0.4444444444444444, \"#bd3786\"], [0.5555555555555556, \"#d8576b\"], [0.6666666666666666, \"#ed7953\"], [0.7777777777777778, \"#fb9f3a\"], [0.8888888888888888, \"#fdca26\"], [1.0, \"#f0f921\"]], \"type\": \"histogram2d\"}], \"histogram2dcontour\": [{\"colorbar\": {\"outlinewidth\": 0, \"ticks\": \"\"}, \"colorscale\": [[0.0, \"#0d0887\"], [0.1111111111111111, \"#46039f\"], [0.2222222222222222, \"#7201a8\"], [0.3333333333333333, \"#9c179e\"], [0.4444444444444444, \"#bd3786\"], [0.5555555555555556, \"#d8576b\"], [0.6666666666666666, \"#ed7953\"], [0.7777777777777778, \"#fb9f3a\"], [0.8888888888888888, \"#fdca26\"], [1.0, \"#f0f921\"]], \"type\": \"histogram2dcontour\"}], \"mesh3d\": [{\"colorbar\": {\"outlinewidth\": 0, \"ticks\": \"\"}, \"type\": \"mesh3d\"}], \"parcoords\": [{\"line\": {\"colorbar\": {\"outlinewidth\": 0, \"ticks\": \"\"}}, \"type\": \"parcoords\"}], \"pie\": [{\"automargin\": true, \"type\": \"pie\"}], \"scatter\": [{\"marker\": {\"colorbar\": {\"outlinewidth\": 0, \"ticks\": \"\"}}, \"type\": \"scatter\"}], \"scatter3d\": [{\"line\": {\"colorbar\": {\"outlinewidth\": 0, \"ticks\": \"\"}}, \"marker\": {\"colorbar\": {\"outlinewidth\": 0, \"ticks\": \"\"}}, \"type\": \"scatter3d\"}], \"scattercarpet\": [{\"marker\": {\"colorbar\": {\"outlinewidth\": 0, \"ticks\": \"\"}}, \"type\": \"scattercarpet\"}], \"scattergeo\": [{\"marker\": {\"colorbar\": {\"outlinewidth\": 0, \"ticks\": \"\"}}, \"type\": \"scattergeo\"}], \"scattergl\": [{\"marker\": {\"colorbar\": {\"outlinewidth\": 0, \"ticks\": \"\"}}, \"type\": \"scattergl\"}], \"scattermapbox\": [{\"marker\": {\"colorbar\": {\"outlinewidth\": 0, \"ticks\": \"\"}}, \"type\": \"scattermapbox\"}], \"scatterpolar\": [{\"marker\": {\"colorbar\": {\"outlinewidth\": 0, \"ticks\": \"\"}}, \"type\": \"scatterpolar\"}], \"scatterpolargl\": [{\"marker\": {\"colorbar\": {\"outlinewidth\": 0, \"ticks\": \"\"}}, \"type\": \"scatterpolargl\"}], \"scatterternary\": [{\"marker\": {\"colorbar\": {\"outlinewidth\": 0, \"ticks\": \"\"}}, \"type\": \"scatterternary\"}], \"surface\": [{\"colorbar\": {\"outlinewidth\": 0, \"ticks\": \"\"}, \"colorscale\": [[0.0, \"#0d0887\"], [0.1111111111111111, \"#46039f\"], [0.2222222222222222, \"#7201a8\"], [0.3333333333333333, \"#9c179e\"], [0.4444444444444444, \"#bd3786\"], [0.5555555555555556, \"#d8576b\"], [0.6666666666666666, \"#ed7953\"], [0.7777777777777778, \"#fb9f3a\"], [0.8888888888888888, \"#fdca26\"], [1.0, \"#f0f921\"]], \"type\": \"surface\"}], \"table\": [{\"cells\": {\"fill\": {\"color\": \"#EBF0F8\"}, \"line\": {\"color\": \"white\"}}, \"header\": {\"fill\": {\"color\": \"#C8D4E3\"}, \"line\": {\"color\": \"white\"}}, \"type\": \"table\"}]}, \"layout\": {\"annotationdefaults\": {\"arrowcolor\": \"#2a3f5f\", \"arrowhead\": 0, \"arrowwidth\": 1}, \"coloraxis\": {\"colorbar\": {\"outlinewidth\": 0, \"ticks\": \"\"}}, \"colorscale\": {\"diverging\": [[0, \"#8e0152\"], [0.1, \"#c51b7d\"], [0.2, \"#de77ae\"], [0.3, \"#f1b6da\"], [0.4, \"#fde0ef\"], [0.5, \"#f7f7f7\"], [0.6, \"#e6f5d0\"], [0.7, \"#b8e186\"], [0.8, \"#7fbc41\"], [0.9, \"#4d9221\"], [1, \"#276419\"]], \"sequential\": [[0.0, \"#0d0887\"], [0.1111111111111111, \"#46039f\"], [0.2222222222222222, \"#7201a8\"], [0.3333333333333333, \"#9c179e\"], [0.4444444444444444, \"#bd3786\"], [0.5555555555555556, \"#d8576b\"], [0.6666666666666666, \"#ed7953\"], [0.7777777777777778, \"#fb9f3a\"], [0.8888888888888888, \"#fdca26\"], [1.0, \"#f0f921\"]], \"sequentialminus\": [[0.0, \"#0d0887\"], [0.1111111111111111, \"#46039f\"], [0.2222222222222222, \"#7201a8\"], [0.3333333333333333, \"#9c179e\"], [0.4444444444444444, \"#bd3786\"], [0.5555555555555556, \"#d8576b\"], [0.6666666666666666, \"#ed7953\"], [0.7777777777777778, \"#fb9f3a\"], [0.8888888888888888, \"#fdca26\"], [1.0, \"#f0f921\"]]}, \"colorway\": [\"#636efa\", \"#EF553B\", \"#00cc96\", \"#ab63fa\", \"#FFA15A\", \"#19d3f3\", \"#FF6692\", \"#B6E880\", \"#FF97FF\", \"#FECB52\"], \"font\": {\"color\": \"#2a3f5f\"}, \"geo\": {\"bgcolor\": \"white\", \"lakecolor\": \"white\", \"landcolor\": \"#E5ECF6\", \"showlakes\": true, \"showland\": true, \"subunitcolor\": \"white\"}, \"hoverlabel\": {\"align\": \"left\"}, \"hovermode\": \"closest\", \"mapbox\": {\"style\": \"light\"}, \"paper_bgcolor\": \"white\", \"plot_bgcolor\": \"#E5ECF6\", \"polar\": {\"angularaxis\": {\"gridcolor\": \"white\", \"linecolor\": \"white\", \"ticks\": \"\"}, \"bgcolor\": \"#E5ECF6\", \"radialaxis\": {\"gridcolor\": \"white\", \"linecolor\": \"white\", \"ticks\": \"\"}}, \"scene\": {\"xaxis\": {\"backgroundcolor\": \"#E5ECF6\", \"gridcolor\": \"white\", \"gridwidth\": 2, \"linecolor\": \"white\", \"showbackground\": true, \"ticks\": \"\", \"zerolinecolor\": \"white\"}, \"yaxis\": {\"backgroundcolor\": \"#E5ECF6\", \"gridcolor\": \"white\", \"gridwidth\": 2, \"linecolor\": \"white\", \"showbackground\": true, \"ticks\": \"\", \"zerolinecolor\": \"white\"}, \"zaxis\": {\"backgroundcolor\": \"#E5ECF6\", \"gridcolor\": \"white\", \"gridwidth\": 2, \"linecolor\": \"white\", \"showbackground\": true, \"ticks\": \"\", \"zerolinecolor\": \"white\"}}, \"shapedefaults\": {\"line\": {\"color\": \"#2a3f5f\"}}, \"ternary\": {\"aaxis\": {\"gridcolor\": \"white\", \"linecolor\": \"white\", \"ticks\": \"\"}, \"baxis\": {\"gridcolor\": \"white\", \"linecolor\": \"white\", \"ticks\": \"\"}, \"bgcolor\": \"#E5ECF6\", \"caxis\": {\"gridcolor\": \"white\", \"linecolor\": \"white\", \"ticks\": \"\"}}, \"title\": {\"x\": 0.05}, \"xaxis\": {\"automargin\": true, \"gridcolor\": \"white\", \"linecolor\": \"white\", \"ticks\": \"\", \"title\": {\"standoff\": 15}, \"zerolinecolor\": \"white\", \"zerolinewidth\": 2}, \"yaxis\": {\"automargin\": true, \"gridcolor\": \"white\", \"linecolor\": \"white\", \"ticks\": \"\", \"title\": {\"standoff\": 15}, \"zerolinecolor\": \"white\", \"zerolinewidth\": 2}}}, \"width\": 950, \"xaxis\": {\"title\": {\"text\": \"<b>Week</b>\"}}, \"yaxis\": {\"range\": [0, 6.25], \"title\": {\"text\": \"<b>Number of Students</b>\"}}},\n",
       "                        {\"responsive\": true}\n",
       "                    ).then(function(){\n",
       "                            \n",
       "var gd = document.getElementById('6b622fd8-2a83-4304-8984-d3248dc418b9');\n",
       "var x = new MutationObserver(function (mutations, observer) {{\n",
       "        var display = window.getComputedStyle(gd).display;\n",
       "        if (!display || display === 'none') {{\n",
       "            console.log([gd, 'removed!']);\n",
       "            Plotly.purge(gd);\n",
       "            observer.disconnect();\n",
       "        }}\n",
       "}});\n",
       "\n",
       "// Listen for the removal of the full notebook cells\n",
       "var notebookContainer = gd.closest('#notebook-container');\n",
       "if (notebookContainer) {{\n",
       "    x.observe(notebookContainer, {childList: true});\n",
       "}}\n",
       "\n",
       "// Listen for the clearing of the current output cell\n",
       "var outputEl = gd.closest('.output');\n",
       "if (outputEl) {{\n",
       "    x.observe(outputEl, {childList: true});\n",
       "}}\n",
       "\n",
       "                        })\n",
       "                };\n",
       "                });\n",
       "            </script>\n",
       "        </div>"
      ]
     },
     "metadata": {},
     "output_type": "display_data"
    }
   ],
   "source": [
    "fig = go.Figure(layout=go.Layout(yaxis=dict(range=[0,6.25])))\n",
    "\n",
    "fig.add_trace(go.Scatter(x=x_label2, y=df3[\"Transfer Mean\"],\n",
    "                    mode='lines+markers',\n",
    "                    name='Transfer CS 2',\n",
    "                    marker_symbol=\"square\",\n",
    "                    marker=dict(\n",
    "                        color='#69c6af',\n",
    "                        size=5,\n",
    "                        line=dict(\n",
    "                                color='#52bca3',\n",
    "                                width=5\n",
    "                            )\n",
    "                        )\n",
    "               ))\n",
    "fig.add_trace(go.Scatter(x=x_label2, y=df3[\"Native Mean\"],\n",
    "                    mode='lines+markers',\n",
    "                    name='Native CS 2',\n",
    "                    marker_symbol=\"circle-dot\",\n",
    "                    marker=dict(\n",
    "                        color='#69c6af',\n",
    "                        size=5,\n",
    "                        line=dict(\n",
    "                                color='#52bca3',\n",
    "                                width=5\n",
    "                            )\n",
    "                        )\n",
    "               ))\n",
    "\n",
    "fig.add_trace(go.Scatter(x=x_label1, y=df2[\"Transfer Mean\"],\n",
    "                    mode='lines+markers',\n",
    "                    name='Transfer CS 1A',\n",
    "                    marker_symbol=\"square\",\n",
    "                    marker=dict(\n",
    "                        color='#9a61b0',\n",
    "                        size=5,\n",
    "                        line=dict(\n",
    "                                color='#5d69b1',\n",
    "                                width=5\n",
    "                            )\n",
    "                        )\n",
    "               ))\n",
    "fig.add_trace(go.Scatter(x=x_label1, y=df2[\"Native Mean\"],\n",
    "                    mode='lines+markers',\n",
    "                    name='Native CS 1A',\n",
    "                    marker_symbol=\"circle-dot\",\n",
    "                    marker=dict(\n",
    "                        color='#9a61b0',\n",
    "                        size=5,\n",
    "                        line=dict(\n",
    "                                color='#5d69b1',\n",
    "                                width=5\n",
    "                            )\n",
    "                        )\n",
    "               ))\n",
    "\n",
    "fig.add_trace(go.Scatter(x=x_label1, y=df1[\"Transfer Mean\"],\n",
    "                    mode='lines+markers',\n",
    "                    name='Transfer CS 1',\n",
    "                    marker_symbol=\"square\",\n",
    "                    marker=dict(\n",
    "                        color='#c7a302',\n",
    "                        size=5,\n",
    "                        line=dict(\n",
    "                                color=\"#e58606\",\n",
    "                                width=5\n",
    "                            )\n",
    "                        )\n",
    "             ))\n",
    "fig.add_trace(go.Scatter(x=x_label1, y=df1[\"Native Mean\"],\n",
    "                    mode='lines+markers',\n",
    "                    name='Native CS 1',\n",
    "                    marker_symbol=\"circle-dot\",\n",
    "                    marker=dict(\n",
    "                        color='#c7a302',\n",
    "                        size=5,\n",
    "                        line=dict(\n",
    "                                color='#e58606',\n",
    "                                width=5\n",
    "                            )\n",
    "                        )\n",
    "               ))\n",
    "\n",
    "\n",
    "fig.update_layout(\n",
    "                  xaxis_title=\"<b>Week</b>\",\n",
    "                  height=525,\n",
    "                  width = 950,\n",
    "                  yaxis_title=\"<b>Number of Students</b>\",\n",
    "                  legend_title=\"<b>Legend</b>\",\n",
    "                 )\n",
    "\n",
    "\n",
    "fig.show()"
   ]
  }
 ],
 "metadata": {
  "kernelspec": {
   "display_name": "Python 3",
   "language": "python",
   "name": "python3"
  },
  "language_info": {
   "codemirror_mode": {
    "name": "ipython",
    "version": 3
   },
   "file_extension": ".py",
   "mimetype": "text/x-python",
   "name": "python",
   "nbconvert_exporter": "python",
   "pygments_lexer": "ipython3",
   "version": "3.7.6"
  }
 },
 "nbformat": 4,
 "nbformat_minor": 4
}
